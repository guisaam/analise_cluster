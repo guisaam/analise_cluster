{
 "cells": [
  {
   "cell_type": "markdown",
   "metadata": {},
   "source": [
    "# Preparando dados"
   ]
  },
  {
   "cell_type": "code",
   "execution_count": 331,
   "metadata": {},
   "outputs": [],
   "source": [
    "import pandas as pd"
   ]
  },
  {
   "cell_type": "code",
   "execution_count": 332,
   "metadata": {},
   "outputs": [],
   "source": [
    "estados = pd.read_csv('estados_brasileiros.csv', sep = ';', encoding = 'latin-1')"
   ]
  },
  {
   "cell_type": "code",
   "execution_count": 333,
   "metadata": {},
   "outputs": [
    {
     "data": {
      "text/html": [
       "<div>\n",
       "<style scoped>\n",
       "    .dataframe tbody tr th:only-of-type {\n",
       "        vertical-align: middle;\n",
       "    }\n",
       "\n",
       "    .dataframe tbody tr th {\n",
       "        vertical-align: top;\n",
       "    }\n",
       "\n",
       "    .dataframe thead th {\n",
       "        text-align: right;\n",
       "    }\n",
       "</style>\n",
       "<table border=\"1\" class=\"dataframe\">\n",
       "  <thead>\n",
       "    <tr style=\"text-align: right;\">\n",
       "      <th></th>\n",
       "      <th>id_estado</th>\n",
       "      <th>estado</th>\n",
       "      <th>sigla_estado</th>\n",
       "      <th>pais</th>\n",
       "    </tr>\n",
       "  </thead>\n",
       "  <tbody>\n",
       "    <tr>\n",
       "      <th>0</th>\n",
       "      <td>1</td>\n",
       "      <td>Acre</td>\n",
       "      <td>ac</td>\n",
       "      <td>Brasil</td>\n",
       "    </tr>\n",
       "    <tr>\n",
       "      <th>1</th>\n",
       "      <td>2</td>\n",
       "      <td>Alagoas</td>\n",
       "      <td>al</td>\n",
       "      <td>Brasil</td>\n",
       "    </tr>\n",
       "    <tr>\n",
       "      <th>2</th>\n",
       "      <td>3</td>\n",
       "      <td>Amapá</td>\n",
       "      <td>ap</td>\n",
       "      <td>Brasil</td>\n",
       "    </tr>\n",
       "    <tr>\n",
       "      <th>3</th>\n",
       "      <td>4</td>\n",
       "      <td>Amazonas</td>\n",
       "      <td>am</td>\n",
       "      <td>Brasil</td>\n",
       "    </tr>\n",
       "    <tr>\n",
       "      <th>4</th>\n",
       "      <td>5</td>\n",
       "      <td>Bahia</td>\n",
       "      <td>ba</td>\n",
       "      <td>Brasil</td>\n",
       "    </tr>\n",
       "  </tbody>\n",
       "</table>\n",
       "</div>"
      ],
      "text/plain": [
       "   id_estado    estado sigla_estado    pais\n",
       "0          1      Acre           ac  Brasil\n",
       "1          2   Alagoas           al  Brasil\n",
       "2          3     Amapá           ap  Brasil\n",
       "3          4  Amazonas           am  Brasil\n",
       "4          5     Bahia           ba  Brasil"
      ]
     },
     "execution_count": 333,
     "metadata": {},
     "output_type": "execute_result"
    }
   ],
   "source": [
    "estados.head()"
   ]
  },
  {
   "cell_type": "code",
   "execution_count": 334,
   "metadata": {},
   "outputs": [
    {
     "data": {
      "text/html": [
       "<div>\n",
       "<style scoped>\n",
       "    .dataframe tbody tr th:only-of-type {\n",
       "        vertical-align: middle;\n",
       "    }\n",
       "\n",
       "    .dataframe tbody tr th {\n",
       "        vertical-align: top;\n",
       "    }\n",
       "\n",
       "    .dataframe thead th {\n",
       "        text-align: right;\n",
       "    }\n",
       "</style>\n",
       "<table border=\"1\" class=\"dataframe\">\n",
       "  <thead>\n",
       "    <tr style=\"text-align: right;\">\n",
       "      <th></th>\n",
       "      <th>id_cliente</th>\n",
       "      <th>peso</th>\n",
       "      <th>colesterol</th>\n",
       "      <th>genero</th>\n",
       "      <th>id_estado</th>\n",
       "    </tr>\n",
       "  </thead>\n",
       "  <tbody>\n",
       "    <tr>\n",
       "      <th>0</th>\n",
       "      <td>1</td>\n",
       "      <td>102.0</td>\n",
       "      <td>111</td>\n",
       "      <td>Masculino</td>\n",
       "      <td>23</td>\n",
       "    </tr>\n",
       "    <tr>\n",
       "      <th>1</th>\n",
       "      <td>2</td>\n",
       "      <td>115.0</td>\n",
       "      <td>135</td>\n",
       "      <td>Masculino</td>\n",
       "      <td>7</td>\n",
       "    </tr>\n",
       "    <tr>\n",
       "      <th>2</th>\n",
       "      <td>3</td>\n",
       "      <td>115.0</td>\n",
       "      <td>136</td>\n",
       "      <td>Masculino</td>\n",
       "      <td>4</td>\n",
       "    </tr>\n",
       "    <tr>\n",
       "      <th>3</th>\n",
       "      <td>4</td>\n",
       "      <td>140.0</td>\n",
       "      <td>167</td>\n",
       "      <td>Feminino</td>\n",
       "      <td>24</td>\n",
       "    </tr>\n",
       "    <tr>\n",
       "      <th>4</th>\n",
       "      <td>5</td>\n",
       "      <td>130.0</td>\n",
       "      <td>158</td>\n",
       "      <td>Masculino</td>\n",
       "      <td>26</td>\n",
       "    </tr>\n",
       "  </tbody>\n",
       "</table>\n",
       "</div>"
      ],
      "text/plain": [
       "   id_cliente   peso  colesterol     genero  id_estado\n",
       "0           1  102.0         111  Masculino         23\n",
       "1           2  115.0         135  Masculino          7\n",
       "2           3  115.0         136  Masculino          4\n",
       "3           4  140.0         167   Feminino         24\n",
       "4           5  130.0         158  Masculino         26"
      ]
     },
     "execution_count": 334,
     "metadata": {},
     "output_type": "execute_result"
    }
   ],
   "source": [
    "clientes = pd.read_excel('dados_clientes.xlsx')\n",
    "clientes.head()"
   ]
  },
  {
   "cell_type": "code",
   "execution_count": 335,
   "metadata": {},
   "outputs": [
    {
     "data": {
      "text/html": [
       "<div>\n",
       "<style scoped>\n",
       "    .dataframe tbody tr th:only-of-type {\n",
       "        vertical-align: middle;\n",
       "    }\n",
       "\n",
       "    .dataframe tbody tr th {\n",
       "        vertical-align: top;\n",
       "    }\n",
       "\n",
       "    .dataframe thead th {\n",
       "        text-align: right;\n",
       "    }\n",
       "</style>\n",
       "<table border=\"1\" class=\"dataframe\">\n",
       "  <thead>\n",
       "    <tr style=\"text-align: right;\">\n",
       "      <th></th>\n",
       "      <th>id_cliente</th>\n",
       "      <th>idade</th>\n",
       "    </tr>\n",
       "  </thead>\n",
       "  <tbody>\n",
       "    <tr>\n",
       "      <th>0</th>\n",
       "      <td>1</td>\n",
       "      <td>17</td>\n",
       "    </tr>\n",
       "    <tr>\n",
       "      <th>1</th>\n",
       "      <td>2</td>\n",
       "      <td>28</td>\n",
       "    </tr>\n",
       "    <tr>\n",
       "      <th>2</th>\n",
       "      <td>3</td>\n",
       "      <td>62</td>\n",
       "    </tr>\n",
       "    <tr>\n",
       "      <th>3</th>\n",
       "      <td>4</td>\n",
       "      <td>55</td>\n",
       "    </tr>\n",
       "    <tr>\n",
       "      <th>4</th>\n",
       "      <td>5</td>\n",
       "      <td>44</td>\n",
       "    </tr>\n",
       "  </tbody>\n",
       "</table>\n",
       "</div>"
      ],
      "text/plain": [
       "   id_cliente  idade\n",
       "0           1     17\n",
       "1           2     28\n",
       "2           3     62\n",
       "3           4     55\n",
       "4           5     44"
      ]
     },
     "execution_count": 335,
     "metadata": {},
     "output_type": "execute_result"
    }
   ],
   "source": [
    "idade = pd.read_csv('idade_clientes.csv', sep = ';', encoding = 'latin-1')\n",
    "idade.head()"
   ]
  },
  {
   "cell_type": "markdown",
   "metadata": {},
   "source": [
    "## analisando dados"
   ]
  },
  {
   "cell_type": "code",
   "execution_count": 336,
   "metadata": {},
   "outputs": [
    {
     "name": "stdout",
     "output_type": "stream",
     "text": [
      "<class 'pandas.core.frame.DataFrame'>\n",
      "RangeIndex: 547 entries, 0 to 546\n",
      "Data columns (total 5 columns):\n",
      " #   Column      Non-Null Count  Dtype  \n",
      "---  ------      --------------  -----  \n",
      " 0   id_cliente  547 non-null    int64  \n",
      " 1   peso        542 non-null    float64\n",
      " 2   colesterol  547 non-null    int64  \n",
      " 3   genero      547 non-null    object \n",
      " 4   id_estado   547 non-null    int64  \n",
      "dtypes: float64(1), int64(3), object(1)\n",
      "memory usage: 21.5+ KB\n"
     ]
    }
   ],
   "source": [
    "clientes.info()"
   ]
  },
  {
   "cell_type": "code",
   "execution_count": 337,
   "metadata": {},
   "outputs": [
    {
     "data": {
      "text/html": [
       "<div>\n",
       "<style scoped>\n",
       "    .dataframe tbody tr th:only-of-type {\n",
       "        vertical-align: middle;\n",
       "    }\n",
       "\n",
       "    .dataframe tbody tr th {\n",
       "        vertical-align: top;\n",
       "    }\n",
       "\n",
       "    .dataframe thead th {\n",
       "        text-align: right;\n",
       "    }\n",
       "</style>\n",
       "<table border=\"1\" class=\"dataframe\">\n",
       "  <thead>\n",
       "    <tr style=\"text-align: right;\">\n",
       "      <th></th>\n",
       "      <th>id_cliente</th>\n",
       "      <th>peso</th>\n",
       "      <th>colesterol</th>\n",
       "      <th>id_estado</th>\n",
       "    </tr>\n",
       "  </thead>\n",
       "  <tbody>\n",
       "    <tr>\n",
       "      <th>count</th>\n",
       "      <td>547.00000</td>\n",
       "      <td>542.000000</td>\n",
       "      <td>547.000000</td>\n",
       "      <td>547.000000</td>\n",
       "    </tr>\n",
       "    <tr>\n",
       "      <th>mean</th>\n",
       "      <td>274.00000</td>\n",
       "      <td>143.440959</td>\n",
       "      <td>170.433272</td>\n",
       "      <td>13.833638</td>\n",
       "    </tr>\n",
       "    <tr>\n",
       "      <th>std</th>\n",
       "      <td>158.04957</td>\n",
       "      <td>30.836868</td>\n",
       "      <td>39.147189</td>\n",
       "      <td>7.593117</td>\n",
       "    </tr>\n",
       "    <tr>\n",
       "      <th>min</th>\n",
       "      <td>1.00000</td>\n",
       "      <td>95.000000</td>\n",
       "      <td>102.000000</td>\n",
       "      <td>1.000000</td>\n",
       "    </tr>\n",
       "    <tr>\n",
       "      <th>25%</th>\n",
       "      <td>137.50000</td>\n",
       "      <td>116.000000</td>\n",
       "      <td>136.000000</td>\n",
       "      <td>7.000000</td>\n",
       "    </tr>\n",
       "    <tr>\n",
       "      <th>50%</th>\n",
       "      <td>274.00000</td>\n",
       "      <td>140.000000</td>\n",
       "      <td>169.000000</td>\n",
       "      <td>13.000000</td>\n",
       "    </tr>\n",
       "    <tr>\n",
       "      <th>75%</th>\n",
       "      <td>410.50000</td>\n",
       "      <td>171.000000</td>\n",
       "      <td>208.000000</td>\n",
       "      <td>20.000000</td>\n",
       "    </tr>\n",
       "    <tr>\n",
       "      <th>max</th>\n",
       "      <td>547.00000</td>\n",
       "      <td>203.000000</td>\n",
       "      <td>235.000000</td>\n",
       "      <td>27.000000</td>\n",
       "    </tr>\n",
       "  </tbody>\n",
       "</table>\n",
       "</div>"
      ],
      "text/plain": [
       "       id_cliente        peso  colesterol   id_estado\n",
       "count   547.00000  542.000000  547.000000  547.000000\n",
       "mean    274.00000  143.440959  170.433272   13.833638\n",
       "std     158.04957   30.836868   39.147189    7.593117\n",
       "min       1.00000   95.000000  102.000000    1.000000\n",
       "25%     137.50000  116.000000  136.000000    7.000000\n",
       "50%     274.00000  140.000000  169.000000   13.000000\n",
       "75%     410.50000  171.000000  208.000000   20.000000\n",
       "max     547.00000  203.000000  235.000000   27.000000"
      ]
     },
     "execution_count": 337,
     "metadata": {},
     "output_type": "execute_result"
    }
   ],
   "source": [
    "clientes.describe()"
   ]
  },
  {
   "cell_type": "code",
   "execution_count": 338,
   "metadata": {},
   "outputs": [
    {
     "name": "stdout",
     "output_type": "stream",
     "text": [
      "<class 'pandas.core.frame.DataFrame'>\n",
      "RangeIndex: 27 entries, 0 to 26\n",
      "Data columns (total 4 columns):\n",
      " #   Column        Non-Null Count  Dtype \n",
      "---  ------        --------------  ----- \n",
      " 0   id_estado     27 non-null     int64 \n",
      " 1   estado        27 non-null     object\n",
      " 2   sigla_estado  27 non-null     object\n",
      " 3   pais          25 non-null     object\n",
      "dtypes: int64(1), object(3)\n",
      "memory usage: 992.0+ bytes\n"
     ]
    }
   ],
   "source": [
    "estados.info()"
   ]
  },
  {
   "cell_type": "code",
   "execution_count": 339,
   "metadata": {},
   "outputs": [
    {
     "name": "stdout",
     "output_type": "stream",
     "text": [
      "<class 'pandas.core.frame.DataFrame'>\n",
      "RangeIndex: 547 entries, 0 to 546\n",
      "Data columns (total 2 columns):\n",
      " #   Column      Non-Null Count  Dtype\n",
      "---  ------      --------------  -----\n",
      " 0   id_cliente  547 non-null    int64\n",
      " 1   idade       547 non-null    int64\n",
      "dtypes: int64(2)\n",
      "memory usage: 8.7 KB\n"
     ]
    }
   ],
   "source": [
    "idade.info()"
   ]
  },
  {
   "cell_type": "code",
   "execution_count": 340,
   "metadata": {},
   "outputs": [
    {
     "data": {
      "text/html": [
       "<div>\n",
       "<style scoped>\n",
       "    .dataframe tbody tr th:only-of-type {\n",
       "        vertical-align: middle;\n",
       "    }\n",
       "\n",
       "    .dataframe tbody tr th {\n",
       "        vertical-align: top;\n",
       "    }\n",
       "\n",
       "    .dataframe thead th {\n",
       "        text-align: right;\n",
       "    }\n",
       "</style>\n",
       "<table border=\"1\" class=\"dataframe\">\n",
       "  <thead>\n",
       "    <tr style=\"text-align: right;\">\n",
       "      <th></th>\n",
       "      <th>id_cliente</th>\n",
       "      <th>idade</th>\n",
       "    </tr>\n",
       "  </thead>\n",
       "  <tbody>\n",
       "    <tr>\n",
       "      <th>count</th>\n",
       "      <td>547.00000</td>\n",
       "      <td>547.000000</td>\n",
       "    </tr>\n",
       "    <tr>\n",
       "      <th>mean</th>\n",
       "      <td>274.00000</td>\n",
       "      <td>42.791590</td>\n",
       "    </tr>\n",
       "    <tr>\n",
       "      <th>std</th>\n",
       "      <td>158.04957</td>\n",
       "      <td>15.160209</td>\n",
       "    </tr>\n",
       "    <tr>\n",
       "      <th>min</th>\n",
       "      <td>1.00000</td>\n",
       "      <td>16.000000</td>\n",
       "    </tr>\n",
       "    <tr>\n",
       "      <th>25%</th>\n",
       "      <td>137.50000</td>\n",
       "      <td>30.000000</td>\n",
       "    </tr>\n",
       "    <tr>\n",
       "      <th>50%</th>\n",
       "      <td>274.00000</td>\n",
       "      <td>42.000000</td>\n",
       "    </tr>\n",
       "    <tr>\n",
       "      <th>75%</th>\n",
       "      <td>410.50000</td>\n",
       "      <td>55.000000</td>\n",
       "    </tr>\n",
       "    <tr>\n",
       "      <th>max</th>\n",
       "      <td>547.00000</td>\n",
       "      <td>70.000000</td>\n",
       "    </tr>\n",
       "  </tbody>\n",
       "</table>\n",
       "</div>"
      ],
      "text/plain": [
       "       id_cliente       idade\n",
       "count   547.00000  547.000000\n",
       "mean    274.00000   42.791590\n",
       "std     158.04957   15.160209\n",
       "min       1.00000   16.000000\n",
       "25%     137.50000   30.000000\n",
       "50%     274.00000   42.000000\n",
       "75%     410.50000   55.000000\n",
       "max     547.00000   70.000000"
      ]
     },
     "execution_count": 340,
     "metadata": {},
     "output_type": "execute_result"
    }
   ],
   "source": [
    "idade.describe()"
   ]
  },
  {
   "cell_type": "markdown",
   "metadata": {},
   "source": [
    "## analisando dados ausentes"
   ]
  },
  {
   "cell_type": "code",
   "execution_count": 341,
   "metadata": {},
   "outputs": [
    {
     "data": {
      "text/plain": [
       "id_estado       0\n",
       "estado          0\n",
       "sigla_estado    0\n",
       "pais            2\n",
       "dtype: int64"
      ]
     },
     "execution_count": 341,
     "metadata": {},
     "output_type": "execute_result"
    }
   ],
   "source": [
    "# verifica valores ausentes na base\n",
    "estados.isna().sum()"
   ]
  },
  {
   "cell_type": "code",
   "execution_count": 342,
   "metadata": {},
   "outputs": [
    {
     "data": {
      "text/plain": [
       "id_cliente    0\n",
       "peso          5\n",
       "colesterol    0\n",
       "genero        0\n",
       "id_estado     0\n",
       "dtype: int64"
      ]
     },
     "execution_count": 342,
     "metadata": {},
     "output_type": "execute_result"
    }
   ],
   "source": [
    "clientes.isna().sum()"
   ]
  },
  {
   "cell_type": "code",
   "execution_count": 343,
   "metadata": {},
   "outputs": [
    {
     "data": {
      "text/plain": [
       "id_cliente    0\n",
       "idade         0\n",
       "dtype: int64"
      ]
     },
     "execution_count": 343,
     "metadata": {},
     "output_type": "execute_result"
    }
   ],
   "source": [
    "idade.isna().sum()"
   ]
  },
  {
   "cell_type": "code",
   "execution_count": 344,
   "metadata": {},
   "outputs": [
    {
     "data": {
      "text/html": [
       "<div>\n",
       "<style scoped>\n",
       "    .dataframe tbody tr th:only-of-type {\n",
       "        vertical-align: middle;\n",
       "    }\n",
       "\n",
       "    .dataframe tbody tr th {\n",
       "        vertical-align: top;\n",
       "    }\n",
       "\n",
       "    .dataframe thead th {\n",
       "        text-align: right;\n",
       "    }\n",
       "</style>\n",
       "<table border=\"1\" class=\"dataframe\">\n",
       "  <thead>\n",
       "    <tr style=\"text-align: right;\">\n",
       "      <th></th>\n",
       "      <th>id_cliente</th>\n",
       "      <th>peso</th>\n",
       "      <th>colesterol</th>\n",
       "      <th>genero</th>\n",
       "      <th>id_estado</th>\n",
       "    </tr>\n",
       "  </thead>\n",
       "  <tbody>\n",
       "    <tr>\n",
       "      <th>63</th>\n",
       "      <td>64</td>\n",
       "      <td>NaN</td>\n",
       "      <td>211</td>\n",
       "      <td>Masculino</td>\n",
       "      <td>12</td>\n",
       "    </tr>\n",
       "    <tr>\n",
       "      <th>101</th>\n",
       "      <td>102</td>\n",
       "      <td>NaN</td>\n",
       "      <td>230</td>\n",
       "      <td>Feminino</td>\n",
       "      <td>24</td>\n",
       "    </tr>\n",
       "    <tr>\n",
       "      <th>146</th>\n",
       "      <td>147</td>\n",
       "      <td>NaN</td>\n",
       "      <td>171</td>\n",
       "      <td>Masculino</td>\n",
       "      <td>23</td>\n",
       "    </tr>\n",
       "    <tr>\n",
       "      <th>195</th>\n",
       "      <td>196</td>\n",
       "      <td>NaN</td>\n",
       "      <td>143</td>\n",
       "      <td>Feminino</td>\n",
       "      <td>15</td>\n",
       "    </tr>\n",
       "    <tr>\n",
       "      <th>215</th>\n",
       "      <td>216</td>\n",
       "      <td>NaN</td>\n",
       "      <td>180</td>\n",
       "      <td>Masculino</td>\n",
       "      <td>13</td>\n",
       "    </tr>\n",
       "  </tbody>\n",
       "</table>\n",
       "</div>"
      ],
      "text/plain": [
       "     id_cliente  peso  colesterol     genero  id_estado\n",
       "63           64   NaN         211  Masculino         12\n",
       "101         102   NaN         230   Feminino         24\n",
       "146         147   NaN         171  Masculino         23\n",
       "195         196   NaN         143   Feminino         15\n",
       "215         216   NaN         180  Masculino         13"
      ]
     },
     "execution_count": 344,
     "metadata": {},
     "output_type": "execute_result"
    }
   ],
   "source": [
    "#verificando os registros com valores nulos\n",
    "clientes.loc[clientes['peso'].isnull()]"
   ]
  },
  {
   "cell_type": "markdown",
   "metadata": {},
   "source": [
    "## eliminando dados ausentes"
   ]
  },
  {
   "cell_type": "code",
   "execution_count": 345,
   "metadata": {},
   "outputs": [],
   "source": [
    "clientes.dropna(subset=['peso'], inplace=True)"
   ]
  },
  {
   "cell_type": "code",
   "execution_count": 346,
   "metadata": {},
   "outputs": [
    {
     "data": {
      "text/plain": [
       "id_cliente    0\n",
       "peso          0\n",
       "colesterol    0\n",
       "genero        0\n",
       "id_estado     0\n",
       "dtype: int64"
      ]
     },
     "execution_count": 346,
     "metadata": {},
     "output_type": "execute_result"
    }
   ],
   "source": [
    "clientes.isna().sum()"
   ]
  },
  {
   "cell_type": "code",
   "execution_count": 347,
   "metadata": {},
   "outputs": [
    {
     "data": {
      "text/plain": [
       "id_cliente    542\n",
       "peso          542\n",
       "colesterol    542\n",
       "genero        542\n",
       "id_estado     542\n",
       "dtype: int64"
      ]
     },
     "execution_count": 347,
     "metadata": {},
     "output_type": "execute_result"
    }
   ],
   "source": [
    "clientes.count()"
   ]
  },
  {
   "cell_type": "code",
   "execution_count": 348,
   "metadata": {},
   "outputs": [],
   "source": [
    "estados.dropna(subset=['pais'], inplace=True)\n"
   ]
  },
  {
   "cell_type": "markdown",
   "metadata": {},
   "source": [
    "## alterando por media e mediana"
   ]
  },
  {
   "cell_type": "code",
   "execution_count": 20,
   "metadata": {},
   "outputs": [
    {
     "data": {
      "text/html": [
       "<div>\n",
       "<style scoped>\n",
       "    .dataframe tbody tr th:only-of-type {\n",
       "        vertical-align: middle;\n",
       "    }\n",
       "\n",
       "    .dataframe tbody tr th {\n",
       "        vertical-align: top;\n",
       "    }\n",
       "\n",
       "    .dataframe thead th {\n",
       "        text-align: right;\n",
       "    }\n",
       "</style>\n",
       "<table border=\"1\" class=\"dataframe\">\n",
       "  <thead>\n",
       "    <tr style=\"text-align: right;\">\n",
       "      <th></th>\n",
       "      <th>id_cliente</th>\n",
       "      <th>peso</th>\n",
       "      <th>colesterol</th>\n",
       "      <th>id_estado</th>\n",
       "    </tr>\n",
       "  </thead>\n",
       "  <tbody>\n",
       "    <tr>\n",
       "      <th>count</th>\n",
       "      <td>547.00000</td>\n",
       "      <td>542.000000</td>\n",
       "      <td>547.000000</td>\n",
       "      <td>547.000000</td>\n",
       "    </tr>\n",
       "    <tr>\n",
       "      <th>mean</th>\n",
       "      <td>274.00000</td>\n",
       "      <td>143.440959</td>\n",
       "      <td>170.433272</td>\n",
       "      <td>13.833638</td>\n",
       "    </tr>\n",
       "    <tr>\n",
       "      <th>std</th>\n",
       "      <td>158.04957</td>\n",
       "      <td>30.836868</td>\n",
       "      <td>39.147189</td>\n",
       "      <td>7.593117</td>\n",
       "    </tr>\n",
       "    <tr>\n",
       "      <th>min</th>\n",
       "      <td>1.00000</td>\n",
       "      <td>95.000000</td>\n",
       "      <td>102.000000</td>\n",
       "      <td>1.000000</td>\n",
       "    </tr>\n",
       "    <tr>\n",
       "      <th>25%</th>\n",
       "      <td>137.50000</td>\n",
       "      <td>116.000000</td>\n",
       "      <td>136.000000</td>\n",
       "      <td>7.000000</td>\n",
       "    </tr>\n",
       "    <tr>\n",
       "      <th>50%</th>\n",
       "      <td>274.00000</td>\n",
       "      <td>140.000000</td>\n",
       "      <td>169.000000</td>\n",
       "      <td>13.000000</td>\n",
       "    </tr>\n",
       "    <tr>\n",
       "      <th>75%</th>\n",
       "      <td>410.50000</td>\n",
       "      <td>171.000000</td>\n",
       "      <td>208.000000</td>\n",
       "      <td>20.000000</td>\n",
       "    </tr>\n",
       "    <tr>\n",
       "      <th>max</th>\n",
       "      <td>547.00000</td>\n",
       "      <td>203.000000</td>\n",
       "      <td>235.000000</td>\n",
       "      <td>27.000000</td>\n",
       "    </tr>\n",
       "  </tbody>\n",
       "</table>\n",
       "</div>"
      ],
      "text/plain": [
       "       id_cliente        peso  colesterol   id_estado\n",
       "count   547.00000  542.000000  547.000000  547.000000\n",
       "mean    274.00000  143.440959  170.433272   13.833638\n",
       "std     158.04957   30.836868   39.147189    7.593117\n",
       "min       1.00000   95.000000  102.000000    1.000000\n",
       "25%     137.50000  116.000000  136.000000    7.000000\n",
       "50%     274.00000  140.000000  169.000000   13.000000\n",
       "75%     410.50000  171.000000  208.000000   20.000000\n",
       "max     547.00000  203.000000  235.000000   27.000000"
      ]
     },
     "execution_count": 20,
     "metadata": {},
     "output_type": "execute_result"
    }
   ],
   "source": [
    "clientes.describe()"
   ]
  },
  {
   "cell_type": "code",
   "execution_count": 21,
   "metadata": {},
   "outputs": [],
   "source": [
    "media = clientes.peso.mean()\n",
    "mediana = clientes.peso.median()"
   ]
  },
  {
   "cell_type": "code",
   "execution_count": 23,
   "metadata": {},
   "outputs": [
    {
     "name": "stdout",
     "output_type": "stream",
     "text": [
      "média: 143.4409594095941, mediana:140.0\n"
     ]
    }
   ],
   "source": [
    "print(f'média: {media}, mediana:{mediana}')"
   ]
  },
  {
   "cell_type": "code",
   "execution_count": 24,
   "metadata": {},
   "outputs": [
    {
     "data": {
      "text/plain": [
       "143.44"
      ]
     },
     "execution_count": 24,
     "metadata": {},
     "output_type": "execute_result"
    }
   ],
   "source": [
    "round(media, 2)"
   ]
  },
  {
   "cell_type": "code",
   "execution_count": 25,
   "metadata": {},
   "outputs": [],
   "source": [
    "clientes.peso.fillna(round(media, 2), inplace=True)\n"
   ]
  },
  {
   "cell_type": "code",
   "execution_count": 27,
   "metadata": {},
   "outputs": [
    {
     "data": {
      "text/plain": [
       "id_cliente    0\n",
       "peso          0\n",
       "colesterol    0\n",
       "genero        0\n",
       "id_estado     0\n",
       "dtype: int64"
      ]
     },
     "execution_count": 27,
     "metadata": {},
     "output_type": "execute_result"
    }
   ],
   "source": [
    "clientes.isna().sum()"
   ]
  },
  {
   "cell_type": "code",
   "execution_count": 28,
   "metadata": {},
   "outputs": [
    {
     "data": {
      "text/plain": [
       "id_cliente    547\n",
       "peso          547\n",
       "colesterol    547\n",
       "genero        547\n",
       "id_estado     547\n",
       "dtype: int64"
      ]
     },
     "execution_count": 28,
     "metadata": {},
     "output_type": "execute_result"
    }
   ],
   "source": [
    "clientes.count()"
   ]
  },
  {
   "cell_type": "markdown",
   "metadata": {},
   "source": [
    "## preenchendo país"
   ]
  },
  {
   "cell_type": "code",
   "execution_count": 263,
   "metadata": {},
   "outputs": [
    {
     "name": "stdout",
     "output_type": "stream",
     "text": [
      "Brasil    25\n",
      "Name: pais, dtype: int64\n"
     ]
    }
   ],
   "source": [
    "print(estados.pais.value_counts())"
   ]
  },
  {
   "cell_type": "code",
   "execution_count": 264,
   "metadata": {},
   "outputs": [],
   "source": [
    "estados.pais.fillna('Brasil', inplace=True)"
   ]
  },
  {
   "cell_type": "code",
   "execution_count": 284,
   "metadata": {},
   "outputs": [
    {
     "data": {
      "text/plain": [
       "id_estado       0\n",
       "estado          0\n",
       "sigla_estado    0\n",
       "pais            0\n",
       "dtype: int64"
      ]
     },
     "execution_count": 284,
     "metadata": {},
     "output_type": "execute_result"
    }
   ],
   "source": [
    "estados.isna().sum()"
   ]
  },
  {
   "cell_type": "markdown",
   "metadata": {},
   "source": [
    "## analisando distribuição de dados"
   ]
  },
  {
   "cell_type": "code",
   "execution_count": 349,
   "metadata": {},
   "outputs": [],
   "source": [
    "import matplotlib.pyplot as plt"
   ]
  },
  {
   "cell_type": "code",
   "execution_count": 350,
   "metadata": {},
   "outputs": [
    {
     "data": {
      "image/png": "[encoded data removed]",
      "text/plain": [
       "<Figure size 1080x504 with 1 Axes>"
      ]
     },
     "metadata": {
      "needs_background": "light"
     },
     "output_type": "display_data"
    }
   ],
   "source": [
    "clientes.hist(column='peso', figsize=(15, 7))\n",
    "plt.show()"
   ]
  },
  {
   "cell_type": "code",
   "execution_count": 351,
   "metadata": {},
   "outputs": [
    {
     "data": {
      "image/png": "[encoded data removed]",
      "text/plain": [
       "<Figure size 1080x504 with 1 Axes>"
      ]
     },
     "metadata": {
      "needs_background": "light"
     },
     "output_type": "display_data"
    }
   ],
   "source": [
    "clientes.hist(column='peso', figsize=(15,7),bins=30)\n",
    "plt.show()"
   ]
  },
  {
   "cell_type": "code",
   "execution_count": 352,
   "metadata": {},
   "outputs": [
    {
     "data": {
      "text/plain": [
       "array([[<AxesSubplot:title={'center':'colesterol'}>]], dtype=object)"
      ]
     },
     "execution_count": 352,
     "metadata": {},
     "output_type": "execute_result"
    },
    {
     "data": {
      "image/png": "[encoded data removed]",
      "text/plain": [
       "<Figure size 1080x504 with 1 Axes>"
      ]
     },
     "metadata": {
      "needs_background": "light"
     },
     "output_type": "display_data"
    }
   ],
   "source": [
    "clientes.hist(column='colesterol', figsize=(15,7), bins=100)"
   ]
  },
  {
   "cell_type": "code",
   "execution_count": 353,
   "metadata": {},
   "outputs": [],
   "source": [
    "# criando um identificador para a variável gênero\n",
    "\n",
    "from sklearn.preprocessing import LabelEncoder\n",
    "\n",
    "LE = LabelEncoder()\n",
    "clientes['genero_number'] = LE.fit_transform(clientes['genero'])"
   ]
  },
  {
   "cell_type": "code",
   "execution_count": 354,
   "metadata": {},
   "outputs": [
    {
     "data": {
      "text/html": [
       "<div>\n",
       "<style scoped>\n",
       "    .dataframe tbody tr th:only-of-type {\n",
       "        vertical-align: middle;\n",
       "    }\n",
       "\n",
       "    .dataframe tbody tr th {\n",
       "        vertical-align: top;\n",
       "    }\n",
       "\n",
       "    .dataframe thead th {\n",
       "        text-align: right;\n",
       "    }\n",
       "</style>\n",
       "<table border=\"1\" class=\"dataframe\">\n",
       "  <thead>\n",
       "    <tr style=\"text-align: right;\">\n",
       "      <th></th>\n",
       "      <th>id_cliente</th>\n",
       "      <th>peso</th>\n",
       "      <th>colesterol</th>\n",
       "      <th>genero</th>\n",
       "      <th>id_estado</th>\n",
       "      <th>genero_number</th>\n",
       "    </tr>\n",
       "  </thead>\n",
       "  <tbody>\n",
       "    <tr>\n",
       "      <th>0</th>\n",
       "      <td>1</td>\n",
       "      <td>102.0</td>\n",
       "      <td>111</td>\n",
       "      <td>Masculino</td>\n",
       "      <td>23</td>\n",
       "      <td>1</td>\n",
       "    </tr>\n",
       "    <tr>\n",
       "      <th>1</th>\n",
       "      <td>2</td>\n",
       "      <td>115.0</td>\n",
       "      <td>135</td>\n",
       "      <td>Masculino</td>\n",
       "      <td>7</td>\n",
       "      <td>1</td>\n",
       "    </tr>\n",
       "    <tr>\n",
       "      <th>2</th>\n",
       "      <td>3</td>\n",
       "      <td>115.0</td>\n",
       "      <td>136</td>\n",
       "      <td>Masculino</td>\n",
       "      <td>4</td>\n",
       "      <td>1</td>\n",
       "    </tr>\n",
       "    <tr>\n",
       "      <th>3</th>\n",
       "      <td>4</td>\n",
       "      <td>140.0</td>\n",
       "      <td>167</td>\n",
       "      <td>Feminino</td>\n",
       "      <td>24</td>\n",
       "      <td>0</td>\n",
       "    </tr>\n",
       "    <tr>\n",
       "      <th>4</th>\n",
       "      <td>5</td>\n",
       "      <td>130.0</td>\n",
       "      <td>158</td>\n",
       "      <td>Masculino</td>\n",
       "      <td>26</td>\n",
       "      <td>1</td>\n",
       "    </tr>\n",
       "    <tr>\n",
       "      <th>...</th>\n",
       "      <td>...</td>\n",
       "      <td>...</td>\n",
       "      <td>...</td>\n",
       "      <td>...</td>\n",
       "      <td>...</td>\n",
       "      <td>...</td>\n",
       "    </tr>\n",
       "    <tr>\n",
       "      <th>542</th>\n",
       "      <td>543</td>\n",
       "      <td>172.0</td>\n",
       "      <td>207</td>\n",
       "      <td>Masculino</td>\n",
       "      <td>22</td>\n",
       "      <td>1</td>\n",
       "    </tr>\n",
       "    <tr>\n",
       "      <th>543</th>\n",
       "      <td>544</td>\n",
       "      <td>129.0</td>\n",
       "      <td>157</td>\n",
       "      <td>Masculino</td>\n",
       "      <td>1</td>\n",
       "      <td>1</td>\n",
       "    </tr>\n",
       "    <tr>\n",
       "      <th>544</th>\n",
       "      <td>545</td>\n",
       "      <td>107.0</td>\n",
       "      <td>115</td>\n",
       "      <td>Masculino</td>\n",
       "      <td>6</td>\n",
       "      <td>1</td>\n",
       "    </tr>\n",
       "    <tr>\n",
       "      <th>545</th>\n",
       "      <td>546</td>\n",
       "      <td>117.0</td>\n",
       "      <td>147</td>\n",
       "      <td>Masculino</td>\n",
       "      <td>20</td>\n",
       "      <td>1</td>\n",
       "    </tr>\n",
       "    <tr>\n",
       "      <th>546</th>\n",
       "      <td>547</td>\n",
       "      <td>148.0</td>\n",
       "      <td>176</td>\n",
       "      <td>Masculino</td>\n",
       "      <td>8</td>\n",
       "      <td>1</td>\n",
       "    </tr>\n",
       "  </tbody>\n",
       "</table>\n",
       "<p>542 rows × 6 columns</p>\n",
       "</div>"
      ],
      "text/plain": [
       "     id_cliente   peso  colesterol     genero  id_estado  genero_number\n",
       "0             1  102.0         111  Masculino         23              1\n",
       "1             2  115.0         135  Masculino          7              1\n",
       "2             3  115.0         136  Masculino          4              1\n",
       "3             4  140.0         167   Feminino         24              0\n",
       "4             5  130.0         158  Masculino         26              1\n",
       "..          ...    ...         ...        ...        ...            ...\n",
       "542         543  172.0         207  Masculino         22              1\n",
       "543         544  129.0         157  Masculino          1              1\n",
       "544         545  107.0         115  Masculino          6              1\n",
       "545         546  117.0         147  Masculino         20              1\n",
       "546         547  148.0         176  Masculino          8              1\n",
       "\n",
       "[542 rows x 6 columns]"
      ]
     },
     "execution_count": 354,
     "metadata": {},
     "output_type": "execute_result"
    }
   ],
   "source": [
    "clientes"
   ]
  },
  {
   "cell_type": "code",
   "execution_count": 355,
   "metadata": {},
   "outputs": [
    {
     "data": {
      "text/plain": [
       "array([[<AxesSubplot:title={'center':'genero_number'}>]], dtype=object)"
      ]
     },
     "execution_count": 355,
     "metadata": {},
     "output_type": "execute_result"
    },
    {
     "data": {
      "image/png": "[encoded data removed]",
      "text/plain": [
       "<Figure size 1080x504 with 1 Axes>"
      ]
     },
     "metadata": {
      "needs_background": "light"
     },
     "output_type": "display_data"
    }
   ],
   "source": [
    "clientes.hist(column='genero_number', figsize=(15, 7), bins=3)"
   ]
  },
  {
   "cell_type": "markdown",
   "metadata": {},
   "source": [
    "## junção de dados coletados"
   ]
  },
  {
   "cell_type": "code",
   "execution_count": 356,
   "metadata": {},
   "outputs": [
    {
     "data": {
      "text/html": [
       "<div>\n",
       "<style scoped>\n",
       "    .dataframe tbody tr th:only-of-type {\n",
       "        vertical-align: middle;\n",
       "    }\n",
       "\n",
       "    .dataframe tbody tr th {\n",
       "        vertical-align: top;\n",
       "    }\n",
       "\n",
       "    .dataframe thead th {\n",
       "        text-align: right;\n",
       "    }\n",
       "</style>\n",
       "<table border=\"1\" class=\"dataframe\">\n",
       "  <thead>\n",
       "    <tr style=\"text-align: right;\">\n",
       "      <th></th>\n",
       "      <th>id_estado</th>\n",
       "      <th>estado</th>\n",
       "      <th>sigla_estado</th>\n",
       "      <th>pais</th>\n",
       "    </tr>\n",
       "  </thead>\n",
       "  <tbody>\n",
       "    <tr>\n",
       "      <th>0</th>\n",
       "      <td>1</td>\n",
       "      <td>Acre</td>\n",
       "      <td>ac</td>\n",
       "      <td>Brasil</td>\n",
       "    </tr>\n",
       "    <tr>\n",
       "      <th>1</th>\n",
       "      <td>2</td>\n",
       "      <td>Alagoas</td>\n",
       "      <td>al</td>\n",
       "      <td>Brasil</td>\n",
       "    </tr>\n",
       "    <tr>\n",
       "      <th>2</th>\n",
       "      <td>3</td>\n",
       "      <td>Amapá</td>\n",
       "      <td>ap</td>\n",
       "      <td>Brasil</td>\n",
       "    </tr>\n",
       "    <tr>\n",
       "      <th>3</th>\n",
       "      <td>4</td>\n",
       "      <td>Amazonas</td>\n",
       "      <td>am</td>\n",
       "      <td>Brasil</td>\n",
       "    </tr>\n",
       "    <tr>\n",
       "      <th>4</th>\n",
       "      <td>5</td>\n",
       "      <td>Bahia</td>\n",
       "      <td>ba</td>\n",
       "      <td>Brasil</td>\n",
       "    </tr>\n",
       "  </tbody>\n",
       "</table>\n",
       "</div>"
      ],
      "text/plain": [
       "   id_estado    estado sigla_estado    pais\n",
       "0          1      Acre           ac  Brasil\n",
       "1          2   Alagoas           al  Brasil\n",
       "2          3     Amapá           ap  Brasil\n",
       "3          4  Amazonas           am  Brasil\n",
       "4          5     Bahia           ba  Brasil"
      ]
     },
     "execution_count": 356,
     "metadata": {},
     "output_type": "execute_result"
    }
   ],
   "source": [
    "estados[:5]"
   ]
  },
  {
   "cell_type": "code",
   "execution_count": 357,
   "metadata": {},
   "outputs": [
    {
     "data": {
      "text/html": [
       "<div>\n",
       "<style scoped>\n",
       "    .dataframe tbody tr th:only-of-type {\n",
       "        vertical-align: middle;\n",
       "    }\n",
       "\n",
       "    .dataframe tbody tr th {\n",
       "        vertical-align: top;\n",
       "    }\n",
       "\n",
       "    .dataframe thead th {\n",
       "        text-align: right;\n",
       "    }\n",
       "</style>\n",
       "<table border=\"1\" class=\"dataframe\">\n",
       "  <thead>\n",
       "    <tr style=\"text-align: right;\">\n",
       "      <th></th>\n",
       "      <th>id_cliente</th>\n",
       "      <th>peso</th>\n",
       "      <th>colesterol</th>\n",
       "      <th>genero</th>\n",
       "      <th>id_estado</th>\n",
       "      <th>genero_number</th>\n",
       "    </tr>\n",
       "  </thead>\n",
       "  <tbody>\n",
       "    <tr>\n",
       "      <th>0</th>\n",
       "      <td>1</td>\n",
       "      <td>102.0</td>\n",
       "      <td>111</td>\n",
       "      <td>Masculino</td>\n",
       "      <td>23</td>\n",
       "      <td>1</td>\n",
       "    </tr>\n",
       "    <tr>\n",
       "      <th>1</th>\n",
       "      <td>2</td>\n",
       "      <td>115.0</td>\n",
       "      <td>135</td>\n",
       "      <td>Masculino</td>\n",
       "      <td>7</td>\n",
       "      <td>1</td>\n",
       "    </tr>\n",
       "    <tr>\n",
       "      <th>2</th>\n",
       "      <td>3</td>\n",
       "      <td>115.0</td>\n",
       "      <td>136</td>\n",
       "      <td>Masculino</td>\n",
       "      <td>4</td>\n",
       "      <td>1</td>\n",
       "    </tr>\n",
       "    <tr>\n",
       "      <th>3</th>\n",
       "      <td>4</td>\n",
       "      <td>140.0</td>\n",
       "      <td>167</td>\n",
       "      <td>Feminino</td>\n",
       "      <td>24</td>\n",
       "      <td>0</td>\n",
       "    </tr>\n",
       "    <tr>\n",
       "      <th>4</th>\n",
       "      <td>5</td>\n",
       "      <td>130.0</td>\n",
       "      <td>158</td>\n",
       "      <td>Masculino</td>\n",
       "      <td>26</td>\n",
       "      <td>1</td>\n",
       "    </tr>\n",
       "  </tbody>\n",
       "</table>\n",
       "</div>"
      ],
      "text/plain": [
       "   id_cliente   peso  colesterol     genero  id_estado  genero_number\n",
       "0           1  102.0         111  Masculino         23              1\n",
       "1           2  115.0         135  Masculino          7              1\n",
       "2           3  115.0         136  Masculino          4              1\n",
       "3           4  140.0         167   Feminino         24              0\n",
       "4           5  130.0         158  Masculino         26              1"
      ]
     },
     "execution_count": 357,
     "metadata": {},
     "output_type": "execute_result"
    }
   ],
   "source": [
    "clientes[:5]"
   ]
  },
  {
   "cell_type": "code",
   "execution_count": 358,
   "metadata": {},
   "outputs": [
    {
     "data": {
      "text/html": [
       "<div>\n",
       "<style scoped>\n",
       "    .dataframe tbody tr th:only-of-type {\n",
       "        vertical-align: middle;\n",
       "    }\n",
       "\n",
       "    .dataframe tbody tr th {\n",
       "        vertical-align: top;\n",
       "    }\n",
       "\n",
       "    .dataframe thead th {\n",
       "        text-align: right;\n",
       "    }\n",
       "</style>\n",
       "<table border=\"1\" class=\"dataframe\">\n",
       "  <thead>\n",
       "    <tr style=\"text-align: right;\">\n",
       "      <th></th>\n",
       "      <th>id_cliente</th>\n",
       "      <th>peso</th>\n",
       "      <th>colesterol</th>\n",
       "      <th>genero</th>\n",
       "      <th>id_estado</th>\n",
       "      <th>genero_number</th>\n",
       "      <th>estado</th>\n",
       "      <th>sigla_estado</th>\n",
       "      <th>pais</th>\n",
       "    </tr>\n",
       "  </thead>\n",
       "  <tbody>\n",
       "    <tr>\n",
       "      <th>0</th>\n",
       "      <td>1</td>\n",
       "      <td>102.0</td>\n",
       "      <td>111</td>\n",
       "      <td>Masculino</td>\n",
       "      <td>23</td>\n",
       "      <td>1</td>\n",
       "      <td>Roraima</td>\n",
       "      <td>rr</td>\n",
       "      <td>Brasil</td>\n",
       "    </tr>\n",
       "    <tr>\n",
       "      <th>17</th>\n",
       "      <td>2</td>\n",
       "      <td>115.0</td>\n",
       "      <td>135</td>\n",
       "      <td>Masculino</td>\n",
       "      <td>7</td>\n",
       "      <td>1</td>\n",
       "      <td>Distrito Federal</td>\n",
       "      <td>df</td>\n",
       "      <td>Brasil</td>\n",
       "    </tr>\n",
       "    <tr>\n",
       "      <th>39</th>\n",
       "      <td>3</td>\n",
       "      <td>115.0</td>\n",
       "      <td>136</td>\n",
       "      <td>Masculino</td>\n",
       "      <td>4</td>\n",
       "      <td>1</td>\n",
       "      <td>Amazonas</td>\n",
       "      <td>am</td>\n",
       "      <td>Brasil</td>\n",
       "    </tr>\n",
       "    <tr>\n",
       "      <th>64</th>\n",
       "      <td>5</td>\n",
       "      <td>130.0</td>\n",
       "      <td>158</td>\n",
       "      <td>Masculino</td>\n",
       "      <td>26</td>\n",
       "      <td>1</td>\n",
       "      <td>Sergipe</td>\n",
       "      <td>se</td>\n",
       "      <td>Brasil</td>\n",
       "    </tr>\n",
       "    <tr>\n",
       "      <th>83</th>\n",
       "      <td>6</td>\n",
       "      <td>198.0</td>\n",
       "      <td>227</td>\n",
       "      <td>Masculino</td>\n",
       "      <td>8</td>\n",
       "      <td>1</td>\n",
       "      <td>Espírito Santo</td>\n",
       "      <td>es</td>\n",
       "      <td>Brasil</td>\n",
       "    </tr>\n",
       "    <tr>\n",
       "      <th>...</th>\n",
       "      <td>...</td>\n",
       "      <td>...</td>\n",
       "      <td>...</td>\n",
       "      <td>...</td>\n",
       "      <td>...</td>\n",
       "      <td>...</td>\n",
       "      <td>...</td>\n",
       "      <td>...</td>\n",
       "      <td>...</td>\n",
       "    </tr>\n",
       "    <tr>\n",
       "      <th>418</th>\n",
       "      <td>543</td>\n",
       "      <td>172.0</td>\n",
       "      <td>207</td>\n",
       "      <td>Masculino</td>\n",
       "      <td>22</td>\n",
       "      <td>1</td>\n",
       "      <td>Rondônia</td>\n",
       "      <td>ro</td>\n",
       "      <td>Brasil</td>\n",
       "    </tr>\n",
       "    <tr>\n",
       "      <th>430</th>\n",
       "      <td>544</td>\n",
       "      <td>129.0</td>\n",
       "      <td>157</td>\n",
       "      <td>Masculino</td>\n",
       "      <td>1</td>\n",
       "      <td>1</td>\n",
       "      <td>Acre</td>\n",
       "      <td>ac</td>\n",
       "      <td>Brasil</td>\n",
       "    </tr>\n",
       "    <tr>\n",
       "      <th>155</th>\n",
       "      <td>545</td>\n",
       "      <td>107.0</td>\n",
       "      <td>115</td>\n",
       "      <td>Masculino</td>\n",
       "      <td>6</td>\n",
       "      <td>1</td>\n",
       "      <td>Ceará</td>\n",
       "      <td>ce</td>\n",
       "      <td>Brasil</td>\n",
       "    </tr>\n",
       "    <tr>\n",
       "      <th>372</th>\n",
       "      <td>546</td>\n",
       "      <td>117.0</td>\n",
       "      <td>147</td>\n",
       "      <td>Masculino</td>\n",
       "      <td>20</td>\n",
       "      <td>1</td>\n",
       "      <td>Rio Grande do Norte</td>\n",
       "      <td>rn</td>\n",
       "      <td>Brasil</td>\n",
       "    </tr>\n",
       "    <tr>\n",
       "      <th>100</th>\n",
       "      <td>547</td>\n",
       "      <td>148.0</td>\n",
       "      <td>176</td>\n",
       "      <td>Masculino</td>\n",
       "      <td>8</td>\n",
       "      <td>1</td>\n",
       "      <td>Espírito Santo</td>\n",
       "      <td>es</td>\n",
       "      <td>Brasil</td>\n",
       "    </tr>\n",
       "  </tbody>\n",
       "</table>\n",
       "<p>498 rows × 9 columns</p>\n",
       "</div>"
      ],
      "text/plain": [
       "     id_cliente   peso  colesterol     genero  id_estado  genero_number  \\\n",
       "0             1  102.0         111  Masculino         23              1   \n",
       "17            2  115.0         135  Masculino          7              1   \n",
       "39            3  115.0         136  Masculino          4              1   \n",
       "64            5  130.0         158  Masculino         26              1   \n",
       "83            6  198.0         227  Masculino          8              1   \n",
       "..          ...    ...         ...        ...        ...            ...   \n",
       "418         543  172.0         207  Masculino         22              1   \n",
       "430         544  129.0         157  Masculino          1              1   \n",
       "155         545  107.0         115  Masculino          6              1   \n",
       "372         546  117.0         147  Masculino         20              1   \n",
       "100         547  148.0         176  Masculino          8              1   \n",
       "\n",
       "                  estado sigla_estado    pais  \n",
       "0                Roraima           rr  Brasil  \n",
       "17      Distrito Federal           df  Brasil  \n",
       "39              Amazonas           am  Brasil  \n",
       "64               Sergipe           se  Brasil  \n",
       "83        Espírito Santo           es  Brasil  \n",
       "..                   ...          ...     ...  \n",
       "418             Rondônia           ro  Brasil  \n",
       "430                 Acre           ac  Brasil  \n",
       "155                Ceará           ce  Brasil  \n",
       "372  Rio Grande do Norte           rn  Brasil  \n",
       "100       Espírito Santo           es  Brasil  \n",
       "\n",
       "[498 rows x 9 columns]"
      ]
     },
     "execution_count": 358,
     "metadata": {},
     "output_type": "execute_result"
    }
   ],
   "source": [
    "clientes_estados = pd.merge(clientes, estados, on='id_estado')\n",
    "clientes_estados.sort_values('id_cliente')"
   ]
  },
  {
   "cell_type": "code",
   "execution_count": 359,
   "metadata": {},
   "outputs": [],
   "source": [
    "#realiza junção entre clientes e idades\n",
    "base_completa = pd.merge(clientes_estados, idade, on='id_cliente').sort_values('id_cliente')"
   ]
  },
  {
   "cell_type": "code",
   "execution_count": 360,
   "metadata": {},
   "outputs": [
    {
     "data": {
      "text/html": [
       "<div>\n",
       "<style scoped>\n",
       "    .dataframe tbody tr th:only-of-type {\n",
       "        vertical-align: middle;\n",
       "    }\n",
       "\n",
       "    .dataframe tbody tr th {\n",
       "        vertical-align: top;\n",
       "    }\n",
       "\n",
       "    .dataframe thead th {\n",
       "        text-align: right;\n",
       "    }\n",
       "</style>\n",
       "<table border=\"1\" class=\"dataframe\">\n",
       "  <thead>\n",
       "    <tr style=\"text-align: right;\">\n",
       "      <th></th>\n",
       "      <th>id_cliente</th>\n",
       "      <th>peso</th>\n",
       "      <th>colesterol</th>\n",
       "      <th>genero</th>\n",
       "      <th>id_estado</th>\n",
       "      <th>genero_number</th>\n",
       "      <th>estado</th>\n",
       "      <th>sigla_estado</th>\n",
       "      <th>pais</th>\n",
       "      <th>idade</th>\n",
       "    </tr>\n",
       "  </thead>\n",
       "  <tbody>\n",
       "    <tr>\n",
       "      <th>0</th>\n",
       "      <td>1</td>\n",
       "      <td>102.0</td>\n",
       "      <td>111</td>\n",
       "      <td>Masculino</td>\n",
       "      <td>23</td>\n",
       "      <td>1</td>\n",
       "      <td>Roraima</td>\n",
       "      <td>rr</td>\n",
       "      <td>Brasil</td>\n",
       "      <td>17</td>\n",
       "    </tr>\n",
       "    <tr>\n",
       "      <th>17</th>\n",
       "      <td>2</td>\n",
       "      <td>115.0</td>\n",
       "      <td>135</td>\n",
       "      <td>Masculino</td>\n",
       "      <td>7</td>\n",
       "      <td>1</td>\n",
       "      <td>Distrito Federal</td>\n",
       "      <td>df</td>\n",
       "      <td>Brasil</td>\n",
       "      <td>28</td>\n",
       "    </tr>\n",
       "    <tr>\n",
       "      <th>39</th>\n",
       "      <td>3</td>\n",
       "      <td>115.0</td>\n",
       "      <td>136</td>\n",
       "      <td>Masculino</td>\n",
       "      <td>4</td>\n",
       "      <td>1</td>\n",
       "      <td>Amazonas</td>\n",
       "      <td>am</td>\n",
       "      <td>Brasil</td>\n",
       "      <td>62</td>\n",
       "    </tr>\n",
       "    <tr>\n",
       "      <th>64</th>\n",
       "      <td>5</td>\n",
       "      <td>130.0</td>\n",
       "      <td>158</td>\n",
       "      <td>Masculino</td>\n",
       "      <td>26</td>\n",
       "      <td>1</td>\n",
       "      <td>Sergipe</td>\n",
       "      <td>se</td>\n",
       "      <td>Brasil</td>\n",
       "      <td>44</td>\n",
       "    </tr>\n",
       "    <tr>\n",
       "      <th>83</th>\n",
       "      <td>6</td>\n",
       "      <td>198.0</td>\n",
       "      <td>227</td>\n",
       "      <td>Masculino</td>\n",
       "      <td>8</td>\n",
       "      <td>1</td>\n",
       "      <td>Espírito Santo</td>\n",
       "      <td>es</td>\n",
       "      <td>Brasil</td>\n",
       "      <td>17</td>\n",
       "    </tr>\n",
       "    <tr>\n",
       "      <th>...</th>\n",
       "      <td>...</td>\n",
       "      <td>...</td>\n",
       "      <td>...</td>\n",
       "      <td>...</td>\n",
       "      <td>...</td>\n",
       "      <td>...</td>\n",
       "      <td>...</td>\n",
       "      <td>...</td>\n",
       "      <td>...</td>\n",
       "      <td>...</td>\n",
       "    </tr>\n",
       "    <tr>\n",
       "      <th>418</th>\n",
       "      <td>543</td>\n",
       "      <td>172.0</td>\n",
       "      <td>207</td>\n",
       "      <td>Masculino</td>\n",
       "      <td>22</td>\n",
       "      <td>1</td>\n",
       "      <td>Rondônia</td>\n",
       "      <td>ro</td>\n",
       "      <td>Brasil</td>\n",
       "      <td>20</td>\n",
       "    </tr>\n",
       "    <tr>\n",
       "      <th>430</th>\n",
       "      <td>544</td>\n",
       "      <td>129.0</td>\n",
       "      <td>157</td>\n",
       "      <td>Masculino</td>\n",
       "      <td>1</td>\n",
       "      <td>1</td>\n",
       "      <td>Acre</td>\n",
       "      <td>ac</td>\n",
       "      <td>Brasil</td>\n",
       "      <td>66</td>\n",
       "    </tr>\n",
       "    <tr>\n",
       "      <th>155</th>\n",
       "      <td>545</td>\n",
       "      <td>107.0</td>\n",
       "      <td>115</td>\n",
       "      <td>Masculino</td>\n",
       "      <td>6</td>\n",
       "      <td>1</td>\n",
       "      <td>Ceará</td>\n",
       "      <td>ce</td>\n",
       "      <td>Brasil</td>\n",
       "      <td>36</td>\n",
       "    </tr>\n",
       "    <tr>\n",
       "      <th>372</th>\n",
       "      <td>546</td>\n",
       "      <td>117.0</td>\n",
       "      <td>147</td>\n",
       "      <td>Masculino</td>\n",
       "      <td>20</td>\n",
       "      <td>1</td>\n",
       "      <td>Rio Grande do Norte</td>\n",
       "      <td>rn</td>\n",
       "      <td>Brasil</td>\n",
       "      <td>57</td>\n",
       "    </tr>\n",
       "    <tr>\n",
       "      <th>100</th>\n",
       "      <td>547</td>\n",
       "      <td>148.0</td>\n",
       "      <td>176</td>\n",
       "      <td>Masculino</td>\n",
       "      <td>8</td>\n",
       "      <td>1</td>\n",
       "      <td>Espírito Santo</td>\n",
       "      <td>es</td>\n",
       "      <td>Brasil</td>\n",
       "      <td>61</td>\n",
       "    </tr>\n",
       "  </tbody>\n",
       "</table>\n",
       "<p>498 rows × 10 columns</p>\n",
       "</div>"
      ],
      "text/plain": [
       "     id_cliente   peso  colesterol     genero  id_estado  genero_number  \\\n",
       "0             1  102.0         111  Masculino         23              1   \n",
       "17            2  115.0         135  Masculino          7              1   \n",
       "39            3  115.0         136  Masculino          4              1   \n",
       "64            5  130.0         158  Masculino         26              1   \n",
       "83            6  198.0         227  Masculino          8              1   \n",
       "..          ...    ...         ...        ...        ...            ...   \n",
       "418         543  172.0         207  Masculino         22              1   \n",
       "430         544  129.0         157  Masculino          1              1   \n",
       "155         545  107.0         115  Masculino          6              1   \n",
       "372         546  117.0         147  Masculino         20              1   \n",
       "100         547  148.0         176  Masculino          8              1   \n",
       "\n",
       "                  estado sigla_estado    pais  idade  \n",
       "0                Roraima           rr  Brasil     17  \n",
       "17      Distrito Federal           df  Brasil     28  \n",
       "39              Amazonas           am  Brasil     62  \n",
       "64               Sergipe           se  Brasil     44  \n",
       "83        Espírito Santo           es  Brasil     17  \n",
       "..                   ...          ...     ...    ...  \n",
       "418             Rondônia           ro  Brasil     20  \n",
       "430                 Acre           ac  Brasil     66  \n",
       "155                Ceará           ce  Brasil     36  \n",
       "372  Rio Grande do Norte           rn  Brasil     57  \n",
       "100       Espírito Santo           es  Brasil     61  \n",
       "\n",
       "[498 rows x 10 columns]"
      ]
     },
     "execution_count": 360,
     "metadata": {},
     "output_type": "execute_result"
    }
   ],
   "source": [
    "base_completa"
   ]
  },
  {
   "cell_type": "code",
   "execution_count": 361,
   "metadata": {},
   "outputs": [
    {
     "data": {
      "text/html": [
       "<div>\n",
       "<style scoped>\n",
       "    .dataframe tbody tr th:only-of-type {\n",
       "        vertical-align: middle;\n",
       "    }\n",
       "\n",
       "    .dataframe tbody tr th {\n",
       "        vertical-align: top;\n",
       "    }\n",
       "\n",
       "    .dataframe thead th {\n",
       "        text-align: right;\n",
       "    }\n",
       "</style>\n",
       "<table border=\"1\" class=\"dataframe\">\n",
       "  <thead>\n",
       "    <tr style=\"text-align: right;\">\n",
       "      <th></th>\n",
       "      <th>id_cliente</th>\n",
       "      <th>peso</th>\n",
       "      <th>colesterol</th>\n",
       "      <th>genero</th>\n",
       "      <th>id_estado</th>\n",
       "      <th>genero_number</th>\n",
       "      <th>estado</th>\n",
       "      <th>sigla_estado</th>\n",
       "      <th>pais</th>\n",
       "      <th>idade</th>\n",
       "    </tr>\n",
       "  </thead>\n",
       "  <tbody>\n",
       "    <tr>\n",
       "      <th>0</th>\n",
       "      <td>1</td>\n",
       "      <td>102.0</td>\n",
       "      <td>111</td>\n",
       "      <td>Masculino</td>\n",
       "      <td>23</td>\n",
       "      <td>1</td>\n",
       "      <td>Roraima</td>\n",
       "      <td>rr</td>\n",
       "      <td>Brasil</td>\n",
       "      <td>17</td>\n",
       "    </tr>\n",
       "    <tr>\n",
       "      <th>1</th>\n",
       "      <td>2</td>\n",
       "      <td>115.0</td>\n",
       "      <td>135</td>\n",
       "      <td>Masculino</td>\n",
       "      <td>7</td>\n",
       "      <td>1</td>\n",
       "      <td>Distrito Federal</td>\n",
       "      <td>df</td>\n",
       "      <td>Brasil</td>\n",
       "      <td>28</td>\n",
       "    </tr>\n",
       "    <tr>\n",
       "      <th>2</th>\n",
       "      <td>3</td>\n",
       "      <td>115.0</td>\n",
       "      <td>136</td>\n",
       "      <td>Masculino</td>\n",
       "      <td>4</td>\n",
       "      <td>1</td>\n",
       "      <td>Amazonas</td>\n",
       "      <td>am</td>\n",
       "      <td>Brasil</td>\n",
       "      <td>62</td>\n",
       "    </tr>\n",
       "    <tr>\n",
       "      <th>3</th>\n",
       "      <td>5</td>\n",
       "      <td>130.0</td>\n",
       "      <td>158</td>\n",
       "      <td>Masculino</td>\n",
       "      <td>26</td>\n",
       "      <td>1</td>\n",
       "      <td>Sergipe</td>\n",
       "      <td>se</td>\n",
       "      <td>Brasil</td>\n",
       "      <td>44</td>\n",
       "    </tr>\n",
       "    <tr>\n",
       "      <th>4</th>\n",
       "      <td>6</td>\n",
       "      <td>198.0</td>\n",
       "      <td>227</td>\n",
       "      <td>Masculino</td>\n",
       "      <td>8</td>\n",
       "      <td>1</td>\n",
       "      <td>Espírito Santo</td>\n",
       "      <td>es</td>\n",
       "      <td>Brasil</td>\n",
       "      <td>17</td>\n",
       "    </tr>\n",
       "    <tr>\n",
       "      <th>...</th>\n",
       "      <td>...</td>\n",
       "      <td>...</td>\n",
       "      <td>...</td>\n",
       "      <td>...</td>\n",
       "      <td>...</td>\n",
       "      <td>...</td>\n",
       "      <td>...</td>\n",
       "      <td>...</td>\n",
       "      <td>...</td>\n",
       "      <td>...</td>\n",
       "    </tr>\n",
       "    <tr>\n",
       "      <th>493</th>\n",
       "      <td>543</td>\n",
       "      <td>172.0</td>\n",
       "      <td>207</td>\n",
       "      <td>Masculino</td>\n",
       "      <td>22</td>\n",
       "      <td>1</td>\n",
       "      <td>Rondônia</td>\n",
       "      <td>ro</td>\n",
       "      <td>Brasil</td>\n",
       "      <td>20</td>\n",
       "    </tr>\n",
       "    <tr>\n",
       "      <th>494</th>\n",
       "      <td>544</td>\n",
       "      <td>129.0</td>\n",
       "      <td>157</td>\n",
       "      <td>Masculino</td>\n",
       "      <td>1</td>\n",
       "      <td>1</td>\n",
       "      <td>Acre</td>\n",
       "      <td>ac</td>\n",
       "      <td>Brasil</td>\n",
       "      <td>66</td>\n",
       "    </tr>\n",
       "    <tr>\n",
       "      <th>495</th>\n",
       "      <td>545</td>\n",
       "      <td>107.0</td>\n",
       "      <td>115</td>\n",
       "      <td>Masculino</td>\n",
       "      <td>6</td>\n",
       "      <td>1</td>\n",
       "      <td>Ceará</td>\n",
       "      <td>ce</td>\n",
       "      <td>Brasil</td>\n",
       "      <td>36</td>\n",
       "    </tr>\n",
       "    <tr>\n",
       "      <th>496</th>\n",
       "      <td>546</td>\n",
       "      <td>117.0</td>\n",
       "      <td>147</td>\n",
       "      <td>Masculino</td>\n",
       "      <td>20</td>\n",
       "      <td>1</td>\n",
       "      <td>Rio Grande do Norte</td>\n",
       "      <td>rn</td>\n",
       "      <td>Brasil</td>\n",
       "      <td>57</td>\n",
       "    </tr>\n",
       "    <tr>\n",
       "      <th>497</th>\n",
       "      <td>547</td>\n",
       "      <td>148.0</td>\n",
       "      <td>176</td>\n",
       "      <td>Masculino</td>\n",
       "      <td>8</td>\n",
       "      <td>1</td>\n",
       "      <td>Espírito Santo</td>\n",
       "      <td>es</td>\n",
       "      <td>Brasil</td>\n",
       "      <td>61</td>\n",
       "    </tr>\n",
       "  </tbody>\n",
       "</table>\n",
       "<p>498 rows × 10 columns</p>\n",
       "</div>"
      ],
      "text/plain": [
       "     id_cliente   peso  colesterol     genero  id_estado  genero_number  \\\n",
       "0             1  102.0         111  Masculino         23              1   \n",
       "1             2  115.0         135  Masculino          7              1   \n",
       "2             3  115.0         136  Masculino          4              1   \n",
       "3             5  130.0         158  Masculino         26              1   \n",
       "4             6  198.0         227  Masculino          8              1   \n",
       "..          ...    ...         ...        ...        ...            ...   \n",
       "493         543  172.0         207  Masculino         22              1   \n",
       "494         544  129.0         157  Masculino          1              1   \n",
       "495         545  107.0         115  Masculino          6              1   \n",
       "496         546  117.0         147  Masculino         20              1   \n",
       "497         547  148.0         176  Masculino          8              1   \n",
       "\n",
       "                  estado sigla_estado    pais  idade  \n",
       "0                Roraima           rr  Brasil     17  \n",
       "1       Distrito Federal           df  Brasil     28  \n",
       "2               Amazonas           am  Brasil     62  \n",
       "3                Sergipe           se  Brasil     44  \n",
       "4         Espírito Santo           es  Brasil     17  \n",
       "..                   ...          ...     ...    ...  \n",
       "493             Rondônia           ro  Brasil     20  \n",
       "494                 Acre           ac  Brasil     66  \n",
       "495                Ceará           ce  Brasil     36  \n",
       "496  Rio Grande do Norte           rn  Brasil     57  \n",
       "497       Espírito Santo           es  Brasil     61  \n",
       "\n",
       "[498 rows x 10 columns]"
      ]
     },
     "execution_count": 361,
     "metadata": {},
     "output_type": "execute_result"
    }
   ],
   "source": [
    "base_completa.reset_index(drop=True)"
   ]
  },
  {
   "cell_type": "markdown",
   "metadata": {},
   "source": [
    "## organizando a base de dados"
   ]
  },
  {
   "cell_type": "code",
   "execution_count": 362,
   "metadata": {},
   "outputs": [
    {
     "data": {
      "text/html": [
       "<div>\n",
       "<style scoped>\n",
       "    .dataframe tbody tr th:only-of-type {\n",
       "        vertical-align: middle;\n",
       "    }\n",
       "\n",
       "    .dataframe tbody tr th {\n",
       "        vertical-align: top;\n",
       "    }\n",
       "\n",
       "    .dataframe thead th {\n",
       "        text-align: right;\n",
       "    }\n",
       "</style>\n",
       "<table border=\"1\" class=\"dataframe\">\n",
       "  <thead>\n",
       "    <tr style=\"text-align: right;\">\n",
       "      <th></th>\n",
       "      <th>cod_cliente</th>\n",
       "      <th>peso</th>\n",
       "      <th>colesterol</th>\n",
       "      <th>genero</th>\n",
       "      <th>id_estado</th>\n",
       "      <th>cod_genero</th>\n",
       "      <th>estado</th>\n",
       "      <th>sigla_estado</th>\n",
       "      <th>pais</th>\n",
       "      <th>idade</th>\n",
       "    </tr>\n",
       "  </thead>\n",
       "  <tbody>\n",
       "    <tr>\n",
       "      <th>0</th>\n",
       "      <td>1</td>\n",
       "      <td>102.0</td>\n",
       "      <td>111</td>\n",
       "      <td>Masculino</td>\n",
       "      <td>23</td>\n",
       "      <td>1</td>\n",
       "      <td>Roraima</td>\n",
       "      <td>rr</td>\n",
       "      <td>Brasil</td>\n",
       "      <td>17</td>\n",
       "    </tr>\n",
       "    <tr>\n",
       "      <th>17</th>\n",
       "      <td>2</td>\n",
       "      <td>115.0</td>\n",
       "      <td>135</td>\n",
       "      <td>Masculino</td>\n",
       "      <td>7</td>\n",
       "      <td>1</td>\n",
       "      <td>Distrito Federal</td>\n",
       "      <td>df</td>\n",
       "      <td>Brasil</td>\n",
       "      <td>28</td>\n",
       "    </tr>\n",
       "    <tr>\n",
       "      <th>39</th>\n",
       "      <td>3</td>\n",
       "      <td>115.0</td>\n",
       "      <td>136</td>\n",
       "      <td>Masculino</td>\n",
       "      <td>4</td>\n",
       "      <td>1</td>\n",
       "      <td>Amazonas</td>\n",
       "      <td>am</td>\n",
       "      <td>Brasil</td>\n",
       "      <td>62</td>\n",
       "    </tr>\n",
       "    <tr>\n",
       "      <th>64</th>\n",
       "      <td>5</td>\n",
       "      <td>130.0</td>\n",
       "      <td>158</td>\n",
       "      <td>Masculino</td>\n",
       "      <td>26</td>\n",
       "      <td>1</td>\n",
       "      <td>Sergipe</td>\n",
       "      <td>se</td>\n",
       "      <td>Brasil</td>\n",
       "      <td>44</td>\n",
       "    </tr>\n",
       "    <tr>\n",
       "      <th>83</th>\n",
       "      <td>6</td>\n",
       "      <td>198.0</td>\n",
       "      <td>227</td>\n",
       "      <td>Masculino</td>\n",
       "      <td>8</td>\n",
       "      <td>1</td>\n",
       "      <td>Espírito Santo</td>\n",
       "      <td>es</td>\n",
       "      <td>Brasil</td>\n",
       "      <td>17</td>\n",
       "    </tr>\n",
       "    <tr>\n",
       "      <th>...</th>\n",
       "      <td>...</td>\n",
       "      <td>...</td>\n",
       "      <td>...</td>\n",
       "      <td>...</td>\n",
       "      <td>...</td>\n",
       "      <td>...</td>\n",
       "      <td>...</td>\n",
       "      <td>...</td>\n",
       "      <td>...</td>\n",
       "      <td>...</td>\n",
       "    </tr>\n",
       "    <tr>\n",
       "      <th>418</th>\n",
       "      <td>543</td>\n",
       "      <td>172.0</td>\n",
       "      <td>207</td>\n",
       "      <td>Masculino</td>\n",
       "      <td>22</td>\n",
       "      <td>1</td>\n",
       "      <td>Rondônia</td>\n",
       "      <td>ro</td>\n",
       "      <td>Brasil</td>\n",
       "      <td>20</td>\n",
       "    </tr>\n",
       "    <tr>\n",
       "      <th>430</th>\n",
       "      <td>544</td>\n",
       "      <td>129.0</td>\n",
       "      <td>157</td>\n",
       "      <td>Masculino</td>\n",
       "      <td>1</td>\n",
       "      <td>1</td>\n",
       "      <td>Acre</td>\n",
       "      <td>ac</td>\n",
       "      <td>Brasil</td>\n",
       "      <td>66</td>\n",
       "    </tr>\n",
       "    <tr>\n",
       "      <th>155</th>\n",
       "      <td>545</td>\n",
       "      <td>107.0</td>\n",
       "      <td>115</td>\n",
       "      <td>Masculino</td>\n",
       "      <td>6</td>\n",
       "      <td>1</td>\n",
       "      <td>Ceará</td>\n",
       "      <td>ce</td>\n",
       "      <td>Brasil</td>\n",
       "      <td>36</td>\n",
       "    </tr>\n",
       "    <tr>\n",
       "      <th>372</th>\n",
       "      <td>546</td>\n",
       "      <td>117.0</td>\n",
       "      <td>147</td>\n",
       "      <td>Masculino</td>\n",
       "      <td>20</td>\n",
       "      <td>1</td>\n",
       "      <td>Rio Grande do Norte</td>\n",
       "      <td>rn</td>\n",
       "      <td>Brasil</td>\n",
       "      <td>57</td>\n",
       "    </tr>\n",
       "    <tr>\n",
       "      <th>100</th>\n",
       "      <td>547</td>\n",
       "      <td>148.0</td>\n",
       "      <td>176</td>\n",
       "      <td>Masculino</td>\n",
       "      <td>8</td>\n",
       "      <td>1</td>\n",
       "      <td>Espírito Santo</td>\n",
       "      <td>es</td>\n",
       "      <td>Brasil</td>\n",
       "      <td>61</td>\n",
       "    </tr>\n",
       "  </tbody>\n",
       "</table>\n",
       "<p>498 rows × 10 columns</p>\n",
       "</div>"
      ],
      "text/plain": [
       "     cod_cliente   peso  colesterol     genero  id_estado  cod_genero  \\\n",
       "0              1  102.0         111  Masculino         23           1   \n",
       "17             2  115.0         135  Masculino          7           1   \n",
       "39             3  115.0         136  Masculino          4           1   \n",
       "64             5  130.0         158  Masculino         26           1   \n",
       "83             6  198.0         227  Masculino          8           1   \n",
       "..           ...    ...         ...        ...        ...         ...   \n",
       "418          543  172.0         207  Masculino         22           1   \n",
       "430          544  129.0         157  Masculino          1           1   \n",
       "155          545  107.0         115  Masculino          6           1   \n",
       "372          546  117.0         147  Masculino         20           1   \n",
       "100          547  148.0         176  Masculino          8           1   \n",
       "\n",
       "                  estado sigla_estado    pais  idade  \n",
       "0                Roraima           rr  Brasil     17  \n",
       "17      Distrito Federal           df  Brasil     28  \n",
       "39              Amazonas           am  Brasil     62  \n",
       "64               Sergipe           se  Brasil     44  \n",
       "83        Espírito Santo           es  Brasil     17  \n",
       "..                   ...          ...     ...    ...  \n",
       "418             Rondônia           ro  Brasil     20  \n",
       "430                 Acre           ac  Brasil     66  \n",
       "155                Ceará           ce  Brasil     36  \n",
       "372  Rio Grande do Norte           rn  Brasil     57  \n",
       "100       Espírito Santo           es  Brasil     61  \n",
       "\n",
       "[498 rows x 10 columns]"
      ]
     },
     "execution_count": 362,
     "metadata": {},
     "output_type": "execute_result"
    }
   ],
   "source": [
    "base_completa.rename(columns={'id_cliente': 'cod_cliente', 'genero_number': 'cod_genero'}, inplace=True)\n",
    "base_completa"
   ]
  },
  {
   "cell_type": "code",
   "execution_count": 363,
   "metadata": {},
   "outputs": [
    {
     "data": {
      "text/plain": [
       "0      RR\n",
       "17     DF\n",
       "39     AM\n",
       "64     SE\n",
       "83     ES\n",
       "       ..\n",
       "418    RO\n",
       "430    AC\n",
       "155    CE\n",
       "372    RN\n",
       "100    ES\n",
       "Name: sigla_estado, Length: 498, dtype: object"
      ]
     },
     "execution_count": 363,
     "metadata": {},
     "output_type": "execute_result"
    }
   ],
   "source": [
    "#alterando as linhas da variavel sigla_estado\n",
    "base_completa.sigla_estado.str.upper()"
   ]
  },
  {
   "cell_type": "code",
   "execution_count": 364,
   "metadata": {},
   "outputs": [],
   "source": [
    "# inserindo alteração realizada\n",
    "base_completa['sigla_estado'] = base_completa.sigla_estado.str.upper()"
   ]
  },
  {
   "cell_type": "code",
   "execution_count": 365,
   "metadata": {},
   "outputs": [
    {
     "data": {
      "text/html": [
       "<div>\n",
       "<style scoped>\n",
       "    .dataframe tbody tr th:only-of-type {\n",
       "        vertical-align: middle;\n",
       "    }\n",
       "\n",
       "    .dataframe tbody tr th {\n",
       "        vertical-align: top;\n",
       "    }\n",
       "\n",
       "    .dataframe thead th {\n",
       "        text-align: right;\n",
       "    }\n",
       "</style>\n",
       "<table border=\"1\" class=\"dataframe\">\n",
       "  <thead>\n",
       "    <tr style=\"text-align: right;\">\n",
       "      <th></th>\n",
       "      <th>cod_cliente</th>\n",
       "      <th>peso</th>\n",
       "      <th>colesterol</th>\n",
       "      <th>genero</th>\n",
       "      <th>id_estado</th>\n",
       "      <th>cod_genero</th>\n",
       "      <th>estado</th>\n",
       "      <th>sigla_estado</th>\n",
       "      <th>pais</th>\n",
       "      <th>idade</th>\n",
       "    </tr>\n",
       "  </thead>\n",
       "  <tbody>\n",
       "    <tr>\n",
       "      <th>0</th>\n",
       "      <td>1</td>\n",
       "      <td>102.0</td>\n",
       "      <td>111</td>\n",
       "      <td>Masculino</td>\n",
       "      <td>23</td>\n",
       "      <td>1</td>\n",
       "      <td>Roraima</td>\n",
       "      <td>RR</td>\n",
       "      <td>Brasil</td>\n",
       "      <td>17</td>\n",
       "    </tr>\n",
       "    <tr>\n",
       "      <th>17</th>\n",
       "      <td>2</td>\n",
       "      <td>115.0</td>\n",
       "      <td>135</td>\n",
       "      <td>Masculino</td>\n",
       "      <td>7</td>\n",
       "      <td>1</td>\n",
       "      <td>Distrito Federal</td>\n",
       "      <td>DF</td>\n",
       "      <td>Brasil</td>\n",
       "      <td>28</td>\n",
       "    </tr>\n",
       "    <tr>\n",
       "      <th>39</th>\n",
       "      <td>3</td>\n",
       "      <td>115.0</td>\n",
       "      <td>136</td>\n",
       "      <td>Masculino</td>\n",
       "      <td>4</td>\n",
       "      <td>1</td>\n",
       "      <td>Amazonas</td>\n",
       "      <td>AM</td>\n",
       "      <td>Brasil</td>\n",
       "      <td>62</td>\n",
       "    </tr>\n",
       "    <tr>\n",
       "      <th>64</th>\n",
       "      <td>5</td>\n",
       "      <td>130.0</td>\n",
       "      <td>158</td>\n",
       "      <td>Masculino</td>\n",
       "      <td>26</td>\n",
       "      <td>1</td>\n",
       "      <td>Sergipe</td>\n",
       "      <td>SE</td>\n",
       "      <td>Brasil</td>\n",
       "      <td>44</td>\n",
       "    </tr>\n",
       "    <tr>\n",
       "      <th>83</th>\n",
       "      <td>6</td>\n",
       "      <td>198.0</td>\n",
       "      <td>227</td>\n",
       "      <td>Masculino</td>\n",
       "      <td>8</td>\n",
       "      <td>1</td>\n",
       "      <td>Espírito Santo</td>\n",
       "      <td>ES</td>\n",
       "      <td>Brasil</td>\n",
       "      <td>17</td>\n",
       "    </tr>\n",
       "    <tr>\n",
       "      <th>...</th>\n",
       "      <td>...</td>\n",
       "      <td>...</td>\n",
       "      <td>...</td>\n",
       "      <td>...</td>\n",
       "      <td>...</td>\n",
       "      <td>...</td>\n",
       "      <td>...</td>\n",
       "      <td>...</td>\n",
       "      <td>...</td>\n",
       "      <td>...</td>\n",
       "    </tr>\n",
       "    <tr>\n",
       "      <th>418</th>\n",
       "      <td>543</td>\n",
       "      <td>172.0</td>\n",
       "      <td>207</td>\n",
       "      <td>Masculino</td>\n",
       "      <td>22</td>\n",
       "      <td>1</td>\n",
       "      <td>Rondônia</td>\n",
       "      <td>RO</td>\n",
       "      <td>Brasil</td>\n",
       "      <td>20</td>\n",
       "    </tr>\n",
       "    <tr>\n",
       "      <th>430</th>\n",
       "      <td>544</td>\n",
       "      <td>129.0</td>\n",
       "      <td>157</td>\n",
       "      <td>Masculino</td>\n",
       "      <td>1</td>\n",
       "      <td>1</td>\n",
       "      <td>Acre</td>\n",
       "      <td>AC</td>\n",
       "      <td>Brasil</td>\n",
       "      <td>66</td>\n",
       "    </tr>\n",
       "    <tr>\n",
       "      <th>155</th>\n",
       "      <td>545</td>\n",
       "      <td>107.0</td>\n",
       "      <td>115</td>\n",
       "      <td>Masculino</td>\n",
       "      <td>6</td>\n",
       "      <td>1</td>\n",
       "      <td>Ceará</td>\n",
       "      <td>CE</td>\n",
       "      <td>Brasil</td>\n",
       "      <td>36</td>\n",
       "    </tr>\n",
       "    <tr>\n",
       "      <th>372</th>\n",
       "      <td>546</td>\n",
       "      <td>117.0</td>\n",
       "      <td>147</td>\n",
       "      <td>Masculino</td>\n",
       "      <td>20</td>\n",
       "      <td>1</td>\n",
       "      <td>Rio Grande do Norte</td>\n",
       "      <td>RN</td>\n",
       "      <td>Brasil</td>\n",
       "      <td>57</td>\n",
       "    </tr>\n",
       "    <tr>\n",
       "      <th>100</th>\n",
       "      <td>547</td>\n",
       "      <td>148.0</td>\n",
       "      <td>176</td>\n",
       "      <td>Masculino</td>\n",
       "      <td>8</td>\n",
       "      <td>1</td>\n",
       "      <td>Espírito Santo</td>\n",
       "      <td>ES</td>\n",
       "      <td>Brasil</td>\n",
       "      <td>61</td>\n",
       "    </tr>\n",
       "  </tbody>\n",
       "</table>\n",
       "<p>498 rows × 10 columns</p>\n",
       "</div>"
      ],
      "text/plain": [
       "     cod_cliente   peso  colesterol     genero  id_estado  cod_genero  \\\n",
       "0              1  102.0         111  Masculino         23           1   \n",
       "17             2  115.0         135  Masculino          7           1   \n",
       "39             3  115.0         136  Masculino          4           1   \n",
       "64             5  130.0         158  Masculino         26           1   \n",
       "83             6  198.0         227  Masculino          8           1   \n",
       "..           ...    ...         ...        ...        ...         ...   \n",
       "418          543  172.0         207  Masculino         22           1   \n",
       "430          544  129.0         157  Masculino          1           1   \n",
       "155          545  107.0         115  Masculino          6           1   \n",
       "372          546  117.0         147  Masculino         20           1   \n",
       "100          547  148.0         176  Masculino          8           1   \n",
       "\n",
       "                  estado sigla_estado    pais  idade  \n",
       "0                Roraima           RR  Brasil     17  \n",
       "17      Distrito Federal           DF  Brasil     28  \n",
       "39              Amazonas           AM  Brasil     62  \n",
       "64               Sergipe           SE  Brasil     44  \n",
       "83        Espírito Santo           ES  Brasil     17  \n",
       "..                   ...          ...     ...    ...  \n",
       "418             Rondônia           RO  Brasil     20  \n",
       "430                 Acre           AC  Brasil     66  \n",
       "155                Ceará           CE  Brasil     36  \n",
       "372  Rio Grande do Norte           RN  Brasil     57  \n",
       "100       Espírito Santo           ES  Brasil     61  \n",
       "\n",
       "[498 rows x 10 columns]"
      ]
     },
     "execution_count": 365,
     "metadata": {},
     "output_type": "execute_result"
    }
   ],
   "source": [
    "base_completa"
   ]
  },
  {
   "cell_type": "markdown",
   "metadata": {},
   "source": [
    "## alterando disposição das colunas do arquivo de dados"
   ]
  },
  {
   "cell_type": "code",
   "execution_count": 366,
   "metadata": {},
   "outputs": [
    {
     "data": {
      "text/html": [
       "<div>\n",
       "<style scoped>\n",
       "    .dataframe tbody tr th:only-of-type {\n",
       "        vertical-align: middle;\n",
       "    }\n",
       "\n",
       "    .dataframe tbody tr th {\n",
       "        vertical-align: top;\n",
       "    }\n",
       "\n",
       "    .dataframe thead th {\n",
       "        text-align: right;\n",
       "    }\n",
       "</style>\n",
       "<table border=\"1\" class=\"dataframe\">\n",
       "  <thead>\n",
       "    <tr style=\"text-align: right;\">\n",
       "      <th></th>\n",
       "      <th>cod_cliente</th>\n",
       "      <th>genero</th>\n",
       "      <th>idade</th>\n",
       "      <th>peso</th>\n",
       "      <th>colesterol</th>\n",
       "      <th>id_estado</th>\n",
       "      <th>estado</th>\n",
       "      <th>sigla_estado</th>\n",
       "      <th>pais</th>\n",
       "    </tr>\n",
       "  </thead>\n",
       "  <tbody>\n",
       "    <tr>\n",
       "      <th>0</th>\n",
       "      <td>1</td>\n",
       "      <td>Masculino</td>\n",
       "      <td>17</td>\n",
       "      <td>102.0</td>\n",
       "      <td>111</td>\n",
       "      <td>23</td>\n",
       "      <td>Roraima</td>\n",
       "      <td>RR</td>\n",
       "      <td>Brasil</td>\n",
       "    </tr>\n",
       "    <tr>\n",
       "      <th>17</th>\n",
       "      <td>2</td>\n",
       "      <td>Masculino</td>\n",
       "      <td>28</td>\n",
       "      <td>115.0</td>\n",
       "      <td>135</td>\n",
       "      <td>7</td>\n",
       "      <td>Distrito Federal</td>\n",
       "      <td>DF</td>\n",
       "      <td>Brasil</td>\n",
       "    </tr>\n",
       "    <tr>\n",
       "      <th>39</th>\n",
       "      <td>3</td>\n",
       "      <td>Masculino</td>\n",
       "      <td>62</td>\n",
       "      <td>115.0</td>\n",
       "      <td>136</td>\n",
       "      <td>4</td>\n",
       "      <td>Amazonas</td>\n",
       "      <td>AM</td>\n",
       "      <td>Brasil</td>\n",
       "    </tr>\n",
       "    <tr>\n",
       "      <th>64</th>\n",
       "      <td>5</td>\n",
       "      <td>Masculino</td>\n",
       "      <td>44</td>\n",
       "      <td>130.0</td>\n",
       "      <td>158</td>\n",
       "      <td>26</td>\n",
       "      <td>Sergipe</td>\n",
       "      <td>SE</td>\n",
       "      <td>Brasil</td>\n",
       "    </tr>\n",
       "    <tr>\n",
       "      <th>83</th>\n",
       "      <td>6</td>\n",
       "      <td>Masculino</td>\n",
       "      <td>17</td>\n",
       "      <td>198.0</td>\n",
       "      <td>227</td>\n",
       "      <td>8</td>\n",
       "      <td>Espírito Santo</td>\n",
       "      <td>ES</td>\n",
       "      <td>Brasil</td>\n",
       "    </tr>\n",
       "    <tr>\n",
       "      <th>...</th>\n",
       "      <td>...</td>\n",
       "      <td>...</td>\n",
       "      <td>...</td>\n",
       "      <td>...</td>\n",
       "      <td>...</td>\n",
       "      <td>...</td>\n",
       "      <td>...</td>\n",
       "      <td>...</td>\n",
       "      <td>...</td>\n",
       "    </tr>\n",
       "    <tr>\n",
       "      <th>418</th>\n",
       "      <td>543</td>\n",
       "      <td>Masculino</td>\n",
       "      <td>20</td>\n",
       "      <td>172.0</td>\n",
       "      <td>207</td>\n",
       "      <td>22</td>\n",
       "      <td>Rondônia</td>\n",
       "      <td>RO</td>\n",
       "      <td>Brasil</td>\n",
       "    </tr>\n",
       "    <tr>\n",
       "      <th>430</th>\n",
       "      <td>544</td>\n",
       "      <td>Masculino</td>\n",
       "      <td>66</td>\n",
       "      <td>129.0</td>\n",
       "      <td>157</td>\n",
       "      <td>1</td>\n",
       "      <td>Acre</td>\n",
       "      <td>AC</td>\n",
       "      <td>Brasil</td>\n",
       "    </tr>\n",
       "    <tr>\n",
       "      <th>155</th>\n",
       "      <td>545</td>\n",
       "      <td>Masculino</td>\n",
       "      <td>36</td>\n",
       "      <td>107.0</td>\n",
       "      <td>115</td>\n",
       "      <td>6</td>\n",
       "      <td>Ceará</td>\n",
       "      <td>CE</td>\n",
       "      <td>Brasil</td>\n",
       "    </tr>\n",
       "    <tr>\n",
       "      <th>372</th>\n",
       "      <td>546</td>\n",
       "      <td>Masculino</td>\n",
       "      <td>57</td>\n",
       "      <td>117.0</td>\n",
       "      <td>147</td>\n",
       "      <td>20</td>\n",
       "      <td>Rio Grande do Norte</td>\n",
       "      <td>RN</td>\n",
       "      <td>Brasil</td>\n",
       "    </tr>\n",
       "    <tr>\n",
       "      <th>100</th>\n",
       "      <td>547</td>\n",
       "      <td>Masculino</td>\n",
       "      <td>61</td>\n",
       "      <td>148.0</td>\n",
       "      <td>176</td>\n",
       "      <td>8</td>\n",
       "      <td>Espírito Santo</td>\n",
       "      <td>ES</td>\n",
       "      <td>Brasil</td>\n",
       "    </tr>\n",
       "  </tbody>\n",
       "</table>\n",
       "<p>498 rows × 9 columns</p>\n",
       "</div>"
      ],
      "text/plain": [
       "     cod_cliente     genero  idade   peso  colesterol  id_estado  \\\n",
       "0              1  Masculino     17  102.0         111         23   \n",
       "17             2  Masculino     28  115.0         135          7   \n",
       "39             3  Masculino     62  115.0         136          4   \n",
       "64             5  Masculino     44  130.0         158         26   \n",
       "83             6  Masculino     17  198.0         227          8   \n",
       "..           ...        ...    ...    ...         ...        ...   \n",
       "418          543  Masculino     20  172.0         207         22   \n",
       "430          544  Masculino     66  129.0         157          1   \n",
       "155          545  Masculino     36  107.0         115          6   \n",
       "372          546  Masculino     57  117.0         147         20   \n",
       "100          547  Masculino     61  148.0         176          8   \n",
       "\n",
       "                  estado sigla_estado    pais  \n",
       "0                Roraima           RR  Brasil  \n",
       "17      Distrito Federal           DF  Brasil  \n",
       "39              Amazonas           AM  Brasil  \n",
       "64               Sergipe           SE  Brasil  \n",
       "83        Espírito Santo           ES  Brasil  \n",
       "..                   ...          ...     ...  \n",
       "418             Rondônia           RO  Brasil  \n",
       "430                 Acre           AC  Brasil  \n",
       "155                Ceará           CE  Brasil  \n",
       "372  Rio Grande do Norte           RN  Brasil  \n",
       "100       Espírito Santo           ES  Brasil  \n",
       "\n",
       "[498 rows x 9 columns]"
      ]
     },
     "execution_count": 366,
     "metadata": {},
     "output_type": "execute_result"
    }
   ],
   "source": [
    "base_completa[['cod_cliente', 'genero', 'idade', 'peso', 'colesterol', 'id_estado', 'estado', 'sigla_estado', 'pais']]"
   ]
  },
  {
   "cell_type": "code",
   "execution_count": 367,
   "metadata": {},
   "outputs": [],
   "source": [
    "base_completa = base_completa[['cod_cliente', 'genero', 'idade', 'peso', 'colesterol', 'id_estado', 'estado', 'sigla_estado', 'pais']].reset_index(drop=True)"
   ]
  },
  {
   "cell_type": "code",
   "execution_count": 368,
   "metadata": {},
   "outputs": [
    {
     "data": {
      "text/html": [
       "<div>\n",
       "<style scoped>\n",
       "    .dataframe tbody tr th:only-of-type {\n",
       "        vertical-align: middle;\n",
       "    }\n",
       "\n",
       "    .dataframe tbody tr th {\n",
       "        vertical-align: top;\n",
       "    }\n",
       "\n",
       "    .dataframe thead th {\n",
       "        text-align: right;\n",
       "    }\n",
       "</style>\n",
       "<table border=\"1\" class=\"dataframe\">\n",
       "  <thead>\n",
       "    <tr style=\"text-align: right;\">\n",
       "      <th></th>\n",
       "      <th>cod_cliente</th>\n",
       "      <th>genero</th>\n",
       "      <th>idade</th>\n",
       "      <th>peso</th>\n",
       "      <th>colesterol</th>\n",
       "      <th>id_estado</th>\n",
       "      <th>estado</th>\n",
       "      <th>sigla_estado</th>\n",
       "      <th>pais</th>\n",
       "    </tr>\n",
       "  </thead>\n",
       "  <tbody>\n",
       "    <tr>\n",
       "      <th>0</th>\n",
       "      <td>1</td>\n",
       "      <td>Masculino</td>\n",
       "      <td>17</td>\n",
       "      <td>102.0</td>\n",
       "      <td>111</td>\n",
       "      <td>23</td>\n",
       "      <td>Roraima</td>\n",
       "      <td>RR</td>\n",
       "      <td>Brasil</td>\n",
       "    </tr>\n",
       "    <tr>\n",
       "      <th>1</th>\n",
       "      <td>2</td>\n",
       "      <td>Masculino</td>\n",
       "      <td>28</td>\n",
       "      <td>115.0</td>\n",
       "      <td>135</td>\n",
       "      <td>7</td>\n",
       "      <td>Distrito Federal</td>\n",
       "      <td>DF</td>\n",
       "      <td>Brasil</td>\n",
       "    </tr>\n",
       "    <tr>\n",
       "      <th>2</th>\n",
       "      <td>3</td>\n",
       "      <td>Masculino</td>\n",
       "      <td>62</td>\n",
       "      <td>115.0</td>\n",
       "      <td>136</td>\n",
       "      <td>4</td>\n",
       "      <td>Amazonas</td>\n",
       "      <td>AM</td>\n",
       "      <td>Brasil</td>\n",
       "    </tr>\n",
       "    <tr>\n",
       "      <th>3</th>\n",
       "      <td>5</td>\n",
       "      <td>Masculino</td>\n",
       "      <td>44</td>\n",
       "      <td>130.0</td>\n",
       "      <td>158</td>\n",
       "      <td>26</td>\n",
       "      <td>Sergipe</td>\n",
       "      <td>SE</td>\n",
       "      <td>Brasil</td>\n",
       "    </tr>\n",
       "    <tr>\n",
       "      <th>4</th>\n",
       "      <td>6</td>\n",
       "      <td>Masculino</td>\n",
       "      <td>17</td>\n",
       "      <td>198.0</td>\n",
       "      <td>227</td>\n",
       "      <td>8</td>\n",
       "      <td>Espírito Santo</td>\n",
       "      <td>ES</td>\n",
       "      <td>Brasil</td>\n",
       "    </tr>\n",
       "    <tr>\n",
       "      <th>...</th>\n",
       "      <td>...</td>\n",
       "      <td>...</td>\n",
       "      <td>...</td>\n",
       "      <td>...</td>\n",
       "      <td>...</td>\n",
       "      <td>...</td>\n",
       "      <td>...</td>\n",
       "      <td>...</td>\n",
       "      <td>...</td>\n",
       "    </tr>\n",
       "    <tr>\n",
       "      <th>493</th>\n",
       "      <td>543</td>\n",
       "      <td>Masculino</td>\n",
       "      <td>20</td>\n",
       "      <td>172.0</td>\n",
       "      <td>207</td>\n",
       "      <td>22</td>\n",
       "      <td>Rondônia</td>\n",
       "      <td>RO</td>\n",
       "      <td>Brasil</td>\n",
       "    </tr>\n",
       "    <tr>\n",
       "      <th>494</th>\n",
       "      <td>544</td>\n",
       "      <td>Masculino</td>\n",
       "      <td>66</td>\n",
       "      <td>129.0</td>\n",
       "      <td>157</td>\n",
       "      <td>1</td>\n",
       "      <td>Acre</td>\n",
       "      <td>AC</td>\n",
       "      <td>Brasil</td>\n",
       "    </tr>\n",
       "    <tr>\n",
       "      <th>495</th>\n",
       "      <td>545</td>\n",
       "      <td>Masculino</td>\n",
       "      <td>36</td>\n",
       "      <td>107.0</td>\n",
       "      <td>115</td>\n",
       "      <td>6</td>\n",
       "      <td>Ceará</td>\n",
       "      <td>CE</td>\n",
       "      <td>Brasil</td>\n",
       "    </tr>\n",
       "    <tr>\n",
       "      <th>496</th>\n",
       "      <td>546</td>\n",
       "      <td>Masculino</td>\n",
       "      <td>57</td>\n",
       "      <td>117.0</td>\n",
       "      <td>147</td>\n",
       "      <td>20</td>\n",
       "      <td>Rio Grande do Norte</td>\n",
       "      <td>RN</td>\n",
       "      <td>Brasil</td>\n",
       "    </tr>\n",
       "    <tr>\n",
       "      <th>497</th>\n",
       "      <td>547</td>\n",
       "      <td>Masculino</td>\n",
       "      <td>61</td>\n",
       "      <td>148.0</td>\n",
       "      <td>176</td>\n",
       "      <td>8</td>\n",
       "      <td>Espírito Santo</td>\n",
       "      <td>ES</td>\n",
       "      <td>Brasil</td>\n",
       "    </tr>\n",
       "  </tbody>\n",
       "</table>\n",
       "<p>498 rows × 9 columns</p>\n",
       "</div>"
      ],
      "text/plain": [
       "     cod_cliente     genero  idade   peso  colesterol  id_estado  \\\n",
       "0              1  Masculino     17  102.0         111         23   \n",
       "1              2  Masculino     28  115.0         135          7   \n",
       "2              3  Masculino     62  115.0         136          4   \n",
       "3              5  Masculino     44  130.0         158         26   \n",
       "4              6  Masculino     17  198.0         227          8   \n",
       "..           ...        ...    ...    ...         ...        ...   \n",
       "493          543  Masculino     20  172.0         207         22   \n",
       "494          544  Masculino     66  129.0         157          1   \n",
       "495          545  Masculino     36  107.0         115          6   \n",
       "496          546  Masculino     57  117.0         147         20   \n",
       "497          547  Masculino     61  148.0         176          8   \n",
       "\n",
       "                  estado sigla_estado    pais  \n",
       "0                Roraima           RR  Brasil  \n",
       "1       Distrito Federal           DF  Brasil  \n",
       "2               Amazonas           AM  Brasil  \n",
       "3                Sergipe           SE  Brasil  \n",
       "4         Espírito Santo           ES  Brasil  \n",
       "..                   ...          ...     ...  \n",
       "493             Rondônia           RO  Brasil  \n",
       "494                 Acre           AC  Brasil  \n",
       "495                Ceará           CE  Brasil  \n",
       "496  Rio Grande do Norte           RN  Brasil  \n",
       "497       Espírito Santo           ES  Brasil  \n",
       "\n",
       "[498 rows x 9 columns]"
      ]
     },
     "execution_count": 368,
     "metadata": {},
     "output_type": "execute_result"
    }
   ],
   "source": [
    "base_completa"
   ]
  },
  {
   "cell_type": "markdown",
   "metadata": {},
   "source": [
    "## analise dos dados"
   ]
  },
  {
   "cell_type": "code",
   "execution_count": 369,
   "metadata": {},
   "outputs": [],
   "source": [
    "from sklearn.cluster import KMeans"
   ]
  },
  {
   "cell_type": "code",
   "execution_count": 370,
   "metadata": {},
   "outputs": [],
   "source": [
    "def calcular_wcss(dados_cliente):\n",
    "    wcss = []\n",
    "    for k in range(1, 11):\n",
    "        kmeans = KMeans(n_clusters= k)\n",
    "        kmeans.fit(X=dados_cliente)\n",
    "        wcss.append(kmeans.inertia_)\n",
    "    return wcss"
   ]
  },
  {
   "cell_type": "code",
   "execution_count": 371,
   "metadata": {},
   "outputs": [
    {
     "data": {
      "text/html": [
       "<div>\n",
       "<style scoped>\n",
       "    .dataframe tbody tr th:only-of-type {\n",
       "        vertical-align: middle;\n",
       "    }\n",
       "\n",
       "    .dataframe tbody tr th {\n",
       "        vertical-align: top;\n",
       "    }\n",
       "\n",
       "    .dataframe thead th {\n",
       "        text-align: right;\n",
       "    }\n",
       "</style>\n",
       "<table border=\"1\" class=\"dataframe\">\n",
       "  <thead>\n",
       "    <tr style=\"text-align: right;\">\n",
       "      <th></th>\n",
       "      <th>peso</th>\n",
       "      <th>colesterol</th>\n",
       "    </tr>\n",
       "  </thead>\n",
       "  <tbody>\n",
       "    <tr>\n",
       "      <th>0</th>\n",
       "      <td>102.0</td>\n",
       "      <td>111</td>\n",
       "    </tr>\n",
       "    <tr>\n",
       "      <th>1</th>\n",
       "      <td>115.0</td>\n",
       "      <td>135</td>\n",
       "    </tr>\n",
       "    <tr>\n",
       "      <th>2</th>\n",
       "      <td>115.0</td>\n",
       "      <td>136</td>\n",
       "    </tr>\n",
       "    <tr>\n",
       "      <th>3</th>\n",
       "      <td>130.0</td>\n",
       "      <td>158</td>\n",
       "    </tr>\n",
       "    <tr>\n",
       "      <th>4</th>\n",
       "      <td>198.0</td>\n",
       "      <td>227</td>\n",
       "    </tr>\n",
       "  </tbody>\n",
       "</table>\n",
       "</div>"
      ],
      "text/plain": [
       "    peso  colesterol\n",
       "0  102.0         111\n",
       "1  115.0         135\n",
       "2  115.0         136\n",
       "3  130.0         158\n",
       "4  198.0         227"
      ]
     },
     "execution_count": 371,
     "metadata": {},
     "output_type": "execute_result"
    }
   ],
   "source": [
    "dados_cliente = base_completa[['peso', 'colesterol']]\n",
    "dados_cliente.head()"
   ]
  },
  {
   "cell_type": "code",
   "execution_count": 372,
   "metadata": {},
   "outputs": [],
   "source": [
    "wcss_clientes = calcular_wcss(dados_cliente)"
   ]
  },
  {
   "cell_type": "code",
   "execution_count": 373,
   "metadata": {},
   "outputs": [
    {
     "name": "stdout",
     "output_type": "stream",
     "text": [
      " O cluster 0 possui valor wcss de: 1248240.6686746986\n",
      " O cluster 1 possui valor wcss de: 298948.2448183639\n",
      " O cluster 2 possui valor wcss de: 127847.61956819553\n",
      " O cluster 3 possui valor wcss de: 73826.33539515288\n",
      " O cluster 4 possui valor wcss de: 49171.99371754595\n",
      " O cluster 5 possui valor wcss de: 34064.500021008374\n",
      " O cluster 6 possui valor wcss de: 25083.602386011884\n",
      " O cluster 7 possui valor wcss de: 20390.63054970707\n",
      " O cluster 8 possui valor wcss de: 15953.354039948881\n",
      " O cluster 9 possui valor wcss de: 13428.373033557806\n"
     ]
    }
   ],
   "source": [
    "for i in range(len(wcss_clientes)):\n",
    "    print(f' O cluster {i} possui valor wcss de: {wcss_clientes[i]}')"
   ]
  },
  {
   "cell_type": "markdown",
   "metadata": {},
   "source": [
    "## visualizando grafico cotovelo"
   ]
  },
  {
   "cell_type": "code",
   "execution_count": 374,
   "metadata": {},
   "outputs": [],
   "source": [
    "import plotly.express as px\n",
    "import plotly.offline as py\n",
    "import plotly.graph_objects as go"
   ]
  },
  {
   "cell_type": "code",
   "execution_count": 375,
   "metadata": {},
   "outputs": [
    {
     "data": {
      "application/vnd.plotly.v1+json": {
       "config": {
        "plotlyServerURL": "https://plot.ly"
       },
       "data": [
        {
         "hovertemplate": "x=%{x}<br>y=%{y}<extra></extra>",
         "legendgroup": "",
         "line": {
          "color": "#636efa",
          "dash": "solid"
         },
         "marker": {
          "symbol": "circle"
         },
         "mode": "lines",
         "name": "",
         "orientation": "v",
         "showlegend": false,
         "type": "scatter",
         "x": [
          1,
          2,
          3,
          4,
          5,
          6,
          7,
          8,
          9,
          10
         ],
         "xaxis": "x",
         "y": [
          1248240.6686746986,
          298948.2448183639,
          127847.61956819553,
          73826.33539515288,
          49171.99371754595,
          34064.500021008374,
          25083.602386011884,
          20390.63054970707,
          15953.354039948881,
          13428.373033557806
         ],
         "yaxis": "y"
        }
       ],
       "layout": {
        "legend": {
         "tracegroupgap": 0
        },
        "margin": {
         "t": 60
        },
        "template": {
         "data": {
          "bar": [
           {
            "error_x": {
             "color": "#2a3f5f"
            },
            "error_y": {
             "color": "#2a3f5f"
            },
            "marker": {
             "line": {
              "color": "white",
              "width": 0.5
             },
             "pattern": {
              "fillmode": "overlay",
              "size": 10,
              "solidity": 0.2
             }
            },
            "type": "bar"
           }
          ],
          "barpolar": [
           {
            "marker": {
             "line": {
              "color": "white",
              "width": 0.5
             },
             "pattern": {
              "fillmode": "overlay",
              "size": 10,
              "solidity": 0.2
             }
            },
            "type": "barpolar"
           }
          ],
          "carpet": [
           {
            "aaxis": {
             "endlinecolor": "#2a3f5f",
             "gridcolor": "#C8D4E3",
             "linecolor": "#C8D4E3",
             "minorgridcolor": "#C8D4E3",
             "startlinecolor": "#2a3f5f"
            },
            "baxis": {
             "endlinecolor": "#2a3f5f",
             "gridcolor": "#C8D4E3",
             "linecolor": "#C8D4E3",
             "minorgridcolor": "#C8D4E3",
             "startlinecolor": "#2a3f5f"
            },
            "type": "carpet"
           }
          ],
          "choropleth": [
           {
            "colorbar": {
             "outlinewidth": 0,
             "ticks": ""
            },
            "type": "choropleth"
           }
          ],
          "contour": [
           {
            "colorbar": {
             "outlinewidth": 0,
             "ticks": ""
            },
            "colorscale": [
             [
              0,
              "#0d0887"
             ],
             [
              0.1111111111111111,
              "#46039f"
             ],
             [
              0.2222222222222222,
              "#7201a8"
             ],
             [
              0.3333333333333333,
              "#9c179e"
             ],
             [
              0.4444444444444444,
              "#bd3786"
             ],
             [
              0.5555555555555556,
              "#d8576b"
             ],
             [
              0.6666666666666666,
              "#ed7953"
             ],
             [
              0.7777777777777778,
              "#fb9f3a"
             ],
             [
              0.8888888888888888,
              "#fdca26"
             ],
             [
              1,
              "#f0f921"
             ]
            ],
            "type": "contour"
           }
          ],
          "contourcarpet": [
           {
            "colorbar": {
             "outlinewidth": 0,
             "ticks": ""
            },
            "type": "contourcarpet"
           }
          ],
          "heatmap": [
           {
            "colorbar": {
             "outlinewidth": 0,
             "ticks": ""
            },
            "colorscale": [
             [
              0,
              "#0d0887"
             ],
             [
              0.1111111111111111,
              "#46039f"
             ],
             [
              0.2222222222222222,
              "#7201a8"
             ],
             [
              0.3333333333333333,
              "#9c179e"
             ],
             [
              0.4444444444444444,
              "#bd3786"
             ],
             [
              0.5555555555555556,
              "#d8576b"
             ],
             [
              0.6666666666666666,
              "#ed7953"
             ],
             [
              0.7777777777777778,
              "#fb9f3a"
             ],
             [
              0.8888888888888888,
              "#fdca26"
             ],
             [
              1,
              "#f0f921"
             ]
            ],
            "type": "heatmap"
           }
          ],
          "heatmapgl": [
           {
            "colorbar": {
             "outlinewidth": 0,
             "ticks": ""
            },
            "colorscale": [
             [
              0,
              "#0d0887"
             ],
             [
              0.1111111111111111,
              "#46039f"
             ],
             [
              0.2222222222222222,
              "#7201a8"
             ],
             [
              0.3333333333333333,
              "#9c179e"
             ],
             [
              0.4444444444444444,
              "#bd3786"
             ],
             [
              0.5555555555555556,
              "#d8576b"
             ],
             [
              0.6666666666666666,
              "#ed7953"
             ],
             [
              0.7777777777777778,
              "#fb9f3a"
             ],
             [
              0.8888888888888888,
              "#fdca26"
             ],
             [
              1,
              "#f0f921"
             ]
            ],
            "type": "heatmapgl"
           }
          ],
          "histogram": [
           {
            "marker": {
             "pattern": {
              "fillmode": "overlay",
              "size": 10,
              "solidity": 0.2
             }
            },
            "type": "histogram"
           }
          ],
          "histogram2d": [
           {
            "colorbar": {
             "outlinewidth": 0,
             "ticks": ""
            },
            "colorscale": [
             [
              0,
              "#0d0887"
             ],
             [
              0.1111111111111111,
              "#46039f"
             ],
             [
              0.2222222222222222,
              "#7201a8"
             ],
             [
              0.3333333333333333,
              "#9c179e"
             ],
             [
              0.4444444444444444,
              "#bd3786"
             ],
             [
              0.5555555555555556,
              "#d8576b"
             ],
             [
              0.6666666666666666,
              "#ed7953"
             ],
             [
              0.7777777777777778,
              "#fb9f3a"
             ],
             [
              0.8888888888888888,
              "#fdca26"
             ],
             [
              1,
              "#f0f921"
             ]
            ],
            "type": "histogram2d"
           }
          ],
          "histogram2dcontour": [
           {
            "colorbar": {
             "outlinewidth": 0,
             "ticks": ""
            },
            "colorscale": [
             [
              0,
              "#0d0887"
             ],
             [
              0.1111111111111111,
              "#46039f"
             ],
             [
              0.2222222222222222,
              "#7201a8"
             ],
             [
              0.3333333333333333,
              "#9c179e"
             ],
             [
              0.4444444444444444,
              "#bd3786"
             ],
             [
              0.5555555555555556,
              "#d8576b"
             ],
             [
              0.6666666666666666,
              "#ed7953"
             ],
             [
              0.7777777777777778,
              "#fb9f3a"
             ],
             [
              0.8888888888888888,
              "#fdca26"
             ],
             [
              1,
              "#f0f921"
             ]
            ],
            "type": "histogram2dcontour"
           }
          ],
          "mesh3d": [
           {
            "colorbar": {
             "outlinewidth": 0,
             "ticks": ""
            },
            "type": "mesh3d"
           }
          ],
          "parcoords": [
           {
            "line": {
             "colorbar": {
              "outlinewidth": 0,
              "ticks": ""
             }
            },
            "type": "parcoords"
           }
          ],
          "pie": [
           {
            "automargin": true,
            "type": "pie"
           }
          ],
          "scatter": [
           {
            "fillpattern": {
             "fillmode": "overlay",
             "size": 10,
             "solidity": 0.2
            },
            "type": "scatter"
           }
          ],
          "scatter3d": [
           {
            "line": {
             "colorbar": {
              "outlinewidth": 0,
              "ticks": ""
             }
            },
            "marker": {
             "colorbar": {
              "outlinewidth": 0,
              "ticks": ""
             }
            },
            "type": "scatter3d"
           }
          ],
          "scattercarpet": [
           {
            "marker": {
             "colorbar": {
              "outlinewidth": 0,
              "ticks": ""
             }
            },
            "type": "scattercarpet"
           }
          ],
          "scattergeo": [
           {
            "marker": {
             "colorbar": {
              "outlinewidth": 0,
              "ticks": ""
             }
            },
            "type": "scattergeo"
           }
          ],
          "scattergl": [
           {
            "marker": {
             "colorbar": {
              "outlinewidth": 0,
              "ticks": ""
             }
            },
            "type": "scattergl"
           }
          ],
          "scattermapbox": [
           {
            "marker": {
             "colorbar": {
              "outlinewidth": 0,
              "ticks": ""
             }
            },
            "type": "scattermapbox"
           }
          ],
          "scatterpolar": [
           {
            "marker": {
             "colorbar": {
              "outlinewidth": 0,
              "ticks": ""
             }
            },
            "type": "scatterpolar"
           }
          ],
          "scatterpolargl": [
           {
            "marker": {
             "colorbar": {
              "outlinewidth": 0,
              "ticks": ""
             }
            },
            "type": "scatterpolargl"
           }
          ],
          "scatterternary": [
           {
            "marker": {
             "colorbar": {
              "outlinewidth": 0,
              "ticks": ""
             }
            },
            "type": "scatterternary"
           }
          ],
          "surface": [
           {
            "colorbar": {
             "outlinewidth": 0,
             "ticks": ""
            },
            "colorscale": [
             [
              0,
              "#0d0887"
             ],
             [
              0.1111111111111111,
              "#46039f"
             ],
             [
              0.2222222222222222,
              "#7201a8"
             ],
             [
              0.3333333333333333,
              "#9c179e"
             ],
             [
              0.4444444444444444,
              "#bd3786"
             ],
             [
              0.5555555555555556,
              "#d8576b"
             ],
             [
              0.6666666666666666,
              "#ed7953"
             ],
             [
              0.7777777777777778,
              "#fb9f3a"
             ],
             [
              0.8888888888888888,
              "#fdca26"
             ],
             [
              1,
              "#f0f921"
             ]
            ],
            "type": "surface"
           }
          ],
          "table": [
           {
            "cells": {
             "fill": {
              "color": "#EBF0F8"
             },
             "line": {
              "color": "white"
             }
            },
            "header": {
             "fill": {
              "color": "#C8D4E3"
             },
             "line": {
              "color": "white"
             }
            },
            "type": "table"
           }
          ]
         },
         "layout": {
          "annotationdefaults": {
           "arrowcolor": "#2a3f5f",
           "arrowhead": 0,
           "arrowwidth": 1
          },
          "autotypenumbers": "strict",
          "coloraxis": {
           "colorbar": {
            "outlinewidth": 0,
            "ticks": ""
           }
          },
          "colorscale": {
           "diverging": [
            [
             0,
             "#8e0152"
            ],
            [
             0.1,
             "#c51b7d"
            ],
            [
             0.2,
             "#de77ae"
            ],
            [
             0.3,
             "#f1b6da"
            ],
            [
             0.4,
             "#fde0ef"
            ],
            [
             0.5,
             "#f7f7f7"
            ],
            [
             0.6,
             "#e6f5d0"
            ],
            [
             0.7,
             "#b8e186"
            ],
            [
             0.8,
             "#7fbc41"
            ],
            [
             0.9,
             "#4d9221"
            ],
            [
             1,
             "#276419"
            ]
           ],
           "sequential": [
            [
             0,
             "#0d0887"
            ],
            [
             0.1111111111111111,
             "#46039f"
            ],
            [
             0.2222222222222222,
             "#7201a8"
            ],
            [
             0.3333333333333333,
             "#9c179e"
            ],
            [
             0.4444444444444444,
             "#bd3786"
            ],
            [
             0.5555555555555556,
             "#d8576b"
            ],
            [
             0.6666666666666666,
             "#ed7953"
            ],
            [
             0.7777777777777778,
             "#fb9f3a"
            ],
            [
             0.8888888888888888,
             "#fdca26"
            ],
            [
             1,
             "#f0f921"
            ]
           ],
           "sequentialminus": [
            [
             0,
             "#0d0887"
            ],
            [
             0.1111111111111111,
             "#46039f"
            ],
            [
             0.2222222222222222,
             "#7201a8"
            ],
            [
             0.3333333333333333,
             "#9c179e"
            ],
            [
             0.4444444444444444,
             "#bd3786"
            ],
            [
             0.5555555555555556,
             "#d8576b"
            ],
            [
             0.6666666666666666,
             "#ed7953"
            ],
            [
             0.7777777777777778,
             "#fb9f3a"
            ],
            [
             0.8888888888888888,
             "#fdca26"
            ],
            [
             1,
             "#f0f921"
            ]
           ]
          },
          "colorway": [
           "#636efa",
           "#EF553B",
           "#00cc96",
           "#ab63fa",
           "#FFA15A",
           "#19d3f3",
           "#FF6692",
           "#B6E880",
           "#FF97FF",
           "#FECB52"
          ],
          "font": {
           "color": "#2a3f5f"
          },
          "geo": {
           "bgcolor": "white",
           "lakecolor": "white",
           "landcolor": "white",
           "showlakes": true,
           "showland": true,
           "subunitcolor": "#C8D4E3"
          },
          "hoverlabel": {
           "align": "left"
          },
          "hovermode": "closest",
          "mapbox": {
           "style": "light"
          },
          "paper_bgcolor": "white",
          "plot_bgcolor": "white",
          "polar": {
           "angularaxis": {
            "gridcolor": "#EBF0F8",
            "linecolor": "#EBF0F8",
            "ticks": ""
           },
           "bgcolor": "white",
           "radialaxis": {
            "gridcolor": "#EBF0F8",
            "linecolor": "#EBF0F8",
            "ticks": ""
           }
          },
          "scene": {
           "xaxis": {
            "backgroundcolor": "white",
            "gridcolor": "#DFE8F3",
            "gridwidth": 2,
            "linecolor": "#EBF0F8",
            "showbackground": true,
            "ticks": "",
            "zerolinecolor": "#EBF0F8"
           },
           "yaxis": {
            "backgroundcolor": "white",
            "gridcolor": "#DFE8F3",
            "gridwidth": 2,
            "linecolor": "#EBF0F8",
            "showbackground": true,
            "ticks": "",
            "zerolinecolor": "#EBF0F8"
           },
           "zaxis": {
            "backgroundcolor": "white",
            "gridcolor": "#DFE8F3",
            "gridwidth": 2,
            "linecolor": "#EBF0F8",
            "showbackground": true,
            "ticks": "",
            "zerolinecolor": "#EBF0F8"
           }
          },
          "shapedefaults": {
           "line": {
            "color": "#2a3f5f"
           }
          },
          "ternary": {
           "aaxis": {
            "gridcolor": "#DFE8F3",
            "linecolor": "#A2B1C6",
            "ticks": ""
           },
           "baxis": {
            "gridcolor": "#DFE8F3",
            "linecolor": "#A2B1C6",
            "ticks": ""
           },
           "bgcolor": "white",
           "caxis": {
            "gridcolor": "#DFE8F3",
            "linecolor": "#A2B1C6",
            "ticks": ""
           }
          },
          "title": {
           "x": 0.05
          },
          "xaxis": {
           "automargin": true,
           "gridcolor": "#EBF0F8",
           "linecolor": "#EBF0F8",
           "ticks": "",
           "title": {
            "standoff": 15
           },
           "zerolinecolor": "#EBF0F8",
           "zerolinewidth": 2
          },
          "yaxis": {
           "automargin": true,
           "gridcolor": "#EBF0F8",
           "linecolor": "#EBF0F8",
           "ticks": "",
           "title": {
            "standoff": 15
           },
           "zerolinecolor": "#EBF0F8",
           "zerolinewidth": 2
          }
         }
        },
        "title": {
         "text": "Calculando o WCSS"
        },
        "xaxis": {
         "anchor": "y",
         "domain": [
          0,
          1
         ],
         "title": {
          "text": "Número de clusters"
         }
        },
        "yaxis": {
         "anchor": "x",
         "domain": [
          0,
          1
         ],
         "title": {
          "text": "Valor do WCSS"
         }
        }
       }
      }
     },
     "metadata": {},
     "output_type": "display_data"
    }
   ],
   "source": [
    "grafico_wcss = px.line( x = range(1, 11), y= wcss_clientes)\n",
    "\n",
    "fig = go.Figure(grafico_wcss)\n",
    "\n",
    "fig.update_layout(title='Calculando o WCSS', xaxis_title= 'Número de clusters', yaxis_title= 'Valor do WCSS', template = 'plotly_white')\n",
    "\n",
    "fig.show()"
   ]
  },
  {
   "cell_type": "code",
   "execution_count": 376,
   "metadata": {},
   "outputs": [],
   "source": [
    "kmeans_clientes = KMeans(n_clusters=4, random_state=0)\n",
    "base_completa['cluster'] = kmeans_clientes.fit_predict(dados_cliente)"
   ]
  },
  {
   "cell_type": "code",
   "execution_count": 377,
   "metadata": {},
   "outputs": [
    {
     "data": {
      "text/html": [
       "<div>\n",
       "<style scoped>\n",
       "    .dataframe tbody tr th:only-of-type {\n",
       "        vertical-align: middle;\n",
       "    }\n",
       "\n",
       "    .dataframe tbody tr th {\n",
       "        vertical-align: top;\n",
       "    }\n",
       "\n",
       "    .dataframe thead th {\n",
       "        text-align: right;\n",
       "    }\n",
       "</style>\n",
       "<table border=\"1\" class=\"dataframe\">\n",
       "  <thead>\n",
       "    <tr style=\"text-align: right;\">\n",
       "      <th></th>\n",
       "      <th>cod_cliente</th>\n",
       "      <th>genero</th>\n",
       "      <th>idade</th>\n",
       "      <th>peso</th>\n",
       "      <th>colesterol</th>\n",
       "      <th>id_estado</th>\n",
       "      <th>estado</th>\n",
       "      <th>sigla_estado</th>\n",
       "      <th>pais</th>\n",
       "      <th>cluster</th>\n",
       "    </tr>\n",
       "  </thead>\n",
       "  <tbody>\n",
       "    <tr>\n",
       "      <th>0</th>\n",
       "      <td>1</td>\n",
       "      <td>Masculino</td>\n",
       "      <td>17</td>\n",
       "      <td>102.0</td>\n",
       "      <td>111</td>\n",
       "      <td>23</td>\n",
       "      <td>Roraima</td>\n",
       "      <td>RR</td>\n",
       "      <td>Brasil</td>\n",
       "      <td>2</td>\n",
       "    </tr>\n",
       "    <tr>\n",
       "      <th>1</th>\n",
       "      <td>2</td>\n",
       "      <td>Masculino</td>\n",
       "      <td>28</td>\n",
       "      <td>115.0</td>\n",
       "      <td>135</td>\n",
       "      <td>7</td>\n",
       "      <td>Distrito Federal</td>\n",
       "      <td>DF</td>\n",
       "      <td>Brasil</td>\n",
       "      <td>2</td>\n",
       "    </tr>\n",
       "    <tr>\n",
       "      <th>2</th>\n",
       "      <td>3</td>\n",
       "      <td>Masculino</td>\n",
       "      <td>62</td>\n",
       "      <td>115.0</td>\n",
       "      <td>136</td>\n",
       "      <td>4</td>\n",
       "      <td>Amazonas</td>\n",
       "      <td>AM</td>\n",
       "      <td>Brasil</td>\n",
       "      <td>2</td>\n",
       "    </tr>\n",
       "    <tr>\n",
       "      <th>3</th>\n",
       "      <td>5</td>\n",
       "      <td>Masculino</td>\n",
       "      <td>44</td>\n",
       "      <td>130.0</td>\n",
       "      <td>158</td>\n",
       "      <td>26</td>\n",
       "      <td>Sergipe</td>\n",
       "      <td>SE</td>\n",
       "      <td>Brasil</td>\n",
       "      <td>1</td>\n",
       "    </tr>\n",
       "    <tr>\n",
       "      <th>4</th>\n",
       "      <td>6</td>\n",
       "      <td>Masculino</td>\n",
       "      <td>17</td>\n",
       "      <td>198.0</td>\n",
       "      <td>227</td>\n",
       "      <td>8</td>\n",
       "      <td>Espírito Santo</td>\n",
       "      <td>ES</td>\n",
       "      <td>Brasil</td>\n",
       "      <td>0</td>\n",
       "    </tr>\n",
       "    <tr>\n",
       "      <th>...</th>\n",
       "      <td>...</td>\n",
       "      <td>...</td>\n",
       "      <td>...</td>\n",
       "      <td>...</td>\n",
       "      <td>...</td>\n",
       "      <td>...</td>\n",
       "      <td>...</td>\n",
       "      <td>...</td>\n",
       "      <td>...</td>\n",
       "      <td>...</td>\n",
       "    </tr>\n",
       "    <tr>\n",
       "      <th>493</th>\n",
       "      <td>543</td>\n",
       "      <td>Masculino</td>\n",
       "      <td>20</td>\n",
       "      <td>172.0</td>\n",
       "      <td>207</td>\n",
       "      <td>22</td>\n",
       "      <td>Rondônia</td>\n",
       "      <td>RO</td>\n",
       "      <td>Brasil</td>\n",
       "      <td>0</td>\n",
       "    </tr>\n",
       "    <tr>\n",
       "      <th>494</th>\n",
       "      <td>544</td>\n",
       "      <td>Masculino</td>\n",
       "      <td>66</td>\n",
       "      <td>129.0</td>\n",
       "      <td>157</td>\n",
       "      <td>1</td>\n",
       "      <td>Acre</td>\n",
       "      <td>AC</td>\n",
       "      <td>Brasil</td>\n",
       "      <td>1</td>\n",
       "    </tr>\n",
       "    <tr>\n",
       "      <th>495</th>\n",
       "      <td>545</td>\n",
       "      <td>Masculino</td>\n",
       "      <td>36</td>\n",
       "      <td>107.0</td>\n",
       "      <td>115</td>\n",
       "      <td>6</td>\n",
       "      <td>Ceará</td>\n",
       "      <td>CE</td>\n",
       "      <td>Brasil</td>\n",
       "      <td>2</td>\n",
       "    </tr>\n",
       "    <tr>\n",
       "      <th>496</th>\n",
       "      <td>546</td>\n",
       "      <td>Masculino</td>\n",
       "      <td>57</td>\n",
       "      <td>117.0</td>\n",
       "      <td>147</td>\n",
       "      <td>20</td>\n",
       "      <td>Rio Grande do Norte</td>\n",
       "      <td>RN</td>\n",
       "      <td>Brasil</td>\n",
       "      <td>1</td>\n",
       "    </tr>\n",
       "    <tr>\n",
       "      <th>497</th>\n",
       "      <td>547</td>\n",
       "      <td>Masculino</td>\n",
       "      <td>61</td>\n",
       "      <td>148.0</td>\n",
       "      <td>176</td>\n",
       "      <td>8</td>\n",
       "      <td>Espírito Santo</td>\n",
       "      <td>ES</td>\n",
       "      <td>Brasil</td>\n",
       "      <td>3</td>\n",
       "    </tr>\n",
       "  </tbody>\n",
       "</table>\n",
       "<p>498 rows × 10 columns</p>\n",
       "</div>"
      ],
      "text/plain": [
       "     cod_cliente     genero  idade   peso  colesterol  id_estado  \\\n",
       "0              1  Masculino     17  102.0         111         23   \n",
       "1              2  Masculino     28  115.0         135          7   \n",
       "2              3  Masculino     62  115.0         136          4   \n",
       "3              5  Masculino     44  130.0         158         26   \n",
       "4              6  Masculino     17  198.0         227          8   \n",
       "..           ...        ...    ...    ...         ...        ...   \n",
       "493          543  Masculino     20  172.0         207         22   \n",
       "494          544  Masculino     66  129.0         157          1   \n",
       "495          545  Masculino     36  107.0         115          6   \n",
       "496          546  Masculino     57  117.0         147         20   \n",
       "497          547  Masculino     61  148.0         176          8   \n",
       "\n",
       "                  estado sigla_estado    pais  cluster  \n",
       "0                Roraima           RR  Brasil        2  \n",
       "1       Distrito Federal           DF  Brasil        2  \n",
       "2               Amazonas           AM  Brasil        2  \n",
       "3                Sergipe           SE  Brasil        1  \n",
       "4         Espírito Santo           ES  Brasil        0  \n",
       "..                   ...          ...     ...      ...  \n",
       "493             Rondônia           RO  Brasil        0  \n",
       "494                 Acre           AC  Brasil        1  \n",
       "495                Ceará           CE  Brasil        2  \n",
       "496  Rio Grande do Norte           RN  Brasil        1  \n",
       "497       Espírito Santo           ES  Brasil        3  \n",
       "\n",
       "[498 rows x 10 columns]"
      ]
     },
     "execution_count": 377,
     "metadata": {},
     "output_type": "execute_result"
    }
   ],
   "source": [
    "base_completa"
   ]
  },
  {
   "cell_type": "markdown",
   "metadata": {},
   "source": [
    "## calculando centroide"
   ]
  },
  {
   "cell_type": "code",
   "execution_count": 378,
   "metadata": {},
   "outputs": [
    {
     "data": {
      "text/plain": [
       "array([[184.32394366, 218.98591549],\n",
       "       [127.57024793, 154.20661157],\n",
       "       [106.90697674, 119.57364341],\n",
       "       [152.32075472, 186.03773585]])"
      ]
     },
     "execution_count": 378,
     "metadata": {},
     "output_type": "execute_result"
    }
   ],
   "source": [
    "centroides_clusters = kmeans_clientes.cluster_centers_\n",
    "centroides_clusters"
   ]
  },
  {
   "cell_type": "code",
   "execution_count": 380,
   "metadata": {},
   "outputs": [
    {
     "data": {
      "application/vnd.plotly.v1+json": {
       "config": {
        "plotlyServerURL": "https://plot.ly"
       },
       "data": [
        {
         "hovertemplate": "x=%{x}<br>y=%{y}<br>color=%{marker.color}<extra></extra>",
         "legendgroup": "",
         "marker": {
          "color": [
           2,
           2,
           2,
           1,
           0,
           2,
           3,
           0,
           0,
           2,
           0,
           2,
           3,
           1,
           0,
           2,
           0,
           3,
           1,
           3,
           2,
           0,
           1,
           2,
           0,
           2,
           0,
           0,
           3,
           0,
           1,
           3,
           0,
           2,
           0,
           2,
           1,
           3,
           0,
           3,
           1,
           0,
           1,
           0,
           1,
           1,
           2,
           2,
           3,
           0,
           3,
           2,
           3,
           3,
           0,
           1,
           3,
           2,
           3,
           2,
           1,
           3,
           3,
           0,
           1,
           1,
           1,
           1,
           3,
           0,
           2,
           1,
           0,
           2,
           1,
           1,
           2,
           0,
           1,
           2,
           1,
           3,
           1,
           1,
           2,
           3,
           0,
           2,
           2,
           2,
           1,
           1,
           3,
           2,
           2,
           3,
           1,
           0,
           2,
           3,
           2,
           0,
           1,
           0,
           1,
           2,
           0,
           2,
           1,
           3,
           1,
           0,
           2,
           3,
           0,
           0,
           2,
           0,
           2,
           1,
           0,
           2,
           0,
           3,
           1,
           3,
           2,
           0,
           3,
           2,
           0,
           2,
           0,
           0,
           3,
           3,
           2,
           0,
           2,
           0,
           2,
           1,
           0,
           0,
           1,
           0,
           0,
           0,
           1,
           1,
           3,
           0,
           3,
           2,
           0,
           3,
           0,
           1,
           3,
           2,
           3,
           2,
           0,
           3,
           3,
           0,
           1,
           1,
           1,
           1,
           3,
           0,
           2,
           1,
           0,
           2,
           1,
           2,
           0,
           1,
           2,
           1,
           3,
           3,
           1,
           2,
           3,
           0,
           2,
           2,
           2,
           1,
           1,
           3,
           2,
           2,
           0,
           2,
           1,
           0,
           0,
           1,
           2,
           0,
           0,
           1,
           2,
           0,
           2,
           1,
           1,
           1,
           0,
           2,
           3,
           0,
           2,
           0,
           2,
           3,
           1,
           0,
           2,
           0,
           3,
           1,
           3,
           2,
           0,
           2,
           0,
           2,
           0,
           0,
           3,
           0,
           3,
           3,
           0,
           2,
           0,
           2,
           1,
           0,
           0,
           3,
           1,
           0,
           1,
           0,
           1,
           1,
           2,
           1,
           0,
           0,
           3,
           2,
           3,
           3,
           0,
           3,
           2,
           3,
           2,
           0,
           3,
           3,
           2,
           3,
           0,
           1,
           1,
           1,
           3,
           0,
           2,
           1,
           0,
           2,
           1,
           2,
           0,
           1,
           2,
           1,
           3,
           3,
           1,
           2,
           3,
           0,
           2,
           2,
           2,
           1,
           1,
           3,
           2,
           2,
           3,
           0,
           2,
           1,
           0,
           0,
           2,
           3,
           2,
           0,
           1,
           0,
           1,
           2,
           0,
           2,
           1,
           1,
           3,
           1,
           0,
           2,
           3,
           0,
           0,
           2,
           0,
           2,
           1,
           0,
           0,
           3,
           1,
           3,
           2,
           0,
           3,
           2,
           0,
           2,
           0,
           0,
           0,
           1,
           3,
           2,
           0,
           2,
           0,
           2,
           0,
           0,
           3,
           1,
           0,
           0,
           0,
           1,
           1,
           1,
           3,
           0,
           3,
           2,
           3,
           0,
           1,
           3,
           2,
           3,
           0,
           3,
           3,
           2,
           3,
           0,
           1,
           1,
           1,
           1,
           3,
           0,
           2,
           1,
           0,
           2,
           1,
           2,
           0,
           2,
           1,
           3,
           1,
           1,
           2,
           3,
           2,
           2,
           2,
           1,
           1,
           3,
           2,
           2,
           3,
           0,
           1,
           0,
           0,
           1,
           3,
           2,
           0,
           1,
           0,
           1,
           2,
           0,
           2,
           1,
           1,
           3,
           1,
           1,
           3,
           0,
           0,
           2,
           0,
           2,
           3,
           1,
           0,
           2,
           0,
           3,
           1,
           3,
           0,
           3,
           2,
           0,
           2,
           0,
           0,
           3,
           0,
           3,
           3,
           2,
           2,
           0,
           2,
           1,
           0,
           3,
           1,
           0,
           0,
           1,
           0,
           1,
           1,
           2,
           3,
           0,
           3,
           2,
           3,
           3,
           0,
           1,
           3,
           2,
           2,
           3,
           3,
           2,
           3,
           0,
           3,
           1,
           1,
           1,
           3,
           0,
           2,
           1,
           0,
           2,
           1,
           1,
           2,
           0,
           1,
           2,
           1,
           3
          ],
          "coloraxis": "coloraxis",
          "symbol": "circle"
         },
         "mode": "markers",
         "name": "",
         "orientation": "v",
         "showlegend": false,
         "type": "scatter",
         "x": [
          102,
          115,
          115,
          130,
          198,
          114,
          145,
          191,
          186,
          104,
          188,
          96,
          156,
          125,
          178,
          109,
          168,
          152,
          133,
          153,
          107,
          199,
          140,
          95,
          183,
          108,
          190,
          174,
          149,
          169,
          138,
          151,
          178,
          106,
          195,
          96,
          129,
          166,
          197,
          148,
          117,
          193,
          130,
          183,
          134,
          128,
          105,
          115,
          166,
          183,
          149,
          110,
          164,
          157,
          170,
          124,
          145,
          113,
          150,
          100,
          139,
          150,
          157,
          187,
          137,
          121,
          132,
          130,
          156,
          180,
          100,
          122,
          185,
          113,
          123,
          119,
          113,
          168,
          126,
          102,
          116,
          144,
          140,
          124,
          108,
          154,
          185,
          106,
          97,
          96,
          129,
          124,
          149,
          97,
          102,
          146,
          118,
          179,
          113,
          142,
          101,
          174,
          131,
          179,
          122,
          105,
          176,
          103,
          120,
          143,
          134,
          203,
          116,
          150,
          192,
          187,
          107,
          192,
          97,
          128,
          183,
          112,
          173,
          156,
          137,
          156,
          112,
          203,
          141,
          97,
          186,
          113,
          195,
          175,
          154,
          152,
          114,
          181,
          111,
          200,
          100,
          134,
          167,
          198,
          121,
          196,
          171,
          186,
          133,
          120,
          168,
          184,
          154,
          115,
          168,
          161,
          171,
          129,
          150,
          118,
          154,
          103,
          180,
          141,
          159,
          191,
          142,
          123,
          135,
          132,
          158,
          181,
          105,
          126,
          186,
          116,
          124,
          115,
          173,
          128,
          103,
          120,
          146,
          145,
          125,
          109,
          156,
          187,
          110,
          100,
          97,
          133,
          128,
          154,
          100,
          104,
          203,
          104,
          119,
          181,
          180,
          116,
          102,
          176,
          184,
          124,
          110,
          180,
          103,
          117,
          120,
          133,
          201,
          117,
          146,
          195,
          108,
          191,
          100,
          158,
          127,
          181,
          113,
          171,
          153,
          137,
          154,
          112,
          201,
          100,
          185,
          111,
          191,
          176,
          150,
          171,
          140,
          153,
          180,
          107,
          197,
          101,
          132,
          168,
          200,
          150,
          119,
          197,
          134,
          185,
          135,
          132,
          109,
          116,
          170,
          187,
          154,
          111,
          169,
          161,
          174,
          148,
          117,
          154,
          104,
          183,
          142,
          155,
          105,
          160,
          191,
          140,
          123,
          132,
          158,
          182,
          104,
          126,
          188,
          118,
          127,
          118,
          169,
          128,
          106,
          119,
          147,
          141,
          125,
          109,
          158,
          190,
          110,
          99,
          98,
          134,
          129,
          154,
          100,
          107,
          149,
          203,
          101,
          119,
          182,
          181,
          115,
          145,
          102,
          176,
          134,
          183,
          123,
          108,
          177,
          104,
          117,
          117,
          145,
          134,
          199,
          115,
          149,
          192,
          188,
          107,
          190,
          98,
          128,
          180,
          172,
          157,
          137,
          158,
          110,
          203,
          145,
          96,
          186,
          110,
          194,
          177,
          172,
          140,
          154,
          113,
          179,
          111,
          196,
          101,
          171,
          199,
          151,
          121,
          196,
          174,
          184,
          137,
          129,
          116,
          168,
          184,
          151,
          114,
          167,
          175,
          127,
          146,
          118,
          151,
          180,
          140,
          155,
          106,
          160,
          192,
          138,
          122,
          135,
          132,
          158,
          184,
          101,
          126,
          188,
          118,
          127,
          117,
          172,
          104,
          121,
          148,
          141,
          128,
          113,
          155,
          108,
          98,
          100,
          134,
          125,
          151,
          100,
          107,
          147,
          200,
          120,
          181,
          182,
          117,
          145,
          106,
          179,
          134,
          180,
          126,
          110,
          180,
          103,
          116,
          119,
          144,
          133,
          115,
          150,
          192,
          188,
          109,
          189,
          101,
          159,
          128,
          182,
          111,
          171,
          154,
          134,
          157,
          203,
          142,
          97,
          187,
          111,
          194,
          176,
          153,
          171,
          142,
          153,
          113,
          108,
          200,
          99,
          131,
          171,
          152,
          119,
          196,
          173,
          132,
          185,
          138,
          132,
          110,
          167,
          188,
          151,
          112,
          166,
          158,
          172,
          127,
          150,
          115,
          103,
          141,
          152,
          105,
          162,
          190,
          141,
          122,
          136,
          131,
          157,
          181,
          103,
          127,
          189,
          114,
          125,
          123,
          116,
          172,
          129,
          107,
          117,
          148
         ],
         "xaxis": "x",
         "y": [
          111,
          135,
          136,
          158,
          227,
          131,
          176,
          223,
          221,
          116,
          222,
          102,
          192,
          152,
          213,
          125,
          204,
          189,
          163,
          189,
          122,
          228,
          168,
          102,
          218,
          123,
          222,
          208,
          183,
          204,
          167,
          188,
          213,
          122,
          225,
          105,
          155,
          203,
          225,
          177,
          139,
          224,
          158,
          218,
          164,
          154,
          118,
          138,
          199,
          219,
          183,
          128,
          197,
          196,
          208,
          152,
          175,
          129,
          185,
          107,
          167,
          185,
          194,
          221,
          166,
          143,
          163,
          158,
          191,
          216,
          106,
          146,
          220,
          131,
          147,
          141,
          130,
          204,
          152,
          111,
          139,
          172,
          168,
          148,
          123,
          189,
          220,
          120,
          106,
          105,
          157,
          149,
          185,
          106,
          115,
          177,
          140,
          216,
          130,
          169,
          110,
          209,
          162,
          214,
          145,
          116,
          209,
          116,
          139,
          168,
          158,
          232,
          136,
          180,
          228,
          222,
          117,
          224,
          104,
          156,
          213,
          133,
          208,
          195,
          163,
          195,
          124,
          231,
          172,
          104,
          221,
          128,
          222,
          214,
          184,
          195,
          132,
          214,
          123,
          233,
          107,
          162,
          204,
          227,
          142,
          225,
          212,
          220,
          155,
          144,
          201,
          222,
          189,
          132,
          204,
          201,
          211,
          156,
          179,
          129,
          185,
          107,
          213,
          172,
          202,
          222,
          168,
          146,
          170,
          165,
          196,
          224,
          108,
          149,
          224,
          136,
          152,
          135,
          211,
          156,
          115,
          143,
          179,
          173,
          148,
          127,
          194,
          225,
          127,
          106,
          112,
          164,
          151,
          191,
          110,
          116,
          235,
          108,
          141,
          219,
          219,
          138,
          116,
          212,
          220,
          151,
          119,
          212,
          111,
          142,
          138,
          158,
          228,
          134,
          181,
          231,
          121,
          222,
          102,
          195,
          156,
          214,
          132,
          204,
          190,
          167,
          195,
          127,
          235,
          110,
          221,
          128,
          226,
          208,
          191,
          205,
          173,
          191,
          220,
          126,
          232,
          108,
          159,
          211,
          232,
          182,
          145,
          224,
          160,
          219,
          170,
          161,
          122,
          141,
          204,
          226,
          187,
          129,
          199,
          199,
          214,
          176,
          129,
          187,
          109,
          212,
          170,
          191,
          116,
          202,
          226,
          166,
          151,
          166,
          193,
          218,
          109,
          152,
          220,
          133,
          152,
          131,
          204,
          153,
          114,
          144,
          172,
          176,
          150,
          129,
          190,
          226,
          128,
          106,
          107,
          159,
          157,
          192,
          110,
          115,
          183,
          233,
          112,
          146,
          222,
          216,
          134,
          174,
          114,
          211,
          167,
          214,
          145,
          120,
          217,
          113,
          141,
          140,
          171,
          163,
          232,
          131,
          184,
          225,
          223,
          121,
          223,
          105,
          160,
          218,
          211,
          194,
          169,
          189,
          128,
          228,
          169,
          108,
          219,
          124,
          224,
          214,
          205,
          167,
          190,
          128,
          217,
          126,
          228,
          105,
          211,
          227,
          178,
          146,
          227,
          208,
          225,
          167,
          162,
          144,
          199,
          226,
          183,
          136,
          199,
          215,
          155,
          179,
          133,
          186,
          219,
          173,
          185,
          118,
          199,
          226,
          169,
          144,
          166,
          166,
          198,
          222,
          110,
          154,
          226,
          135,
          151,
          133,
          205,
          116,
          145,
          174,
          168,
          156,
          124,
          196,
          122,
          106,
          110,
          158,
          154,
          190,
          110,
          120,
          180,
          232,
          142,
          222,
          218,
          138,
          176,
          115,
          211,
          168,
          216,
          147,
          124,
          215,
          117,
          139,
          138,
          171,
          158,
          139,
          178,
          224,
          224,
          116,
          223,
          109,
          193,
          155,
          221,
          130,
          212,
          190,
          169,
          191,
          234,
          175,
          108,
          220,
          126,
          227,
          216,
          188,
          205,
          172,
          192,
          129,
          127,
          228,
          105,
          159,
          205,
          178,
          139,
          232,
          212,
          162,
          226,
          171,
          159,
          120,
          200,
          221,
          184,
          134,
          200,
          201,
          210,
          159,
          178,
          137,
          110,
          170,
          193,
          113,
          196,
          222,
          174,
          143,
          169,
          165,
          194,
          217,
          113,
          150,
          223,
          133,
          149,
          149,
          130,
          207,
          157,
          115,
          147,
          176
         ],
         "yaxis": "y"
        }
       ],
       "layout": {
        "template": {
         "data": {
          "bar": [
           {
            "error_x": {
             "color": "#2a3f5f"
            },
            "error_y": {
             "color": "#2a3f5f"
            },
            "marker": {
             "line": {
              "color": "#E5ECF6",
              "width": 0.5
             },
             "pattern": {
              "fillmode": "overlay",
              "size": 10,
              "solidity": 0.2
             }
            },
            "type": "bar"
           }
          ],
          "barpolar": [
           {
            "marker": {
             "line": {
              "color": "#E5ECF6",
              "width": 0.5
             },
             "pattern": {
              "fillmode": "overlay",
              "size": 10,
              "solidity": 0.2
             }
            },
            "type": "barpolar"
           }
          ],
          "carpet": [
           {
            "aaxis": {
             "endlinecolor": "#2a3f5f",
             "gridcolor": "white",
             "linecolor": "white",
             "minorgridcolor": "white",
             "startlinecolor": "#2a3f5f"
            },
            "baxis": {
             "endlinecolor": "#2a3f5f",
             "gridcolor": "white",
             "linecolor": "white",
             "minorgridcolor": "white",
             "startlinecolor": "#2a3f5f"
            },
            "type": "carpet"
           }
          ],
          "choropleth": [
           {
            "colorbar": {
             "outlinewidth": 0,
             "ticks": ""
            },
            "type": "choropleth"
           }
          ],
          "contour": [
           {
            "colorbar": {
             "outlinewidth": 0,
             "ticks": ""
            },
            "colorscale": [
             [
              0,
              "#0d0887"
             ],
             [
              0.1111111111111111,
              "#46039f"
             ],
             [
              0.2222222222222222,
              "#7201a8"
             ],
             [
              0.3333333333333333,
              "#9c179e"
             ],
             [
              0.4444444444444444,
              "#bd3786"
             ],
             [
              0.5555555555555556,
              "#d8576b"
             ],
             [
              0.6666666666666666,
              "#ed7953"
             ],
             [
              0.7777777777777778,
              "#fb9f3a"
             ],
             [
              0.8888888888888888,
              "#fdca26"
             ],
             [
              1,
              "#f0f921"
             ]
            ],
            "type": "contour"
           }
          ],
          "contourcarpet": [
           {
            "colorbar": {
             "outlinewidth": 0,
             "ticks": ""
            },
            "type": "contourcarpet"
           }
          ],
          "heatmap": [
           {
            "colorbar": {
             "outlinewidth": 0,
             "ticks": ""
            },
            "colorscale": [
             [
              0,
              "#0d0887"
             ],
             [
              0.1111111111111111,
              "#46039f"
             ],
             [
              0.2222222222222222,
              "#7201a8"
             ],
             [
              0.3333333333333333,
              "#9c179e"
             ],
             [
              0.4444444444444444,
              "#bd3786"
             ],
             [
              0.5555555555555556,
              "#d8576b"
             ],
             [
              0.6666666666666666,
              "#ed7953"
             ],
             [
              0.7777777777777778,
              "#fb9f3a"
             ],
             [
              0.8888888888888888,
              "#fdca26"
             ],
             [
              1,
              "#f0f921"
             ]
            ],
            "type": "heatmap"
           }
          ],
          "heatmapgl": [
           {
            "colorbar": {
             "outlinewidth": 0,
             "ticks": ""
            },
            "colorscale": [
             [
              0,
              "#0d0887"
             ],
             [
              0.1111111111111111,
              "#46039f"
             ],
             [
              0.2222222222222222,
              "#7201a8"
             ],
             [
              0.3333333333333333,
              "#9c179e"
             ],
             [
              0.4444444444444444,
              "#bd3786"
             ],
             [
              0.5555555555555556,
              "#d8576b"
             ],
             [
              0.6666666666666666,
              "#ed7953"
             ],
             [
              0.7777777777777778,
              "#fb9f3a"
             ],
             [
              0.8888888888888888,
              "#fdca26"
             ],
             [
              1,
              "#f0f921"
             ]
            ],
            "type": "heatmapgl"
           }
          ],
          "histogram": [
           {
            "marker": {
             "pattern": {
              "fillmode": "overlay",
              "size": 10,
              "solidity": 0.2
             }
            },
            "type": "histogram"
           }
          ],
          "histogram2d": [
           {
            "colorbar": {
             "outlinewidth": 0,
             "ticks": ""
            },
            "colorscale": [
             [
              0,
              "#0d0887"
             ],
             [
              0.1111111111111111,
              "#46039f"
             ],
             [
              0.2222222222222222,
              "#7201a8"
             ],
             [
              0.3333333333333333,
              "#9c179e"
             ],
             [
              0.4444444444444444,
              "#bd3786"
             ],
             [
              0.5555555555555556,
              "#d8576b"
             ],
             [
              0.6666666666666666,
              "#ed7953"
             ],
             [
              0.7777777777777778,
              "#fb9f3a"
             ],
             [
              0.8888888888888888,
              "#fdca26"
             ],
             [
              1,
              "#f0f921"
             ]
            ],
            "type": "histogram2d"
           }
          ],
          "histogram2dcontour": [
           {
            "colorbar": {
             "outlinewidth": 0,
             "ticks": ""
            },
            "colorscale": [
             [
              0,
              "#0d0887"
             ],
             [
              0.1111111111111111,
              "#46039f"
             ],
             [
              0.2222222222222222,
              "#7201a8"
             ],
             [
              0.3333333333333333,
              "#9c179e"
             ],
             [
              0.4444444444444444,
              "#bd3786"
             ],
             [
              0.5555555555555556,
              "#d8576b"
             ],
             [
              0.6666666666666666,
              "#ed7953"
             ],
             [
              0.7777777777777778,
              "#fb9f3a"
             ],
             [
              0.8888888888888888,
              "#fdca26"
             ],
             [
              1,
              "#f0f921"
             ]
            ],
            "type": "histogram2dcontour"
           }
          ],
          "mesh3d": [
           {
            "colorbar": {
             "outlinewidth": 0,
             "ticks": ""
            },
            "type": "mesh3d"
           }
          ],
          "parcoords": [
           {
            "line": {
             "colorbar": {
              "outlinewidth": 0,
              "ticks": ""
             }
            },
            "type": "parcoords"
           }
          ],
          "pie": [
           {
            "automargin": true,
            "type": "pie"
           }
          ],
          "scatter": [
           {
            "fillpattern": {
             "fillmode": "overlay",
             "size": 10,
             "solidity": 0.2
            },
            "type": "scatter"
           }
          ],
          "scatter3d": [
           {
            "line": {
             "colorbar": {
              "outlinewidth": 0,
              "ticks": ""
             }
            },
            "marker": {
             "colorbar": {
              "outlinewidth": 0,
              "ticks": ""
             }
            },
            "type": "scatter3d"
           }
          ],
          "scattercarpet": [
           {
            "marker": {
             "colorbar": {
              "outlinewidth": 0,
              "ticks": ""
             }
            },
            "type": "scattercarpet"
           }
          ],
          "scattergeo": [
           {
            "marker": {
             "colorbar": {
              "outlinewidth": 0,
              "ticks": ""
             }
            },
            "type": "scattergeo"
           }
          ],
          "scattergl": [
           {
            "marker": {
             "colorbar": {
              "outlinewidth": 0,
              "ticks": ""
             }
            },
            "type": "scattergl"
           }
          ],
          "scattermapbox": [
           {
            "marker": {
             "colorbar": {
              "outlinewidth": 0,
              "ticks": ""
             }
            },
            "type": "scattermapbox"
           }
          ],
          "scatterpolar": [
           {
            "marker": {
             "colorbar": {
              "outlinewidth": 0,
              "ticks": ""
             }
            },
            "type": "scatterpolar"
           }
          ],
          "scatterpolargl": [
           {
            "marker": {
             "colorbar": {
              "outlinewidth": 0,
              "ticks": ""
             }
            },
            "type": "scatterpolargl"
           }
          ],
          "scatterternary": [
           {
            "marker": {
             "colorbar": {
              "outlinewidth": 0,
              "ticks": ""
             }
            },
            "type": "scatterternary"
           }
          ],
          "surface": [
           {
            "colorbar": {
             "outlinewidth": 0,
             "ticks": ""
            },
            "colorscale": [
             [
              0,
              "#0d0887"
             ],
             [
              0.1111111111111111,
              "#46039f"
             ],
             [
              0.2222222222222222,
              "#7201a8"
             ],
             [
              0.3333333333333333,
              "#9c179e"
             ],
             [
              0.4444444444444444,
              "#bd3786"
             ],
             [
              0.5555555555555556,
              "#d8576b"
             ],
             [
              0.6666666666666666,
              "#ed7953"
             ],
             [
              0.7777777777777778,
              "#fb9f3a"
             ],
             [
              0.8888888888888888,
              "#fdca26"
             ],
             [
              1,
              "#f0f921"
             ]
            ],
            "type": "surface"
           }
          ],
          "table": [
           {
            "cells": {
             "fill": {
              "color": "#EBF0F8"
             },
             "line": {
              "color": "white"
             }
            },
            "header": {
             "fill": {
              "color": "#C8D4E3"
             },
             "line": {
              "color": "white"
             }
            },
            "type": "table"
           }
          ]
         },
         "layout": {
          "annotationdefaults": {
           "arrowcolor": "#2a3f5f",
           "arrowhead": 0,
           "arrowwidth": 1
          },
          "autotypenumbers": "strict",
          "coloraxis": {
           "colorbar": {
            "outlinewidth": 0,
            "ticks": ""
           }
          },
          "colorscale": {
           "diverging": [
            [
             0,
             "#8e0152"
            ],
            [
             0.1,
             "#c51b7d"
            ],
            [
             0.2,
             "#de77ae"
            ],
            [
             0.3,
             "#f1b6da"
            ],
            [
             0.4,
             "#fde0ef"
            ],
            [
             0.5,
             "#f7f7f7"
            ],
            [
             0.6,
             "#e6f5d0"
            ],
            [
             0.7,
             "#b8e186"
            ],
            [
             0.8,
             "#7fbc41"
            ],
            [
             0.9,
             "#4d9221"
            ],
            [
             1,
             "#276419"
            ]
           ],
           "sequential": [
            [
             0,
             "#0d0887"
            ],
            [
             0.1111111111111111,
             "#46039f"
            ],
            [
             0.2222222222222222,
             "#7201a8"
            ],
            [
             0.3333333333333333,
             "#9c179e"
            ],
            [
             0.4444444444444444,
             "#bd3786"
            ],
            [
             0.5555555555555556,
             "#d8576b"
            ],
            [
             0.6666666666666666,
             "#ed7953"
            ],
            [
             0.7777777777777778,
             "#fb9f3a"
            ],
            [
             0.8888888888888888,
             "#fdca26"
            ],
            [
             1,
             "#f0f921"
            ]
           ],
           "sequentialminus": [
            [
             0,
             "#0d0887"
            ],
            [
             0.1111111111111111,
             "#46039f"
            ],
            [
             0.2222222222222222,
             "#7201a8"
            ],
            [
             0.3333333333333333,
             "#9c179e"
            ],
            [
             0.4444444444444444,
             "#bd3786"
            ],
            [
             0.5555555555555556,
             "#d8576b"
            ],
            [
             0.6666666666666666,
             "#ed7953"
            ],
            [
             0.7777777777777778,
             "#fb9f3a"
            ],
            [
             0.8888888888888888,
             "#fdca26"
            ],
            [
             1,
             "#f0f921"
            ]
           ]
          },
          "colorway": [
           "#636efa",
           "#EF553B",
           "#00cc96",
           "#ab63fa",
           "#FFA15A",
           "#19d3f3",
           "#FF6692",
           "#B6E880",
           "#FF97FF",
           "#FECB52"
          ],
          "font": {
           "color": "#2a3f5f"
          },
          "geo": {
           "bgcolor": "white",
           "lakecolor": "white",
           "landcolor": "#E5ECF6",
           "showlakes": true,
           "showland": true,
           "subunitcolor": "white"
          },
          "hoverlabel": {
           "align": "left"
          },
          "hovermode": "closest",
          "mapbox": {
           "style": "light"
          },
          "paper_bgcolor": "white",
          "plot_bgcolor": "#E5ECF6",
          "polar": {
           "angularaxis": {
            "gridcolor": "white",
            "linecolor": "white",
            "ticks": ""
           },
           "bgcolor": "#E5ECF6",
           "radialaxis": {
            "gridcolor": "white",
            "linecolor": "white",
            "ticks": ""
           }
          },
          "scene": {
           "xaxis": {
            "backgroundcolor": "#E5ECF6",
            "gridcolor": "white",
            "gridwidth": 2,
            "linecolor": "white",
            "showbackground": true,
            "ticks": "",
            "zerolinecolor": "white"
           },
           "yaxis": {
            "backgroundcolor": "#E5ECF6",
            "gridcolor": "white",
            "gridwidth": 2,
            "linecolor": "white",
            "showbackground": true,
            "ticks": "",
            "zerolinecolor": "white"
           },
           "zaxis": {
            "backgroundcolor": "#E5ECF6",
            "gridcolor": "white",
            "gridwidth": 2,
            "linecolor": "white",
            "showbackground": true,
            "ticks": "",
            "zerolinecolor": "white"
           }
          },
          "shapedefaults": {
           "line": {
            "color": "#2a3f5f"
           }
          },
          "ternary": {
           "aaxis": {
            "gridcolor": "white",
            "linecolor": "white",
            "ticks": ""
           },
           "baxis": {
            "gridcolor": "white",
            "linecolor": "white",
            "ticks": ""
           },
           "bgcolor": "#E5ECF6",
           "caxis": {
            "gridcolor": "white",
            "linecolor": "white",
            "ticks": ""
           }
          },
          "title": {
           "x": 0.05
          },
          "xaxis": {
           "automargin": true,
           "gridcolor": "white",
           "linecolor": "white",
           "ticks": "",
           "title": {
            "standoff": 15
           },
           "zerolinecolor": "white",
           "zerolinewidth": 2
          },
          "yaxis": {
           "automargin": true,
           "gridcolor": "white",
           "linecolor": "white",
           "ticks": "",
           "title": {
            "standoff": 15
           },
           "zerolinecolor": "white",
           "zerolinewidth": 2
          }
         }
        }
       }
      }
     },
     "metadata": {},
     "output_type": "display_data"
    }
   ],
   "source": [
    "grafico = px.scatter(x = base_completa['peso'], y= base_completa['colesterol'], color = base_completa['cluster'])\n",
    "\n",
    "grafico_centroide = px.scatter()\n",
    "grafico_final_petala = go.Figure(data = grafico.data + grafico_centroide.data)\n",
    "grafico_final_petala.show()"
   ]
  },
  {
   "cell_type": "markdown",
   "metadata": {},
   "source": [
    "## visualizando e alterando layout do grafico"
   ]
  },
  {
   "cell_type": "code",
   "execution_count": 381,
   "metadata": {},
   "outputs": [
    {
     "data": {
      "application/vnd.plotly.v1+json": {
       "config": {
        "plotlyServerURL": "https://plot.ly"
       },
       "data": [
        {
         "hovertemplate": "x=%{x}<br>y=%{y}<br>color=%{marker.color}<extra></extra>",
         "legendgroup": "",
         "marker": {
          "color": [
           2,
           2,
           2,
           1,
           0,
           2,
           3,
           0,
           0,
           2,
           0,
           2,
           3,
           1,
           0,
           2,
           0,
           3,
           1,
           3,
           2,
           0,
           1,
           2,
           0,
           2,
           0,
           0,
           3,
           0,
           1,
           3,
           0,
           2,
           0,
           2,
           1,
           3,
           0,
           3,
           1,
           0,
           1,
           0,
           1,
           1,
           2,
           2,
           3,
           0,
           3,
           2,
           3,
           3,
           0,
           1,
           3,
           2,
           3,
           2,
           1,
           3,
           3,
           0,
           1,
           1,
           1,
           1,
           3,
           0,
           2,
           1,
           0,
           2,
           1,
           1,
           2,
           0,
           1,
           2,
           1,
           3,
           1,
           1,
           2,
           3,
           0,
           2,
           2,
           2,
           1,
           1,
           3,
           2,
           2,
           3,
           1,
           0,
           2,
           3,
           2,
           0,
           1,
           0,
           1,
           2,
           0,
           2,
           1,
           3,
           1,
           0,
           2,
           3,
           0,
           0,
           2,
           0,
           2,
           1,
           0,
           2,
           0,
           3,
           1,
           3,
           2,
           0,
           3,
           2,
           0,
           2,
           0,
           0,
           3,
           3,
           2,
           0,
           2,
           0,
           2,
           1,
           0,
           0,
           1,
           0,
           0,
           0,
           1,
           1,
           3,
           0,
           3,
           2,
           0,
           3,
           0,
           1,
           3,
           2,
           3,
           2,
           0,
           3,
           3,
           0,
           1,
           1,
           1,
           1,
           3,
           0,
           2,
           1,
           0,
           2,
           1,
           2,
           0,
           1,
           2,
           1,
           3,
           3,
           1,
           2,
           3,
           0,
           2,
           2,
           2,
           1,
           1,
           3,
           2,
           2,
           0,
           2,
           1,
           0,
           0,
           1,
           2,
           0,
           0,
           1,
           2,
           0,
           2,
           1,
           1,
           1,
           0,
           2,
           3,
           0,
           2,
           0,
           2,
           3,
           1,
           0,
           2,
           0,
           3,
           1,
           3,
           2,
           0,
           2,
           0,
           2,
           0,
           0,
           3,
           0,
           3,
           3,
           0,
           2,
           0,
           2,
           1,
           0,
           0,
           3,
           1,
           0,
           1,
           0,
           1,
           1,
           2,
           1,
           0,
           0,
           3,
           2,
           3,
           3,
           0,
           3,
           2,
           3,
           2,
           0,
           3,
           3,
           2,
           3,
           0,
           1,
           1,
           1,
           3,
           0,
           2,
           1,
           0,
           2,
           1,
           2,
           0,
           1,
           2,
           1,
           3,
           3,
           1,
           2,
           3,
           0,
           2,
           2,
           2,
           1,
           1,
           3,
           2,
           2,
           3,
           0,
           2,
           1,
           0,
           0,
           2,
           3,
           2,
           0,
           1,
           0,
           1,
           2,
           0,
           2,
           1,
           1,
           3,
           1,
           0,
           2,
           3,
           0,
           0,
           2,
           0,
           2,
           1,
           0,
           0,
           3,
           1,
           3,
           2,
           0,
           3,
           2,
           0,
           2,
           0,
           0,
           0,
           1,
           3,
           2,
           0,
           2,
           0,
           2,
           0,
           0,
           3,
           1,
           0,
           0,
           0,
           1,
           1,
           1,
           3,
           0,
           3,
           2,
           3,
           0,
           1,
           3,
           2,
           3,
           0,
           3,
           3,
           2,
           3,
           0,
           1,
           1,
           1,
           1,
           3,
           0,
           2,
           1,
           0,
           2,
           1,
           2,
           0,
           2,
           1,
           3,
           1,
           1,
           2,
           3,
           2,
           2,
           2,
           1,
           1,
           3,
           2,
           2,
           3,
           0,
           1,
           0,
           0,
           1,
           3,
           2,
           0,
           1,
           0,
           1,
           2,
           0,
           2,
           1,
           1,
           3,
           1,
           1,
           3,
           0,
           0,
           2,
           0,
           2,
           3,
           1,
           0,
           2,
           0,
           3,
           1,
           3,
           0,
           3,
           2,
           0,
           2,
           0,
           0,
           3,
           0,
           3,
           3,
           2,
           2,
           0,
           2,
           1,
           0,
           3,
           1,
           0,
           0,
           1,
           0,
           1,
           1,
           2,
           3,
           0,
           3,
           2,
           3,
           3,
           0,
           1,
           3,
           2,
           2,
           3,
           3,
           2,
           3,
           0,
           3,
           1,
           1,
           1,
           3,
           0,
           2,
           1,
           0,
           2,
           1,
           1,
           2,
           0,
           1,
           2,
           1,
           3
          ],
          "coloraxis": "coloraxis",
          "symbol": "circle"
         },
         "mode": "markers",
         "name": "",
         "orientation": "v",
         "showlegend": false,
         "type": "scatter",
         "x": [
          102,
          115,
          115,
          130,
          198,
          114,
          145,
          191,
          186,
          104,
          188,
          96,
          156,
          125,
          178,
          109,
          168,
          152,
          133,
          153,
          107,
          199,
          140,
          95,
          183,
          108,
          190,
          174,
          149,
          169,
          138,
          151,
          178,
          106,
          195,
          96,
          129,
          166,
          197,
          148,
          117,
          193,
          130,
          183,
          134,
          128,
          105,
          115,
          166,
          183,
          149,
          110,
          164,
          157,
          170,
          124,
          145,
          113,
          150,
          100,
          139,
          150,
          157,
          187,
          137,
          121,
          132,
          130,
          156,
          180,
          100,
          122,
          185,
          113,
          123,
          119,
          113,
          168,
          126,
          102,
          116,
          144,
          140,
          124,
          108,
          154,
          185,
          106,
          97,
          96,
          129,
          124,
          149,
          97,
          102,
          146,
          118,
          179,
          113,
          142,
          101,
          174,
          131,
          179,
          122,
          105,
          176,
          103,
          120,
          143,
          134,
          203,
          116,
          150,
          192,
          187,
          107,
          192,
          97,
          128,
          183,
          112,
          173,
          156,
          137,
          156,
          112,
          203,
          141,
          97,
          186,
          113,
          195,
          175,
          154,
          152,
          114,
          181,
          111,
          200,
          100,
          134,
          167,
          198,
          121,
          196,
          171,
          186,
          133,
          120,
          168,
          184,
          154,
          115,
          168,
          161,
          171,
          129,
          150,
          118,
          154,
          103,
          180,
          141,
          159,
          191,
          142,
          123,
          135,
          132,
          158,
          181,
          105,
          126,
          186,
          116,
          124,
          115,
          173,
          128,
          103,
          120,
          146,
          145,
          125,
          109,
          156,
          187,
          110,
          100,
          97,
          133,
          128,
          154,
          100,
          104,
          203,
          104,
          119,
          181,
          180,
          116,
          102,
          176,
          184,
          124,
          110,
          180,
          103,
          117,
          120,
          133,
          201,
          117,
          146,
          195,
          108,
          191,
          100,
          158,
          127,
          181,
          113,
          171,
          153,
          137,
          154,
          112,
          201,
          100,
          185,
          111,
          191,
          176,
          150,
          171,
          140,
          153,
          180,
          107,
          197,
          101,
          132,
          168,
          200,
          150,
          119,
          197,
          134,
          185,
          135,
          132,
          109,
          116,
          170,
          187,
          154,
          111,
          169,
          161,
          174,
          148,
          117,
          154,
          104,
          183,
          142,
          155,
          105,
          160,
          191,
          140,
          123,
          132,
          158,
          182,
          104,
          126,
          188,
          118,
          127,
          118,
          169,
          128,
          106,
          119,
          147,
          141,
          125,
          109,
          158,
          190,
          110,
          99,
          98,
          134,
          129,
          154,
          100,
          107,
          149,
          203,
          101,
          119,
          182,
          181,
          115,
          145,
          102,
          176,
          134,
          183,
          123,
          108,
          177,
          104,
          117,
          117,
          145,
          134,
          199,
          115,
          149,
          192,
          188,
          107,
          190,
          98,
          128,
          180,
          172,
          157,
          137,
          158,
          110,
          203,
          145,
          96,
          186,
          110,
          194,
          177,
          172,
          140,
          154,
          113,
          179,
          111,
          196,
          101,
          171,
          199,
          151,
          121,
          196,
          174,
          184,
          137,
          129,
          116,
          168,
          184,
          151,
          114,
          167,
          175,
          127,
          146,
          118,
          151,
          180,
          140,
          155,
          106,
          160,
          192,
          138,
          122,
          135,
          132,
          158,
          184,
          101,
          126,
          188,
          118,
          127,
          117,
          172,
          104,
          121,
          148,
          141,
          128,
          113,
          155,
          108,
          98,
          100,
          134,
          125,
          151,
          100,
          107,
          147,
          200,
          120,
          181,
          182,
          117,
          145,
          106,
          179,
          134,
          180,
          126,
          110,
          180,
          103,
          116,
          119,
          144,
          133,
          115,
          150,
          192,
          188,
          109,
          189,
          101,
          159,
          128,
          182,
          111,
          171,
          154,
          134,
          157,
          203,
          142,
          97,
          187,
          111,
          194,
          176,
          153,
          171,
          142,
          153,
          113,
          108,
          200,
          99,
          131,
          171,
          152,
          119,
          196,
          173,
          132,
          185,
          138,
          132,
          110,
          167,
          188,
          151,
          112,
          166,
          158,
          172,
          127,
          150,
          115,
          103,
          141,
          152,
          105,
          162,
          190,
          141,
          122,
          136,
          131,
          157,
          181,
          103,
          127,
          189,
          114,
          125,
          123,
          116,
          172,
          129,
          107,
          117,
          148
         ],
         "xaxis": "x",
         "y": [
          111,
          135,
          136,
          158,
          227,
          131,
          176,
          223,
          221,
          116,
          222,
          102,
          192,
          152,
          213,
          125,
          204,
          189,
          163,
          189,
          122,
          228,
          168,
          102,
          218,
          123,
          222,
          208,
          183,
          204,
          167,
          188,
          213,
          122,
          225,
          105,
          155,
          203,
          225,
          177,
          139,
          224,
          158,
          218,
          164,
          154,
          118,
          138,
          199,
          219,
          183,
          128,
          197,
          196,
          208,
          152,
          175,
          129,
          185,
          107,
          167,
          185,
          194,
          221,
          166,
          143,
          163,
          158,
          191,
          216,
          106,
          146,
          220,
          131,
          147,
          141,
          130,
          204,
          152,
          111,
          139,
          172,
          168,
          148,
          123,
          189,
          220,
          120,
          106,
          105,
          157,
          149,
          185,
          106,
          115,
          177,
          140,
          216,
          130,
          169,
          110,
          209,
          162,
          214,
          145,
          116,
          209,
          116,
          139,
          168,
          158,
          232,
          136,
          180,
          228,
          222,
          117,
          224,
          104,
          156,
          213,
          133,
          208,
          195,
          163,
          195,
          124,
          231,
          172,
          104,
          221,
          128,
          222,
          214,
          184,
          195,
          132,
          214,
          123,
          233,
          107,
          162,
          204,
          227,
          142,
          225,
          212,
          220,
          155,
          144,
          201,
          222,
          189,
          132,
          204,
          201,
          211,
          156,
          179,
          129,
          185,
          107,
          213,
          172,
          202,
          222,
          168,
          146,
          170,
          165,
          196,
          224,
          108,
          149,
          224,
          136,
          152,
          135,
          211,
          156,
          115,
          143,
          179,
          173,
          148,
          127,
          194,
          225,
          127,
          106,
          112,
          164,
          151,
          191,
          110,
          116,
          235,
          108,
          141,
          219,
          219,
          138,
          116,
          212,
          220,
          151,
          119,
          212,
          111,
          142,
          138,
          158,
          228,
          134,
          181,
          231,
          121,
          222,
          102,
          195,
          156,
          214,
          132,
          204,
          190,
          167,
          195,
          127,
          235,
          110,
          221,
          128,
          226,
          208,
          191,
          205,
          173,
          191,
          220,
          126,
          232,
          108,
          159,
          211,
          232,
          182,
          145,
          224,
          160,
          219,
          170,
          161,
          122,
          141,
          204,
          226,
          187,
          129,
          199,
          199,
          214,
          176,
          129,
          187,
          109,
          212,
          170,
          191,
          116,
          202,
          226,
          166,
          151,
          166,
          193,
          218,
          109,
          152,
          220,
          133,
          152,
          131,
          204,
          153,
          114,
          144,
          172,
          176,
          150,
          129,
          190,
          226,
          128,
          106,
          107,
          159,
          157,
          192,
          110,
          115,
          183,
          233,
          112,
          146,
          222,
          216,
          134,
          174,
          114,
          211,
          167,
          214,
          145,
          120,
          217,
          113,
          141,
          140,
          171,
          163,
          232,
          131,
          184,
          225,
          223,
          121,
          223,
          105,
          160,
          218,
          211,
          194,
          169,
          189,
          128,
          228,
          169,
          108,
          219,
          124,
          224,
          214,
          205,
          167,
          190,
          128,
          217,
          126,
          228,
          105,
          211,
          227,
          178,
          146,
          227,
          208,
          225,
          167,
          162,
          144,
          199,
          226,
          183,
          136,
          199,
          215,
          155,
          179,
          133,
          186,
          219,
          173,
          185,
          118,
          199,
          226,
          169,
          144,
          166,
          166,
          198,
          222,
          110,
          154,
          226,
          135,
          151,
          133,
          205,
          116,
          145,
          174,
          168,
          156,
          124,
          196,
          122,
          106,
          110,
          158,
          154,
          190,
          110,
          120,
          180,
          232,
          142,
          222,
          218,
          138,
          176,
          115,
          211,
          168,
          216,
          147,
          124,
          215,
          117,
          139,
          138,
          171,
          158,
          139,
          178,
          224,
          224,
          116,
          223,
          109,
          193,
          155,
          221,
          130,
          212,
          190,
          169,
          191,
          234,
          175,
          108,
          220,
          126,
          227,
          216,
          188,
          205,
          172,
          192,
          129,
          127,
          228,
          105,
          159,
          205,
          178,
          139,
          232,
          212,
          162,
          226,
          171,
          159,
          120,
          200,
          221,
          184,
          134,
          200,
          201,
          210,
          159,
          178,
          137,
          110,
          170,
          193,
          113,
          196,
          222,
          174,
          143,
          169,
          165,
          194,
          217,
          113,
          150,
          223,
          133,
          149,
          149,
          130,
          207,
          157,
          115,
          147,
          176
         ],
         "yaxis": "y"
        }
       ],
       "layout": {
        "coloraxis": {
         "colorbar": {
          "title": {
           "text": "color"
          }
         },
         "colorscale": [
          [
           0,
           "#0d0887"
          ],
          [
           0.1111111111111111,
           "#46039f"
          ],
          [
           0.2222222222222222,
           "#7201a8"
          ],
          [
           0.3333333333333333,
           "#9c179e"
          ],
          [
           0.4444444444444444,
           "#bd3786"
          ],
          [
           0.5555555555555556,
           "#d8576b"
          ],
          [
           0.6666666666666666,
           "#ed7953"
          ],
          [
           0.7777777777777778,
           "#fb9f3a"
          ],
          [
           0.8888888888888888,
           "#fdca26"
          ],
          [
           1,
           "#f0f921"
          ]
         ]
        },
        "legend": {
         "tracegroupgap": 0
        },
        "margin": {
         "t": 60
        },
        "template": {
         "data": {
          "bar": [
           {
            "error_x": {
             "color": "#2a3f5f"
            },
            "error_y": {
             "color": "#2a3f5f"
            },
            "marker": {
             "line": {
              "color": "#E5ECF6",
              "width": 0.5
             },
             "pattern": {
              "fillmode": "overlay",
              "size": 10,
              "solidity": 0.2
             }
            },
            "type": "bar"
           }
          ],
          "barpolar": [
           {
            "marker": {
             "line": {
              "color": "#E5ECF6",
              "width": 0.5
             },
             "pattern": {
              "fillmode": "overlay",
              "size": 10,
              "solidity": 0.2
             }
            },
            "type": "barpolar"
           }
          ],
          "carpet": [
           {
            "aaxis": {
             "endlinecolor": "#2a3f5f",
             "gridcolor": "white",
             "linecolor": "white",
             "minorgridcolor": "white",
             "startlinecolor": "#2a3f5f"
            },
            "baxis": {
             "endlinecolor": "#2a3f5f",
             "gridcolor": "white",
             "linecolor": "white",
             "minorgridcolor": "white",
             "startlinecolor": "#2a3f5f"
            },
            "type": "carpet"
           }
          ],
          "choropleth": [
           {
            "colorbar": {
             "outlinewidth": 0,
             "ticks": ""
            },
            "type": "choropleth"
           }
          ],
          "contour": [
           {
            "colorbar": {
             "outlinewidth": 0,
             "ticks": ""
            },
            "colorscale": [
             [
              0,
              "#0d0887"
             ],
             [
              0.1111111111111111,
              "#46039f"
             ],
             [
              0.2222222222222222,
              "#7201a8"
             ],
             [
              0.3333333333333333,
              "#9c179e"
             ],
             [
              0.4444444444444444,
              "#bd3786"
             ],
             [
              0.5555555555555556,
              "#d8576b"
             ],
             [
              0.6666666666666666,
              "#ed7953"
             ],
             [
              0.7777777777777778,
              "#fb9f3a"
             ],
             [
              0.8888888888888888,
              "#fdca26"
             ],
             [
              1,
              "#f0f921"
             ]
            ],
            "type": "contour"
           }
          ],
          "contourcarpet": [
           {
            "colorbar": {
             "outlinewidth": 0,
             "ticks": ""
            },
            "type": "contourcarpet"
           }
          ],
          "heatmap": [
           {
            "colorbar": {
             "outlinewidth": 0,
             "ticks": ""
            },
            "colorscale": [
             [
              0,
              "#0d0887"
             ],
             [
              0.1111111111111111,
              "#46039f"
             ],
             [
              0.2222222222222222,
              "#7201a8"
             ],
             [
              0.3333333333333333,
              "#9c179e"
             ],
             [
              0.4444444444444444,
              "#bd3786"
             ],
             [
              0.5555555555555556,
              "#d8576b"
             ],
             [
              0.6666666666666666,
              "#ed7953"
             ],
             [
              0.7777777777777778,
              "#fb9f3a"
             ],
             [
              0.8888888888888888,
              "#fdca26"
             ],
             [
              1,
              "#f0f921"
             ]
            ],
            "type": "heatmap"
           }
          ],
          "heatmapgl": [
           {
            "colorbar": {
             "outlinewidth": 0,
             "ticks": ""
            },
            "colorscale": [
             [
              0,
              "#0d0887"
             ],
             [
              0.1111111111111111,
              "#46039f"
             ],
             [
              0.2222222222222222,
              "#7201a8"
             ],
             [
              0.3333333333333333,
              "#9c179e"
             ],
             [
              0.4444444444444444,
              "#bd3786"
             ],
             [
              0.5555555555555556,
              "#d8576b"
             ],
             [
              0.6666666666666666,
              "#ed7953"
             ],
             [
              0.7777777777777778,
              "#fb9f3a"
             ],
             [
              0.8888888888888888,
              "#fdca26"
             ],
             [
              1,
              "#f0f921"
             ]
            ],
            "type": "heatmapgl"
           }
          ],
          "histogram": [
           {
            "marker": {
             "pattern": {
              "fillmode": "overlay",
              "size": 10,
              "solidity": 0.2
             }
            },
            "type": "histogram"
           }
          ],
          "histogram2d": [
           {
            "colorbar": {
             "outlinewidth": 0,
             "ticks": ""
            },
            "colorscale": [
             [
              0,
              "#0d0887"
             ],
             [
              0.1111111111111111,
              "#46039f"
             ],
             [
              0.2222222222222222,
              "#7201a8"
             ],
             [
              0.3333333333333333,
              "#9c179e"
             ],
             [
              0.4444444444444444,
              "#bd3786"
             ],
             [
              0.5555555555555556,
              "#d8576b"
             ],
             [
              0.6666666666666666,
              "#ed7953"
             ],
             [
              0.7777777777777778,
              "#fb9f3a"
             ],
             [
              0.8888888888888888,
              "#fdca26"
             ],
             [
              1,
              "#f0f921"
             ]
            ],
            "type": "histogram2d"
           }
          ],
          "histogram2dcontour": [
           {
            "colorbar": {
             "outlinewidth": 0,
             "ticks": ""
            },
            "colorscale": [
             [
              0,
              "#0d0887"
             ],
             [
              0.1111111111111111,
              "#46039f"
             ],
             [
              0.2222222222222222,
              "#7201a8"
             ],
             [
              0.3333333333333333,
              "#9c179e"
             ],
             [
              0.4444444444444444,
              "#bd3786"
             ],
             [
              0.5555555555555556,
              "#d8576b"
             ],
             [
              0.6666666666666666,
              "#ed7953"
             ],
             [
              0.7777777777777778,
              "#fb9f3a"
             ],
             [
              0.8888888888888888,
              "#fdca26"
             ],
             [
              1,
              "#f0f921"
             ]
            ],
            "type": "histogram2dcontour"
           }
          ],
          "mesh3d": [
           {
            "colorbar": {
             "outlinewidth": 0,
             "ticks": ""
            },
            "type": "mesh3d"
           }
          ],
          "parcoords": [
           {
            "line": {
             "colorbar": {
              "outlinewidth": 0,
              "ticks": ""
             }
            },
            "type": "parcoords"
           }
          ],
          "pie": [
           {
            "automargin": true,
            "type": "pie"
           }
          ],
          "scatter": [
           {
            "fillpattern": {
             "fillmode": "overlay",
             "size": 10,
             "solidity": 0.2
            },
            "type": "scatter"
           }
          ],
          "scatter3d": [
           {
            "line": {
             "colorbar": {
              "outlinewidth": 0,
              "ticks": ""
             }
            },
            "marker": {
             "colorbar": {
              "outlinewidth": 0,
              "ticks": ""
             }
            },
            "type": "scatter3d"
           }
          ],
          "scattercarpet": [
           {
            "marker": {
             "colorbar": {
              "outlinewidth": 0,
              "ticks": ""
             }
            },
            "type": "scattercarpet"
           }
          ],
          "scattergeo": [
           {
            "marker": {
             "colorbar": {
              "outlinewidth": 0,
              "ticks": ""
             }
            },
            "type": "scattergeo"
           }
          ],
          "scattergl": [
           {
            "marker": {
             "colorbar": {
              "outlinewidth": 0,
              "ticks": ""
             }
            },
            "type": "scattergl"
           }
          ],
          "scattermapbox": [
           {
            "marker": {
             "colorbar": {
              "outlinewidth": 0,
              "ticks": ""
             }
            },
            "type": "scattermapbox"
           }
          ],
          "scatterpolar": [
           {
            "marker": {
             "colorbar": {
              "outlinewidth": 0,
              "ticks": ""
             }
            },
            "type": "scatterpolar"
           }
          ],
          "scatterpolargl": [
           {
            "marker": {
             "colorbar": {
              "outlinewidth": 0,
              "ticks": ""
             }
            },
            "type": "scatterpolargl"
           }
          ],
          "scatterternary": [
           {
            "marker": {
             "colorbar": {
              "outlinewidth": 0,
              "ticks": ""
             }
            },
            "type": "scatterternary"
           }
          ],
          "surface": [
           {
            "colorbar": {
             "outlinewidth": 0,
             "ticks": ""
            },
            "colorscale": [
             [
              0,
              "#0d0887"
             ],
             [
              0.1111111111111111,
              "#46039f"
             ],
             [
              0.2222222222222222,
              "#7201a8"
             ],
             [
              0.3333333333333333,
              "#9c179e"
             ],
             [
              0.4444444444444444,
              "#bd3786"
             ],
             [
              0.5555555555555556,
              "#d8576b"
             ],
             [
              0.6666666666666666,
              "#ed7953"
             ],
             [
              0.7777777777777778,
              "#fb9f3a"
             ],
             [
              0.8888888888888888,
              "#fdca26"
             ],
             [
              1,
              "#f0f921"
             ]
            ],
            "type": "surface"
           }
          ],
          "table": [
           {
            "cells": {
             "fill": {
              "color": "#EBF0F8"
             },
             "line": {
              "color": "white"
             }
            },
            "header": {
             "fill": {
              "color": "#C8D4E3"
             },
             "line": {
              "color": "white"
             }
            },
            "type": "table"
           }
          ]
         },
         "layout": {
          "annotationdefaults": {
           "arrowcolor": "#2a3f5f",
           "arrowhead": 0,
           "arrowwidth": 1
          },
          "autotypenumbers": "strict",
          "coloraxis": {
           "colorbar": {
            "outlinewidth": 0,
            "ticks": ""
           }
          },
          "colorscale": {
           "diverging": [
            [
             0,
             "#8e0152"
            ],
            [
             0.1,
             "#c51b7d"
            ],
            [
             0.2,
             "#de77ae"
            ],
            [
             0.3,
             "#f1b6da"
            ],
            [
             0.4,
             "#fde0ef"
            ],
            [
             0.5,
             "#f7f7f7"
            ],
            [
             0.6,
             "#e6f5d0"
            ],
            [
             0.7,
             "#b8e186"
            ],
            [
             0.8,
             "#7fbc41"
            ],
            [
             0.9,
             "#4d9221"
            ],
            [
             1,
             "#276419"
            ]
           ],
           "sequential": [
            [
             0,
             "#0d0887"
            ],
            [
             0.1111111111111111,
             "#46039f"
            ],
            [
             0.2222222222222222,
             "#7201a8"
            ],
            [
             0.3333333333333333,
             "#9c179e"
            ],
            [
             0.4444444444444444,
             "#bd3786"
            ],
            [
             0.5555555555555556,
             "#d8576b"
            ],
            [
             0.6666666666666666,
             "#ed7953"
            ],
            [
             0.7777777777777778,
             "#fb9f3a"
            ],
            [
             0.8888888888888888,
             "#fdca26"
            ],
            [
             1,
             "#f0f921"
            ]
           ],
           "sequentialminus": [
            [
             0,
             "#0d0887"
            ],
            [
             0.1111111111111111,
             "#46039f"
            ],
            [
             0.2222222222222222,
             "#7201a8"
            ],
            [
             0.3333333333333333,
             "#9c179e"
            ],
            [
             0.4444444444444444,
             "#bd3786"
            ],
            [
             0.5555555555555556,
             "#d8576b"
            ],
            [
             0.6666666666666666,
             "#ed7953"
            ],
            [
             0.7777777777777778,
             "#fb9f3a"
            ],
            [
             0.8888888888888888,
             "#fdca26"
            ],
            [
             1,
             "#f0f921"
            ]
           ]
          },
          "colorway": [
           "#636efa",
           "#EF553B",
           "#00cc96",
           "#ab63fa",
           "#FFA15A",
           "#19d3f3",
           "#FF6692",
           "#B6E880",
           "#FF97FF",
           "#FECB52"
          ],
          "font": {
           "color": "#2a3f5f"
          },
          "geo": {
           "bgcolor": "white",
           "lakecolor": "white",
           "landcolor": "#E5ECF6",
           "showlakes": true,
           "showland": true,
           "subunitcolor": "white"
          },
          "hoverlabel": {
           "align": "left"
          },
          "hovermode": "closest",
          "mapbox": {
           "style": "light"
          },
          "paper_bgcolor": "white",
          "plot_bgcolor": "#E5ECF6",
          "polar": {
           "angularaxis": {
            "gridcolor": "white",
            "linecolor": "white",
            "ticks": ""
           },
           "bgcolor": "#E5ECF6",
           "radialaxis": {
            "gridcolor": "white",
            "linecolor": "white",
            "ticks": ""
           }
          },
          "scene": {
           "xaxis": {
            "backgroundcolor": "#E5ECF6",
            "gridcolor": "white",
            "gridwidth": 2,
            "linecolor": "white",
            "showbackground": true,
            "ticks": "",
            "zerolinecolor": "white"
           },
           "yaxis": {
            "backgroundcolor": "#E5ECF6",
            "gridcolor": "white",
            "gridwidth": 2,
            "linecolor": "white",
            "showbackground": true,
            "ticks": "",
            "zerolinecolor": "white"
           },
           "zaxis": {
            "backgroundcolor": "#E5ECF6",
            "gridcolor": "white",
            "gridwidth": 2,
            "linecolor": "white",
            "showbackground": true,
            "ticks": "",
            "zerolinecolor": "white"
           }
          },
          "shapedefaults": {
           "line": {
            "color": "#2a3f5f"
           }
          },
          "ternary": {
           "aaxis": {
            "gridcolor": "white",
            "linecolor": "white",
            "ticks": ""
           },
           "baxis": {
            "gridcolor": "white",
            "linecolor": "white",
            "ticks": ""
           },
           "bgcolor": "#E5ECF6",
           "caxis": {
            "gridcolor": "white",
            "linecolor": "white",
            "ticks": ""
           }
          },
          "title": {
           "x": 0.05
          },
          "xaxis": {
           "automargin": true,
           "gridcolor": "white",
           "linecolor": "white",
           "ticks": "",
           "title": {
            "standoff": 15
           },
           "zerolinecolor": "white",
           "zerolinewidth": 2
          },
          "yaxis": {
           "automargin": true,
           "gridcolor": "white",
           "linecolor": "white",
           "ticks": "",
           "title": {
            "standoff": 15
           },
           "zerolinecolor": "white",
           "zerolinewidth": 2
          }
         }
        },
        "title": {
         "text": "Analise de clusters"
        },
        "xaxis": {
         "anchor": "y",
         "domain": [
          0,
          1
         ],
         "title": {
          "text": "Colesterol"
         }
        },
        "yaxis": {
         "anchor": "x",
         "domain": [
          0,
          1
         ],
         "title": {
          "text": "peso"
         }
        }
       }
      }
     },
     "metadata": {},
     "output_type": "display_data"
    }
   ],
   "source": [
    "grafico = px.scatter(x = base_completa['peso'], y= base_completa['colesterol'], color = base_completa['cluster'])\n",
    "\n",
    "fig = go.Figure(grafico)\n",
    "fig.update_layout(title='Analise de clusters', xaxis_title= 'Colesterol', yaxis_title= 'peso')\n",
    "fig.show()"
   ]
  },
  {
   "cell_type": "code",
   "execution_count": 382,
   "metadata": {},
   "outputs": [],
   "source": [
    "def plotar_grafico(x, y, xlabel, ylabel):\n",
    "    grafico = px.scatter(x = x, y= y, color = base_completa['cluster'])\n",
    "\n",
    "    fig = go.Figure(grafico)\n",
    "\n",
    "    fig.update_layout(title='Analise de clusters', xaxis_title= xlabel, yaxis_title= ylabel)\n",
    "    fig.show()"
   ]
  },
  {
   "cell_type": "code",
   "execution_count": 383,
   "metadata": {},
   "outputs": [
    {
     "data": {
      "application/vnd.plotly.v1+json": {
       "config": {
        "plotlyServerURL": "https://plot.ly"
       },
       "data": [
        {
         "hovertemplate": "x=%{x}<br>y=%{y}<br>color=%{marker.color}<extra></extra>",
         "legendgroup": "",
         "marker": {
          "color": [
           2,
           2,
           2,
           1,
           0,
           2,
           3,
           0,
           0,
           2,
           0,
           2,
           3,
           1,
           0,
           2,
           0,
           3,
           1,
           3,
           2,
           0,
           1,
           2,
           0,
           2,
           0,
           0,
           3,
           0,
           1,
           3,
           0,
           2,
           0,
           2,
           1,
           3,
           0,
           3,
           1,
           0,
           1,
           0,
           1,
           1,
           2,
           2,
           3,
           0,
           3,
           2,
           3,
           3,
           0,
           1,
           3,
           2,
           3,
           2,
           1,
           3,
           3,
           0,
           1,
           1,
           1,
           1,
           3,
           0,
           2,
           1,
           0,
           2,
           1,
           1,
           2,
           0,
           1,
           2,
           1,
           3,
           1,
           1,
           2,
           3,
           0,
           2,
           2,
           2,
           1,
           1,
           3,
           2,
           2,
           3,
           1,
           0,
           2,
           3,
           2,
           0,
           1,
           0,
           1,
           2,
           0,
           2,
           1,
           3,
           1,
           0,
           2,
           3,
           0,
           0,
           2,
           0,
           2,
           1,
           0,
           2,
           0,
           3,
           1,
           3,
           2,
           0,
           3,
           2,
           0,
           2,
           0,
           0,
           3,
           3,
           2,
           0,
           2,
           0,
           2,
           1,
           0,
           0,
           1,
           0,
           0,
           0,
           1,
           1,
           3,
           0,
           3,
           2,
           0,
           3,
           0,
           1,
           3,
           2,
           3,
           2,
           0,
           3,
           3,
           0,
           1,
           1,
           1,
           1,
           3,
           0,
           2,
           1,
           0,
           2,
           1,
           2,
           0,
           1,
           2,
           1,
           3,
           3,
           1,
           2,
           3,
           0,
           2,
           2,
           2,
           1,
           1,
           3,
           2,
           2,
           0,
           2,
           1,
           0,
           0,
           1,
           2,
           0,
           0,
           1,
           2,
           0,
           2,
           1,
           1,
           1,
           0,
           2,
           3,
           0,
           2,
           0,
           2,
           3,
           1,
           0,
           2,
           0,
           3,
           1,
           3,
           2,
           0,
           2,
           0,
           2,
           0,
           0,
           3,
           0,
           3,
           3,
           0,
           2,
           0,
           2,
           1,
           0,
           0,
           3,
           1,
           0,
           1,
           0,
           1,
           1,
           2,
           1,
           0,
           0,
           3,
           2,
           3,
           3,
           0,
           3,
           2,
           3,
           2,
           0,
           3,
           3,
           2,
           3,
           0,
           1,
           1,
           1,
           3,
           0,
           2,
           1,
           0,
           2,
           1,
           2,
           0,
           1,
           2,
           1,
           3,
           3,
           1,
           2,
           3,
           0,
           2,
           2,
           2,
           1,
           1,
           3,
           2,
           2,
           3,
           0,
           2,
           1,
           0,
           0,
           2,
           3,
           2,
           0,
           1,
           0,
           1,
           2,
           0,
           2,
           1,
           1,
           3,
           1,
           0,
           2,
           3,
           0,
           0,
           2,
           0,
           2,
           1,
           0,
           0,
           3,
           1,
           3,
           2,
           0,
           3,
           2,
           0,
           2,
           0,
           0,
           0,
           1,
           3,
           2,
           0,
           2,
           0,
           2,
           0,
           0,
           3,
           1,
           0,
           0,
           0,
           1,
           1,
           1,
           3,
           0,
           3,
           2,
           3,
           0,
           1,
           3,
           2,
           3,
           0,
           3,
           3,
           2,
           3,
           0,
           1,
           1,
           1,
           1,
           3,
           0,
           2,
           1,
           0,
           2,
           1,
           2,
           0,
           2,
           1,
           3,
           1,
           1,
           2,
           3,
           2,
           2,
           2,
           1,
           1,
           3,
           2,
           2,
           3,
           0,
           1,
           0,
           0,
           1,
           3,
           2,
           0,
           1,
           0,
           1,
           2,
           0,
           2,
           1,
           1,
           3,
           1,
           1,
           3,
           0,
           0,
           2,
           0,
           2,
           3,
           1,
           0,
           2,
           0,
           3,
           1,
           3,
           0,
           3,
           2,
           0,
           2,
           0,
           0,
           3,
           0,
           3,
           3,
           2,
           2,
           0,
           2,
           1,
           0,
           3,
           1,
           0,
           0,
           1,
           0,
           1,
           1,
           2,
           3,
           0,
           3,
           2,
           3,
           3,
           0,
           1,
           3,
           2,
           2,
           3,
           3,
           2,
           3,
           0,
           3,
           1,
           1,
           1,
           3,
           0,
           2,
           1,
           0,
           2,
           1,
           1,
           2,
           0,
           1,
           2,
           1,
           3
          ],
          "coloraxis": "coloraxis",
          "symbol": "circle"
         },
         "mode": "markers",
         "name": "",
         "orientation": "v",
         "showlegend": false,
         "type": "scatter",
         "x": [
          111,
          135,
          136,
          158,
          227,
          131,
          176,
          223,
          221,
          116,
          222,
          102,
          192,
          152,
          213,
          125,
          204,
          189,
          163,
          189,
          122,
          228,
          168,
          102,
          218,
          123,
          222,
          208,
          183,
          204,
          167,
          188,
          213,
          122,
          225,
          105,
          155,
          203,
          225,
          177,
          139,
          224,
          158,
          218,
          164,
          154,
          118,
          138,
          199,
          219,
          183,
          128,
          197,
          196,
          208,
          152,
          175,
          129,
          185,
          107,
          167,
          185,
          194,
          221,
          166,
          143,
          163,
          158,
          191,
          216,
          106,
          146,
          220,
          131,
          147,
          141,
          130,
          204,
          152,
          111,
          139,
          172,
          168,
          148,
          123,
          189,
          220,
          120,
          106,
          105,
          157,
          149,
          185,
          106,
          115,
          177,
          140,
          216,
          130,
          169,
          110,
          209,
          162,
          214,
          145,
          116,
          209,
          116,
          139,
          168,
          158,
          232,
          136,
          180,
          228,
          222,
          117,
          224,
          104,
          156,
          213,
          133,
          208,
          195,
          163,
          195,
          124,
          231,
          172,
          104,
          221,
          128,
          222,
          214,
          184,
          195,
          132,
          214,
          123,
          233,
          107,
          162,
          204,
          227,
          142,
          225,
          212,
          220,
          155,
          144,
          201,
          222,
          189,
          132,
          204,
          201,
          211,
          156,
          179,
          129,
          185,
          107,
          213,
          172,
          202,
          222,
          168,
          146,
          170,
          165,
          196,
          224,
          108,
          149,
          224,
          136,
          152,
          135,
          211,
          156,
          115,
          143,
          179,
          173,
          148,
          127,
          194,
          225,
          127,
          106,
          112,
          164,
          151,
          191,
          110,
          116,
          235,
          108,
          141,
          219,
          219,
          138,
          116,
          212,
          220,
          151,
          119,
          212,
          111,
          142,
          138,
          158,
          228,
          134,
          181,
          231,
          121,
          222,
          102,
          195,
          156,
          214,
          132,
          204,
          190,
          167,
          195,
          127,
          235,
          110,
          221,
          128,
          226,
          208,
          191,
          205,
          173,
          191,
          220,
          126,
          232,
          108,
          159,
          211,
          232,
          182,
          145,
          224,
          160,
          219,
          170,
          161,
          122,
          141,
          204,
          226,
          187,
          129,
          199,
          199,
          214,
          176,
          129,
          187,
          109,
          212,
          170,
          191,
          116,
          202,
          226,
          166,
          151,
          166,
          193,
          218,
          109,
          152,
          220,
          133,
          152,
          131,
          204,
          153,
          114,
          144,
          172,
          176,
          150,
          129,
          190,
          226,
          128,
          106,
          107,
          159,
          157,
          192,
          110,
          115,
          183,
          233,
          112,
          146,
          222,
          216,
          134,
          174,
          114,
          211,
          167,
          214,
          145,
          120,
          217,
          113,
          141,
          140,
          171,
          163,
          232,
          131,
          184,
          225,
          223,
          121,
          223,
          105,
          160,
          218,
          211,
          194,
          169,
          189,
          128,
          228,
          169,
          108,
          219,
          124,
          224,
          214,
          205,
          167,
          190,
          128,
          217,
          126,
          228,
          105,
          211,
          227,
          178,
          146,
          227,
          208,
          225,
          167,
          162,
          144,
          199,
          226,
          183,
          136,
          199,
          215,
          155,
          179,
          133,
          186,
          219,
          173,
          185,
          118,
          199,
          226,
          169,
          144,
          166,
          166,
          198,
          222,
          110,
          154,
          226,
          135,
          151,
          133,
          205,
          116,
          145,
          174,
          168,
          156,
          124,
          196,
          122,
          106,
          110,
          158,
          154,
          190,
          110,
          120,
          180,
          232,
          142,
          222,
          218,
          138,
          176,
          115,
          211,
          168,
          216,
          147,
          124,
          215,
          117,
          139,
          138,
          171,
          158,
          139,
          178,
          224,
          224,
          116,
          223,
          109,
          193,
          155,
          221,
          130,
          212,
          190,
          169,
          191,
          234,
          175,
          108,
          220,
          126,
          227,
          216,
          188,
          205,
          172,
          192,
          129,
          127,
          228,
          105,
          159,
          205,
          178,
          139,
          232,
          212,
          162,
          226,
          171,
          159,
          120,
          200,
          221,
          184,
          134,
          200,
          201,
          210,
          159,
          178,
          137,
          110,
          170,
          193,
          113,
          196,
          222,
          174,
          143,
          169,
          165,
          194,
          217,
          113,
          150,
          223,
          133,
          149,
          149,
          130,
          207,
          157,
          115,
          147,
          176
         ],
         "xaxis": "x",
         "y": [
          102,
          115,
          115,
          130,
          198,
          114,
          145,
          191,
          186,
          104,
          188,
          96,
          156,
          125,
          178,
          109,
          168,
          152,
          133,
          153,
          107,
          199,
          140,
          95,
          183,
          108,
          190,
          174,
          149,
          169,
          138,
          151,
          178,
          106,
          195,
          96,
          129,
          166,
          197,
          148,
          117,
          193,
          130,
          183,
          134,
          128,
          105,
          115,
          166,
          183,
          149,
          110,
          164,
          157,
          170,
          124,
          145,
          113,
          150,
          100,
          139,
          150,
          157,
          187,
          137,
          121,
          132,
          130,
          156,
          180,
          100,
          122,
          185,
          113,
          123,
          119,
          113,
          168,
          126,
          102,
          116,
          144,
          140,
          124,
          108,
          154,
          185,
          106,
          97,
          96,
          129,
          124,
          149,
          97,
          102,
          146,
          118,
          179,
          113,
          142,
          101,
          174,
          131,
          179,
          122,
          105,
          176,
          103,
          120,
          143,
          134,
          203,
          116,
          150,
          192,
          187,
          107,
          192,
          97,
          128,
          183,
          112,
          173,
          156,
          137,
          156,
          112,
          203,
          141,
          97,
          186,
          113,
          195,
          175,
          154,
          152,
          114,
          181,
          111,
          200,
          100,
          134,
          167,
          198,
          121,
          196,
          171,
          186,
          133,
          120,
          168,
          184,
          154,
          115,
          168,
          161,
          171,
          129,
          150,
          118,
          154,
          103,
          180,
          141,
          159,
          191,
          142,
          123,
          135,
          132,
          158,
          181,
          105,
          126,
          186,
          116,
          124,
          115,
          173,
          128,
          103,
          120,
          146,
          145,
          125,
          109,
          156,
          187,
          110,
          100,
          97,
          133,
          128,
          154,
          100,
          104,
          203,
          104,
          119,
          181,
          180,
          116,
          102,
          176,
          184,
          124,
          110,
          180,
          103,
          117,
          120,
          133,
          201,
          117,
          146,
          195,
          108,
          191,
          100,
          158,
          127,
          181,
          113,
          171,
          153,
          137,
          154,
          112,
          201,
          100,
          185,
          111,
          191,
          176,
          150,
          171,
          140,
          153,
          180,
          107,
          197,
          101,
          132,
          168,
          200,
          150,
          119,
          197,
          134,
          185,
          135,
          132,
          109,
          116,
          170,
          187,
          154,
          111,
          169,
          161,
          174,
          148,
          117,
          154,
          104,
          183,
          142,
          155,
          105,
          160,
          191,
          140,
          123,
          132,
          158,
          182,
          104,
          126,
          188,
          118,
          127,
          118,
          169,
          128,
          106,
          119,
          147,
          141,
          125,
          109,
          158,
          190,
          110,
          99,
          98,
          134,
          129,
          154,
          100,
          107,
          149,
          203,
          101,
          119,
          182,
          181,
          115,
          145,
          102,
          176,
          134,
          183,
          123,
          108,
          177,
          104,
          117,
          117,
          145,
          134,
          199,
          115,
          149,
          192,
          188,
          107,
          190,
          98,
          128,
          180,
          172,
          157,
          137,
          158,
          110,
          203,
          145,
          96,
          186,
          110,
          194,
          177,
          172,
          140,
          154,
          113,
          179,
          111,
          196,
          101,
          171,
          199,
          151,
          121,
          196,
          174,
          184,
          137,
          129,
          116,
          168,
          184,
          151,
          114,
          167,
          175,
          127,
          146,
          118,
          151,
          180,
          140,
          155,
          106,
          160,
          192,
          138,
          122,
          135,
          132,
          158,
          184,
          101,
          126,
          188,
          118,
          127,
          117,
          172,
          104,
          121,
          148,
          141,
          128,
          113,
          155,
          108,
          98,
          100,
          134,
          125,
          151,
          100,
          107,
          147,
          200,
          120,
          181,
          182,
          117,
          145,
          106,
          179,
          134,
          180,
          126,
          110,
          180,
          103,
          116,
          119,
          144,
          133,
          115,
          150,
          192,
          188,
          109,
          189,
          101,
          159,
          128,
          182,
          111,
          171,
          154,
          134,
          157,
          203,
          142,
          97,
          187,
          111,
          194,
          176,
          153,
          171,
          142,
          153,
          113,
          108,
          200,
          99,
          131,
          171,
          152,
          119,
          196,
          173,
          132,
          185,
          138,
          132,
          110,
          167,
          188,
          151,
          112,
          166,
          158,
          172,
          127,
          150,
          115,
          103,
          141,
          152,
          105,
          162,
          190,
          141,
          122,
          136,
          131,
          157,
          181,
          103,
          127,
          189,
          114,
          125,
          123,
          116,
          172,
          129,
          107,
          117,
          148
         ],
         "yaxis": "y"
        }
       ],
       "layout": {
        "coloraxis": {
         "colorbar": {
          "title": {
           "text": "color"
          }
         },
         "colorscale": [
          [
           0,
           "#0d0887"
          ],
          [
           0.1111111111111111,
           "#46039f"
          ],
          [
           0.2222222222222222,
           "#7201a8"
          ],
          [
           0.3333333333333333,
           "#9c179e"
          ],
          [
           0.4444444444444444,
           "#bd3786"
          ],
          [
           0.5555555555555556,
           "#d8576b"
          ],
          [
           0.6666666666666666,
           "#ed7953"
          ],
          [
           0.7777777777777778,
           "#fb9f3a"
          ],
          [
           0.8888888888888888,
           "#fdca26"
          ],
          [
           1,
           "#f0f921"
          ]
         ]
        },
        "legend": {
         "tracegroupgap": 0
        },
        "margin": {
         "t": 60
        },
        "template": {
         "data": {
          "bar": [
           {
            "error_x": {
             "color": "#2a3f5f"
            },
            "error_y": {
             "color": "#2a3f5f"
            },
            "marker": {
             "line": {
              "color": "#E5ECF6",
              "width": 0.5
             },
             "pattern": {
              "fillmode": "overlay",
              "size": 10,
              "solidity": 0.2
             }
            },
            "type": "bar"
           }
          ],
          "barpolar": [
           {
            "marker": {
             "line": {
              "color": "#E5ECF6",
              "width": 0.5
             },
             "pattern": {
              "fillmode": "overlay",
              "size": 10,
              "solidity": 0.2
             }
            },
            "type": "barpolar"
           }
          ],
          "carpet": [
           {
            "aaxis": {
             "endlinecolor": "#2a3f5f",
             "gridcolor": "white",
             "linecolor": "white",
             "minorgridcolor": "white",
             "startlinecolor": "#2a3f5f"
            },
            "baxis": {
             "endlinecolor": "#2a3f5f",
             "gridcolor": "white",
             "linecolor": "white",
             "minorgridcolor": "white",
             "startlinecolor": "#2a3f5f"
            },
            "type": "carpet"
           }
          ],
          "choropleth": [
           {
            "colorbar": {
             "outlinewidth": 0,
             "ticks": ""
            },
            "type": "choropleth"
           }
          ],
          "contour": [
           {
            "colorbar": {
             "outlinewidth": 0,
             "ticks": ""
            },
            "colorscale": [
             [
              0,
              "#0d0887"
             ],
             [
              0.1111111111111111,
              "#46039f"
             ],
             [
              0.2222222222222222,
              "#7201a8"
             ],
             [
              0.3333333333333333,
              "#9c179e"
             ],
             [
              0.4444444444444444,
              "#bd3786"
             ],
             [
              0.5555555555555556,
              "#d8576b"
             ],
             [
              0.6666666666666666,
              "#ed7953"
             ],
             [
              0.7777777777777778,
              "#fb9f3a"
             ],
             [
              0.8888888888888888,
              "#fdca26"
             ],
             [
              1,
              "#f0f921"
             ]
            ],
            "type": "contour"
           }
          ],
          "contourcarpet": [
           {
            "colorbar": {
             "outlinewidth": 0,
             "ticks": ""
            },
            "type": "contourcarpet"
           }
          ],
          "heatmap": [
           {
            "colorbar": {
             "outlinewidth": 0,
             "ticks": ""
            },
            "colorscale": [
             [
              0,
              "#0d0887"
             ],
             [
              0.1111111111111111,
              "#46039f"
             ],
             [
              0.2222222222222222,
              "#7201a8"
             ],
             [
              0.3333333333333333,
              "#9c179e"
             ],
             [
              0.4444444444444444,
              "#bd3786"
             ],
             [
              0.5555555555555556,
              "#d8576b"
             ],
             [
              0.6666666666666666,
              "#ed7953"
             ],
             [
              0.7777777777777778,
              "#fb9f3a"
             ],
             [
              0.8888888888888888,
              "#fdca26"
             ],
             [
              1,
              "#f0f921"
             ]
            ],
            "type": "heatmap"
           }
          ],
          "heatmapgl": [
           {
            "colorbar": {
             "outlinewidth": 0,
             "ticks": ""
            },
            "colorscale": [
             [
              0,
              "#0d0887"
             ],
             [
              0.1111111111111111,
              "#46039f"
             ],
             [
              0.2222222222222222,
              "#7201a8"
             ],
             [
              0.3333333333333333,
              "#9c179e"
             ],
             [
              0.4444444444444444,
              "#bd3786"
             ],
             [
              0.5555555555555556,
              "#d8576b"
             ],
             [
              0.6666666666666666,
              "#ed7953"
             ],
             [
              0.7777777777777778,
              "#fb9f3a"
             ],
             [
              0.8888888888888888,
              "#fdca26"
             ],
             [
              1,
              "#f0f921"
             ]
            ],
            "type": "heatmapgl"
           }
          ],
          "histogram": [
           {
            "marker": {
             "pattern": {
              "fillmode": "overlay",
              "size": 10,
              "solidity": 0.2
             }
            },
            "type": "histogram"
           }
          ],
          "histogram2d": [
           {
            "colorbar": {
             "outlinewidth": 0,
             "ticks": ""
            },
            "colorscale": [
             [
              0,
              "#0d0887"
             ],
             [
              0.1111111111111111,
              "#46039f"
             ],
             [
              0.2222222222222222,
              "#7201a8"
             ],
             [
              0.3333333333333333,
              "#9c179e"
             ],
             [
              0.4444444444444444,
              "#bd3786"
             ],
             [
              0.5555555555555556,
              "#d8576b"
             ],
             [
              0.6666666666666666,
              "#ed7953"
             ],
             [
              0.7777777777777778,
              "#fb9f3a"
             ],
             [
              0.8888888888888888,
              "#fdca26"
             ],
             [
              1,
              "#f0f921"
             ]
            ],
            "type": "histogram2d"
           }
          ],
          "histogram2dcontour": [
           {
            "colorbar": {
             "outlinewidth": 0,
             "ticks": ""
            },
            "colorscale": [
             [
              0,
              "#0d0887"
             ],
             [
              0.1111111111111111,
              "#46039f"
             ],
             [
              0.2222222222222222,
              "#7201a8"
             ],
             [
              0.3333333333333333,
              "#9c179e"
             ],
             [
              0.4444444444444444,
              "#bd3786"
             ],
             [
              0.5555555555555556,
              "#d8576b"
             ],
             [
              0.6666666666666666,
              "#ed7953"
             ],
             [
              0.7777777777777778,
              "#fb9f3a"
             ],
             [
              0.8888888888888888,
              "#fdca26"
             ],
             [
              1,
              "#f0f921"
             ]
            ],
            "type": "histogram2dcontour"
           }
          ],
          "mesh3d": [
           {
            "colorbar": {
             "outlinewidth": 0,
             "ticks": ""
            },
            "type": "mesh3d"
           }
          ],
          "parcoords": [
           {
            "line": {
             "colorbar": {
              "outlinewidth": 0,
              "ticks": ""
             }
            },
            "type": "parcoords"
           }
          ],
          "pie": [
           {
            "automargin": true,
            "type": "pie"
           }
          ],
          "scatter": [
           {
            "fillpattern": {
             "fillmode": "overlay",
             "size": 10,
             "solidity": 0.2
            },
            "type": "scatter"
           }
          ],
          "scatter3d": [
           {
            "line": {
             "colorbar": {
              "outlinewidth": 0,
              "ticks": ""
             }
            },
            "marker": {
             "colorbar": {
              "outlinewidth": 0,
              "ticks": ""
             }
            },
            "type": "scatter3d"
           }
          ],
          "scattercarpet": [
           {
            "marker": {
             "colorbar": {
              "outlinewidth": 0,
              "ticks": ""
             }
            },
            "type": "scattercarpet"
           }
          ],
          "scattergeo": [
           {
            "marker": {
             "colorbar": {
              "outlinewidth": 0,
              "ticks": ""
             }
            },
            "type": "scattergeo"
           }
          ],
          "scattergl": [
           {
            "marker": {
             "colorbar": {
              "outlinewidth": 0,
              "ticks": ""
             }
            },
            "type": "scattergl"
           }
          ],
          "scattermapbox": [
           {
            "marker": {
             "colorbar": {
              "outlinewidth": 0,
              "ticks": ""
             }
            },
            "type": "scattermapbox"
           }
          ],
          "scatterpolar": [
           {
            "marker": {
             "colorbar": {
              "outlinewidth": 0,
              "ticks": ""
             }
            },
            "type": "scatterpolar"
           }
          ],
          "scatterpolargl": [
           {
            "marker": {
             "colorbar": {
              "outlinewidth": 0,
              "ticks": ""
             }
            },
            "type": "scatterpolargl"
           }
          ],
          "scatterternary": [
           {
            "marker": {
             "colorbar": {
              "outlinewidth": 0,
              "ticks": ""
             }
            },
            "type": "scatterternary"
           }
          ],
          "surface": [
           {
            "colorbar": {
             "outlinewidth": 0,
             "ticks": ""
            },
            "colorscale": [
             [
              0,
              "#0d0887"
             ],
             [
              0.1111111111111111,
              "#46039f"
             ],
             [
              0.2222222222222222,
              "#7201a8"
             ],
             [
              0.3333333333333333,
              "#9c179e"
             ],
             [
              0.4444444444444444,
              "#bd3786"
             ],
             [
              0.5555555555555556,
              "#d8576b"
             ],
             [
              0.6666666666666666,
              "#ed7953"
             ],
             [
              0.7777777777777778,
              "#fb9f3a"
             ],
             [
              0.8888888888888888,
              "#fdca26"
             ],
             [
              1,
              "#f0f921"
             ]
            ],
            "type": "surface"
           }
          ],
          "table": [
           {
            "cells": {
             "fill": {
              "color": "#EBF0F8"
             },
             "line": {
              "color": "white"
             }
            },
            "header": {
             "fill": {
              "color": "#C8D4E3"
             },
             "line": {
              "color": "white"
             }
            },
            "type": "table"
           }
          ]
         },
         "layout": {
          "annotationdefaults": {
           "arrowcolor": "#2a3f5f",
           "arrowhead": 0,
           "arrowwidth": 1
          },
          "autotypenumbers": "strict",
          "coloraxis": {
           "colorbar": {
            "outlinewidth": 0,
            "ticks": ""
           }
          },
          "colorscale": {
           "diverging": [
            [
             0,
             "#8e0152"
            ],
            [
             0.1,
             "#c51b7d"
            ],
            [
             0.2,
             "#de77ae"
            ],
            [
             0.3,
             "#f1b6da"
            ],
            [
             0.4,
             "#fde0ef"
            ],
            [
             0.5,
             "#f7f7f7"
            ],
            [
             0.6,
             "#e6f5d0"
            ],
            [
             0.7,
             "#b8e186"
            ],
            [
             0.8,
             "#7fbc41"
            ],
            [
             0.9,
             "#4d9221"
            ],
            [
             1,
             "#276419"
            ]
           ],
           "sequential": [
            [
             0,
             "#0d0887"
            ],
            [
             0.1111111111111111,
             "#46039f"
            ],
            [
             0.2222222222222222,
             "#7201a8"
            ],
            [
             0.3333333333333333,
             "#9c179e"
            ],
            [
             0.4444444444444444,
             "#bd3786"
            ],
            [
             0.5555555555555556,
             "#d8576b"
            ],
            [
             0.6666666666666666,
             "#ed7953"
            ],
            [
             0.7777777777777778,
             "#fb9f3a"
            ],
            [
             0.8888888888888888,
             "#fdca26"
            ],
            [
             1,
             "#f0f921"
            ]
           ],
           "sequentialminus": [
            [
             0,
             "#0d0887"
            ],
            [
             0.1111111111111111,
             "#46039f"
            ],
            [
             0.2222222222222222,
             "#7201a8"
            ],
            [
             0.3333333333333333,
             "#9c179e"
            ],
            [
             0.4444444444444444,
             "#bd3786"
            ],
            [
             0.5555555555555556,
             "#d8576b"
            ],
            [
             0.6666666666666666,
             "#ed7953"
            ],
            [
             0.7777777777777778,
             "#fb9f3a"
            ],
            [
             0.8888888888888888,
             "#fdca26"
            ],
            [
             1,
             "#f0f921"
            ]
           ]
          },
          "colorway": [
           "#636efa",
           "#EF553B",
           "#00cc96",
           "#ab63fa",
           "#FFA15A",
           "#19d3f3",
           "#FF6692",
           "#B6E880",
           "#FF97FF",
           "#FECB52"
          ],
          "font": {
           "color": "#2a3f5f"
          },
          "geo": {
           "bgcolor": "white",
           "lakecolor": "white",
           "landcolor": "#E5ECF6",
           "showlakes": true,
           "showland": true,
           "subunitcolor": "white"
          },
          "hoverlabel": {
           "align": "left"
          },
          "hovermode": "closest",
          "mapbox": {
           "style": "light"
          },
          "paper_bgcolor": "white",
          "plot_bgcolor": "#E5ECF6",
          "polar": {
           "angularaxis": {
            "gridcolor": "white",
            "linecolor": "white",
            "ticks": ""
           },
           "bgcolor": "#E5ECF6",
           "radialaxis": {
            "gridcolor": "white",
            "linecolor": "white",
            "ticks": ""
           }
          },
          "scene": {
           "xaxis": {
            "backgroundcolor": "#E5ECF6",
            "gridcolor": "white",
            "gridwidth": 2,
            "linecolor": "white",
            "showbackground": true,
            "ticks": "",
            "zerolinecolor": "white"
           },
           "yaxis": {
            "backgroundcolor": "#E5ECF6",
            "gridcolor": "white",
            "gridwidth": 2,
            "linecolor": "white",
            "showbackground": true,
            "ticks": "",
            "zerolinecolor": "white"
           },
           "zaxis": {
            "backgroundcolor": "#E5ECF6",
            "gridcolor": "white",
            "gridwidth": 2,
            "linecolor": "white",
            "showbackground": true,
            "ticks": "",
            "zerolinecolor": "white"
           }
          },
          "shapedefaults": {
           "line": {
            "color": "#2a3f5f"
           }
          },
          "ternary": {
           "aaxis": {
            "gridcolor": "white",
            "linecolor": "white",
            "ticks": ""
           },
           "baxis": {
            "gridcolor": "white",
            "linecolor": "white",
            "ticks": ""
           },
           "bgcolor": "#E5ECF6",
           "caxis": {
            "gridcolor": "white",
            "linecolor": "white",
            "ticks": ""
           }
          },
          "title": {
           "x": 0.05
          },
          "xaxis": {
           "automargin": true,
           "gridcolor": "white",
           "linecolor": "white",
           "ticks": "",
           "title": {
            "standoff": 15
           },
           "zerolinecolor": "white",
           "zerolinewidth": 2
          },
          "yaxis": {
           "automargin": true,
           "gridcolor": "white",
           "linecolor": "white",
           "ticks": "",
           "title": {
            "standoff": 15
           },
           "zerolinecolor": "white",
           "zerolinewidth": 2
          }
         }
        },
        "title": {
         "text": "Analise de clusters"
        },
        "xaxis": {
         "anchor": "y",
         "domain": [
          0,
          1
         ],
         "title": {
          "text": "colesterol"
         }
        },
        "yaxis": {
         "anchor": "x",
         "domain": [
          0,
          1
         ],
         "title": {
          "text": "peso"
         }
        }
       }
      }
     },
     "metadata": {},
     "output_type": "display_data"
    }
   ],
   "source": [
    "plotar_grafico(base_completa['colesterol'], base_completa['peso'], 'colesterol', 'peso')"
   ]
  },
  {
   "cell_type": "code",
   "execution_count": 384,
   "metadata": {},
   "outputs": [
    {
     "data": {
      "application/vnd.plotly.v1+json": {
       "config": {
        "plotlyServerURL": "https://plot.ly"
       },
       "data": [
        {
         "hovertemplate": "x=%{x}<br>y=%{y}<br>color=%{marker.color}<extra></extra>",
         "legendgroup": "",
         "marker": {
          "color": [
           2,
           2,
           2,
           1,
           0,
           2,
           3,
           0,
           0,
           2,
           0,
           2,
           3,
           1,
           0,
           2,
           0,
           3,
           1,
           3,
           2,
           0,
           1,
           2,
           0,
           2,
           0,
           0,
           3,
           0,
           1,
           3,
           0,
           2,
           0,
           2,
           1,
           3,
           0,
           3,
           1,
           0,
           1,
           0,
           1,
           1,
           2,
           2,
           3,
           0,
           3,
           2,
           3,
           3,
           0,
           1,
           3,
           2,
           3,
           2,
           1,
           3,
           3,
           0,
           1,
           1,
           1,
           1,
           3,
           0,
           2,
           1,
           0,
           2,
           1,
           1,
           2,
           0,
           1,
           2,
           1,
           3,
           1,
           1,
           2,
           3,
           0,
           2,
           2,
           2,
           1,
           1,
           3,
           2,
           2,
           3,
           1,
           0,
           2,
           3,
           2,
           0,
           1,
           0,
           1,
           2,
           0,
           2,
           1,
           3,
           1,
           0,
           2,
           3,
           0,
           0,
           2,
           0,
           2,
           1,
           0,
           2,
           0,
           3,
           1,
           3,
           2,
           0,
           3,
           2,
           0,
           2,
           0,
           0,
           3,
           3,
           2,
           0,
           2,
           0,
           2,
           1,
           0,
           0,
           1,
           0,
           0,
           0,
           1,
           1,
           3,
           0,
           3,
           2,
           0,
           3,
           0,
           1,
           3,
           2,
           3,
           2,
           0,
           3,
           3,
           0,
           1,
           1,
           1,
           1,
           3,
           0,
           2,
           1,
           0,
           2,
           1,
           2,
           0,
           1,
           2,
           1,
           3,
           3,
           1,
           2,
           3,
           0,
           2,
           2,
           2,
           1,
           1,
           3,
           2,
           2,
           0,
           2,
           1,
           0,
           0,
           1,
           2,
           0,
           0,
           1,
           2,
           0,
           2,
           1,
           1,
           1,
           0,
           2,
           3,
           0,
           2,
           0,
           2,
           3,
           1,
           0,
           2,
           0,
           3,
           1,
           3,
           2,
           0,
           2,
           0,
           2,
           0,
           0,
           3,
           0,
           3,
           3,
           0,
           2,
           0,
           2,
           1,
           0,
           0,
           3,
           1,
           0,
           1,
           0,
           1,
           1,
           2,
           1,
           0,
           0,
           3,
           2,
           3,
           3,
           0,
           3,
           2,
           3,
           2,
           0,
           3,
           3,
           2,
           3,
           0,
           1,
           1,
           1,
           3,
           0,
           2,
           1,
           0,
           2,
           1,
           2,
           0,
           1,
           2,
           1,
           3,
           3,
           1,
           2,
           3,
           0,
           2,
           2,
           2,
           1,
           1,
           3,
           2,
           2,
           3,
           0,
           2,
           1,
           0,
           0,
           2,
           3,
           2,
           0,
           1,
           0,
           1,
           2,
           0,
           2,
           1,
           1,
           3,
           1,
           0,
           2,
           3,
           0,
           0,
           2,
           0,
           2,
           1,
           0,
           0,
           3,
           1,
           3,
           2,
           0,
           3,
           2,
           0,
           2,
           0,
           0,
           0,
           1,
           3,
           2,
           0,
           2,
           0,
           2,
           0,
           0,
           3,
           1,
           0,
           0,
           0,
           1,
           1,
           1,
           3,
           0,
           3,
           2,
           3,
           0,
           1,
           3,
           2,
           3,
           0,
           3,
           3,
           2,
           3,
           0,
           1,
           1,
           1,
           1,
           3,
           0,
           2,
           1,
           0,
           2,
           1,
           2,
           0,
           2,
           1,
           3,
           1,
           1,
           2,
           3,
           2,
           2,
           2,
           1,
           1,
           3,
           2,
           2,
           3,
           0,
           1,
           0,
           0,
           1,
           3,
           2,
           0,
           1,
           0,
           1,
           2,
           0,
           2,
           1,
           1,
           3,
           1,
           1,
           3,
           0,
           0,
           2,
           0,
           2,
           3,
           1,
           0,
           2,
           0,
           3,
           1,
           3,
           0,
           3,
           2,
           0,
           2,
           0,
           0,
           3,
           0,
           3,
           3,
           2,
           2,
           0,
           2,
           1,
           0,
           3,
           1,
           0,
           0,
           1,
           0,
           1,
           1,
           2,
           3,
           0,
           3,
           2,
           3,
           3,
           0,
           1,
           3,
           2,
           2,
           3,
           3,
           2,
           3,
           0,
           3,
           1,
           1,
           1,
           3,
           0,
           2,
           1,
           0,
           2,
           1,
           1,
           2,
           0,
           1,
           2,
           1,
           3
          ],
          "coloraxis": "coloraxis",
          "symbol": "circle"
         },
         "mode": "markers",
         "name": "",
         "orientation": "v",
         "showlegend": false,
         "type": "scatter",
         "x": [
          102,
          115,
          115,
          130,
          198,
          114,
          145,
          191,
          186,
          104,
          188,
          96,
          156,
          125,
          178,
          109,
          168,
          152,
          133,
          153,
          107,
          199,
          140,
          95,
          183,
          108,
          190,
          174,
          149,
          169,
          138,
          151,
          178,
          106,
          195,
          96,
          129,
          166,
          197,
          148,
          117,
          193,
          130,
          183,
          134,
          128,
          105,
          115,
          166,
          183,
          149,
          110,
          164,
          157,
          170,
          124,
          145,
          113,
          150,
          100,
          139,
          150,
          157,
          187,
          137,
          121,
          132,
          130,
          156,
          180,
          100,
          122,
          185,
          113,
          123,
          119,
          113,
          168,
          126,
          102,
          116,
          144,
          140,
          124,
          108,
          154,
          185,
          106,
          97,
          96,
          129,
          124,
          149,
          97,
          102,
          146,
          118,
          179,
          113,
          142,
          101,
          174,
          131,
          179,
          122,
          105,
          176,
          103,
          120,
          143,
          134,
          203,
          116,
          150,
          192,
          187,
          107,
          192,
          97,
          128,
          183,
          112,
          173,
          156,
          137,
          156,
          112,
          203,
          141,
          97,
          186,
          113,
          195,
          175,
          154,
          152,
          114,
          181,
          111,
          200,
          100,
          134,
          167,
          198,
          121,
          196,
          171,
          186,
          133,
          120,
          168,
          184,
          154,
          115,
          168,
          161,
          171,
          129,
          150,
          118,
          154,
          103,
          180,
          141,
          159,
          191,
          142,
          123,
          135,
          132,
          158,
          181,
          105,
          126,
          186,
          116,
          124,
          115,
          173,
          128,
          103,
          120,
          146,
          145,
          125,
          109,
          156,
          187,
          110,
          100,
          97,
          133,
          128,
          154,
          100,
          104,
          203,
          104,
          119,
          181,
          180,
          116,
          102,
          176,
          184,
          124,
          110,
          180,
          103,
          117,
          120,
          133,
          201,
          117,
          146,
          195,
          108,
          191,
          100,
          158,
          127,
          181,
          113,
          171,
          153,
          137,
          154,
          112,
          201,
          100,
          185,
          111,
          191,
          176,
          150,
          171,
          140,
          153,
          180,
          107,
          197,
          101,
          132,
          168,
          200,
          150,
          119,
          197,
          134,
          185,
          135,
          132,
          109,
          116,
          170,
          187,
          154,
          111,
          169,
          161,
          174,
          148,
          117,
          154,
          104,
          183,
          142,
          155,
          105,
          160,
          191,
          140,
          123,
          132,
          158,
          182,
          104,
          126,
          188,
          118,
          127,
          118,
          169,
          128,
          106,
          119,
          147,
          141,
          125,
          109,
          158,
          190,
          110,
          99,
          98,
          134,
          129,
          154,
          100,
          107,
          149,
          203,
          101,
          119,
          182,
          181,
          115,
          145,
          102,
          176,
          134,
          183,
          123,
          108,
          177,
          104,
          117,
          117,
          145,
          134,
          199,
          115,
          149,
          192,
          188,
          107,
          190,
          98,
          128,
          180,
          172,
          157,
          137,
          158,
          110,
          203,
          145,
          96,
          186,
          110,
          194,
          177,
          172,
          140,
          154,
          113,
          179,
          111,
          196,
          101,
          171,
          199,
          151,
          121,
          196,
          174,
          184,
          137,
          129,
          116,
          168,
          184,
          151,
          114,
          167,
          175,
          127,
          146,
          118,
          151,
          180,
          140,
          155,
          106,
          160,
          192,
          138,
          122,
          135,
          132,
          158,
          184,
          101,
          126,
          188,
          118,
          127,
          117,
          172,
          104,
          121,
          148,
          141,
          128,
          113,
          155,
          108,
          98,
          100,
          134,
          125,
          151,
          100,
          107,
          147,
          200,
          120,
          181,
          182,
          117,
          145,
          106,
          179,
          134,
          180,
          126,
          110,
          180,
          103,
          116,
          119,
          144,
          133,
          115,
          150,
          192,
          188,
          109,
          189,
          101,
          159,
          128,
          182,
          111,
          171,
          154,
          134,
          157,
          203,
          142,
          97,
          187,
          111,
          194,
          176,
          153,
          171,
          142,
          153,
          113,
          108,
          200,
          99,
          131,
          171,
          152,
          119,
          196,
          173,
          132,
          185,
          138,
          132,
          110,
          167,
          188,
          151,
          112,
          166,
          158,
          172,
          127,
          150,
          115,
          103,
          141,
          152,
          105,
          162,
          190,
          141,
          122,
          136,
          131,
          157,
          181,
          103,
          127,
          189,
          114,
          125,
          123,
          116,
          172,
          129,
          107,
          117,
          148
         ],
         "xaxis": "x",
         "y": [
          111,
          135,
          136,
          158,
          227,
          131,
          176,
          223,
          221,
          116,
          222,
          102,
          192,
          152,
          213,
          125,
          204,
          189,
          163,
          189,
          122,
          228,
          168,
          102,
          218,
          123,
          222,
          208,
          183,
          204,
          167,
          188,
          213,
          122,
          225,
          105,
          155,
          203,
          225,
          177,
          139,
          224,
          158,
          218,
          164,
          154,
          118,
          138,
          199,
          219,
          183,
          128,
          197,
          196,
          208,
          152,
          175,
          129,
          185,
          107,
          167,
          185,
          194,
          221,
          166,
          143,
          163,
          158,
          191,
          216,
          106,
          146,
          220,
          131,
          147,
          141,
          130,
          204,
          152,
          111,
          139,
          172,
          168,
          148,
          123,
          189,
          220,
          120,
          106,
          105,
          157,
          149,
          185,
          106,
          115,
          177,
          140,
          216,
          130,
          169,
          110,
          209,
          162,
          214,
          145,
          116,
          209,
          116,
          139,
          168,
          158,
          232,
          136,
          180,
          228,
          222,
          117,
          224,
          104,
          156,
          213,
          133,
          208,
          195,
          163,
          195,
          124,
          231,
          172,
          104,
          221,
          128,
          222,
          214,
          184,
          195,
          132,
          214,
          123,
          233,
          107,
          162,
          204,
          227,
          142,
          225,
          212,
          220,
          155,
          144,
          201,
          222,
          189,
          132,
          204,
          201,
          211,
          156,
          179,
          129,
          185,
          107,
          213,
          172,
          202,
          222,
          168,
          146,
          170,
          165,
          196,
          224,
          108,
          149,
          224,
          136,
          152,
          135,
          211,
          156,
          115,
          143,
          179,
          173,
          148,
          127,
          194,
          225,
          127,
          106,
          112,
          164,
          151,
          191,
          110,
          116,
          235,
          108,
          141,
          219,
          219,
          138,
          116,
          212,
          220,
          151,
          119,
          212,
          111,
          142,
          138,
          158,
          228,
          134,
          181,
          231,
          121,
          222,
          102,
          195,
          156,
          214,
          132,
          204,
          190,
          167,
          195,
          127,
          235,
          110,
          221,
          128,
          226,
          208,
          191,
          205,
          173,
          191,
          220,
          126,
          232,
          108,
          159,
          211,
          232,
          182,
          145,
          224,
          160,
          219,
          170,
          161,
          122,
          141,
          204,
          226,
          187,
          129,
          199,
          199,
          214,
          176,
          129,
          187,
          109,
          212,
          170,
          191,
          116,
          202,
          226,
          166,
          151,
          166,
          193,
          218,
          109,
          152,
          220,
          133,
          152,
          131,
          204,
          153,
          114,
          144,
          172,
          176,
          150,
          129,
          190,
          226,
          128,
          106,
          107,
          159,
          157,
          192,
          110,
          115,
          183,
          233,
          112,
          146,
          222,
          216,
          134,
          174,
          114,
          211,
          167,
          214,
          145,
          120,
          217,
          113,
          141,
          140,
          171,
          163,
          232,
          131,
          184,
          225,
          223,
          121,
          223,
          105,
          160,
          218,
          211,
          194,
          169,
          189,
          128,
          228,
          169,
          108,
          219,
          124,
          224,
          214,
          205,
          167,
          190,
          128,
          217,
          126,
          228,
          105,
          211,
          227,
          178,
          146,
          227,
          208,
          225,
          167,
          162,
          144,
          199,
          226,
          183,
          136,
          199,
          215,
          155,
          179,
          133,
          186,
          219,
          173,
          185,
          118,
          199,
          226,
          169,
          144,
          166,
          166,
          198,
          222,
          110,
          154,
          226,
          135,
          151,
          133,
          205,
          116,
          145,
          174,
          168,
          156,
          124,
          196,
          122,
          106,
          110,
          158,
          154,
          190,
          110,
          120,
          180,
          232,
          142,
          222,
          218,
          138,
          176,
          115,
          211,
          168,
          216,
          147,
          124,
          215,
          117,
          139,
          138,
          171,
          158,
          139,
          178,
          224,
          224,
          116,
          223,
          109,
          193,
          155,
          221,
          130,
          212,
          190,
          169,
          191,
          234,
          175,
          108,
          220,
          126,
          227,
          216,
          188,
          205,
          172,
          192,
          129,
          127,
          228,
          105,
          159,
          205,
          178,
          139,
          232,
          212,
          162,
          226,
          171,
          159,
          120,
          200,
          221,
          184,
          134,
          200,
          201,
          210,
          159,
          178,
          137,
          110,
          170,
          193,
          113,
          196,
          222,
          174,
          143,
          169,
          165,
          194,
          217,
          113,
          150,
          223,
          133,
          149,
          149,
          130,
          207,
          157,
          115,
          147,
          176
         ],
         "yaxis": "y"
        }
       ],
       "layout": {
        "coloraxis": {
         "colorbar": {
          "title": {
           "text": "color"
          }
         },
         "colorscale": [
          [
           0,
           "#0d0887"
          ],
          [
           0.1111111111111111,
           "#46039f"
          ],
          [
           0.2222222222222222,
           "#7201a8"
          ],
          [
           0.3333333333333333,
           "#9c179e"
          ],
          [
           0.4444444444444444,
           "#bd3786"
          ],
          [
           0.5555555555555556,
           "#d8576b"
          ],
          [
           0.6666666666666666,
           "#ed7953"
          ],
          [
           0.7777777777777778,
           "#fb9f3a"
          ],
          [
           0.8888888888888888,
           "#fdca26"
          ],
          [
           1,
           "#f0f921"
          ]
         ]
        },
        "legend": {
         "tracegroupgap": 0
        },
        "margin": {
         "t": 60
        },
        "template": {
         "data": {
          "bar": [
           {
            "error_x": {
             "color": "#2a3f5f"
            },
            "error_y": {
             "color": "#2a3f5f"
            },
            "marker": {
             "line": {
              "color": "#E5ECF6",
              "width": 0.5
             },
             "pattern": {
              "fillmode": "overlay",
              "size": 10,
              "solidity": 0.2
             }
            },
            "type": "bar"
           }
          ],
          "barpolar": [
           {
            "marker": {
             "line": {
              "color": "#E5ECF6",
              "width": 0.5
             },
             "pattern": {
              "fillmode": "overlay",
              "size": 10,
              "solidity": 0.2
             }
            },
            "type": "barpolar"
           }
          ],
          "carpet": [
           {
            "aaxis": {
             "endlinecolor": "#2a3f5f",
             "gridcolor": "white",
             "linecolor": "white",
             "minorgridcolor": "white",
             "startlinecolor": "#2a3f5f"
            },
            "baxis": {
             "endlinecolor": "#2a3f5f",
             "gridcolor": "white",
             "linecolor": "white",
             "minorgridcolor": "white",
             "startlinecolor": "#2a3f5f"
            },
            "type": "carpet"
           }
          ],
          "choropleth": [
           {
            "colorbar": {
             "outlinewidth": 0,
             "ticks": ""
            },
            "type": "choropleth"
           }
          ],
          "contour": [
           {
            "colorbar": {
             "outlinewidth": 0,
             "ticks": ""
            },
            "colorscale": [
             [
              0,
              "#0d0887"
             ],
             [
              0.1111111111111111,
              "#46039f"
             ],
             [
              0.2222222222222222,
              "#7201a8"
             ],
             [
              0.3333333333333333,
              "#9c179e"
             ],
             [
              0.4444444444444444,
              "#bd3786"
             ],
             [
              0.5555555555555556,
              "#d8576b"
             ],
             [
              0.6666666666666666,
              "#ed7953"
             ],
             [
              0.7777777777777778,
              "#fb9f3a"
             ],
             [
              0.8888888888888888,
              "#fdca26"
             ],
             [
              1,
              "#f0f921"
             ]
            ],
            "type": "contour"
           }
          ],
          "contourcarpet": [
           {
            "colorbar": {
             "outlinewidth": 0,
             "ticks": ""
            },
            "type": "contourcarpet"
           }
          ],
          "heatmap": [
           {
            "colorbar": {
             "outlinewidth": 0,
             "ticks": ""
            },
            "colorscale": [
             [
              0,
              "#0d0887"
             ],
             [
              0.1111111111111111,
              "#46039f"
             ],
             [
              0.2222222222222222,
              "#7201a8"
             ],
             [
              0.3333333333333333,
              "#9c179e"
             ],
             [
              0.4444444444444444,
              "#bd3786"
             ],
             [
              0.5555555555555556,
              "#d8576b"
             ],
             [
              0.6666666666666666,
              "#ed7953"
             ],
             [
              0.7777777777777778,
              "#fb9f3a"
             ],
             [
              0.8888888888888888,
              "#fdca26"
             ],
             [
              1,
              "#f0f921"
             ]
            ],
            "type": "heatmap"
           }
          ],
          "heatmapgl": [
           {
            "colorbar": {
             "outlinewidth": 0,
             "ticks": ""
            },
            "colorscale": [
             [
              0,
              "#0d0887"
             ],
             [
              0.1111111111111111,
              "#46039f"
             ],
             [
              0.2222222222222222,
              "#7201a8"
             ],
             [
              0.3333333333333333,
              "#9c179e"
             ],
             [
              0.4444444444444444,
              "#bd3786"
             ],
             [
              0.5555555555555556,
              "#d8576b"
             ],
             [
              0.6666666666666666,
              "#ed7953"
             ],
             [
              0.7777777777777778,
              "#fb9f3a"
             ],
             [
              0.8888888888888888,
              "#fdca26"
             ],
             [
              1,
              "#f0f921"
             ]
            ],
            "type": "heatmapgl"
           }
          ],
          "histogram": [
           {
            "marker": {
             "pattern": {
              "fillmode": "overlay",
              "size": 10,
              "solidity": 0.2
             }
            },
            "type": "histogram"
           }
          ],
          "histogram2d": [
           {
            "colorbar": {
             "outlinewidth": 0,
             "ticks": ""
            },
            "colorscale": [
             [
              0,
              "#0d0887"
             ],
             [
              0.1111111111111111,
              "#46039f"
             ],
             [
              0.2222222222222222,
              "#7201a8"
             ],
             [
              0.3333333333333333,
              "#9c179e"
             ],
             [
              0.4444444444444444,
              "#bd3786"
             ],
             [
              0.5555555555555556,
              "#d8576b"
             ],
             [
              0.6666666666666666,
              "#ed7953"
             ],
             [
              0.7777777777777778,
              "#fb9f3a"
             ],
             [
              0.8888888888888888,
              "#fdca26"
             ],
             [
              1,
              "#f0f921"
             ]
            ],
            "type": "histogram2d"
           }
          ],
          "histogram2dcontour": [
           {
            "colorbar": {
             "outlinewidth": 0,
             "ticks": ""
            },
            "colorscale": [
             [
              0,
              "#0d0887"
             ],
             [
              0.1111111111111111,
              "#46039f"
             ],
             [
              0.2222222222222222,
              "#7201a8"
             ],
             [
              0.3333333333333333,
              "#9c179e"
             ],
             [
              0.4444444444444444,
              "#bd3786"
             ],
             [
              0.5555555555555556,
              "#d8576b"
             ],
             [
              0.6666666666666666,
              "#ed7953"
             ],
             [
              0.7777777777777778,
              "#fb9f3a"
             ],
             [
              0.8888888888888888,
              "#fdca26"
             ],
             [
              1,
              "#f0f921"
             ]
            ],
            "type": "histogram2dcontour"
           }
          ],
          "mesh3d": [
           {
            "colorbar": {
             "outlinewidth": 0,
             "ticks": ""
            },
            "type": "mesh3d"
           }
          ],
          "parcoords": [
           {
            "line": {
             "colorbar": {
              "outlinewidth": 0,
              "ticks": ""
             }
            },
            "type": "parcoords"
           }
          ],
          "pie": [
           {
            "automargin": true,
            "type": "pie"
           }
          ],
          "scatter": [
           {
            "fillpattern": {
             "fillmode": "overlay",
             "size": 10,
             "solidity": 0.2
            },
            "type": "scatter"
           }
          ],
          "scatter3d": [
           {
            "line": {
             "colorbar": {
              "outlinewidth": 0,
              "ticks": ""
             }
            },
            "marker": {
             "colorbar": {
              "outlinewidth": 0,
              "ticks": ""
             }
            },
            "type": "scatter3d"
           }
          ],
          "scattercarpet": [
           {
            "marker": {
             "colorbar": {
              "outlinewidth": 0,
              "ticks": ""
             }
            },
            "type": "scattercarpet"
           }
          ],
          "scattergeo": [
           {
            "marker": {
             "colorbar": {
              "outlinewidth": 0,
              "ticks": ""
             }
            },
            "type": "scattergeo"
           }
          ],
          "scattergl": [
           {
            "marker": {
             "colorbar": {
              "outlinewidth": 0,
              "ticks": ""
             }
            },
            "type": "scattergl"
           }
          ],
          "scattermapbox": [
           {
            "marker": {
             "colorbar": {
              "outlinewidth": 0,
              "ticks": ""
             }
            },
            "type": "scattermapbox"
           }
          ],
          "scatterpolar": [
           {
            "marker": {
             "colorbar": {
              "outlinewidth": 0,
              "ticks": ""
             }
            },
            "type": "scatterpolar"
           }
          ],
          "scatterpolargl": [
           {
            "marker": {
             "colorbar": {
              "outlinewidth": 0,
              "ticks": ""
             }
            },
            "type": "scatterpolargl"
           }
          ],
          "scatterternary": [
           {
            "marker": {
             "colorbar": {
              "outlinewidth": 0,
              "ticks": ""
             }
            },
            "type": "scatterternary"
           }
          ],
          "surface": [
           {
            "colorbar": {
             "outlinewidth": 0,
             "ticks": ""
            },
            "colorscale": [
             [
              0,
              "#0d0887"
             ],
             [
              0.1111111111111111,
              "#46039f"
             ],
             [
              0.2222222222222222,
              "#7201a8"
             ],
             [
              0.3333333333333333,
              "#9c179e"
             ],
             [
              0.4444444444444444,
              "#bd3786"
             ],
             [
              0.5555555555555556,
              "#d8576b"
             ],
             [
              0.6666666666666666,
              "#ed7953"
             ],
             [
              0.7777777777777778,
              "#fb9f3a"
             ],
             [
              0.8888888888888888,
              "#fdca26"
             ],
             [
              1,
              "#f0f921"
             ]
            ],
            "type": "surface"
           }
          ],
          "table": [
           {
            "cells": {
             "fill": {
              "color": "#EBF0F8"
             },
             "line": {
              "color": "white"
             }
            },
            "header": {
             "fill": {
              "color": "#C8D4E3"
             },
             "line": {
              "color": "white"
             }
            },
            "type": "table"
           }
          ]
         },
         "layout": {
          "annotationdefaults": {
           "arrowcolor": "#2a3f5f",
           "arrowhead": 0,
           "arrowwidth": 1
          },
          "autotypenumbers": "strict",
          "coloraxis": {
           "colorbar": {
            "outlinewidth": 0,
            "ticks": ""
           }
          },
          "colorscale": {
           "diverging": [
            [
             0,
             "#8e0152"
            ],
            [
             0.1,
             "#c51b7d"
            ],
            [
             0.2,
             "#de77ae"
            ],
            [
             0.3,
             "#f1b6da"
            ],
            [
             0.4,
             "#fde0ef"
            ],
            [
             0.5,
             "#f7f7f7"
            ],
            [
             0.6,
             "#e6f5d0"
            ],
            [
             0.7,
             "#b8e186"
            ],
            [
             0.8,
             "#7fbc41"
            ],
            [
             0.9,
             "#4d9221"
            ],
            [
             1,
             "#276419"
            ]
           ],
           "sequential": [
            [
             0,
             "#0d0887"
            ],
            [
             0.1111111111111111,
             "#46039f"
            ],
            [
             0.2222222222222222,
             "#7201a8"
            ],
            [
             0.3333333333333333,
             "#9c179e"
            ],
            [
             0.4444444444444444,
             "#bd3786"
            ],
            [
             0.5555555555555556,
             "#d8576b"
            ],
            [
             0.6666666666666666,
             "#ed7953"
            ],
            [
             0.7777777777777778,
             "#fb9f3a"
            ],
            [
             0.8888888888888888,
             "#fdca26"
            ],
            [
             1,
             "#f0f921"
            ]
           ],
           "sequentialminus": [
            [
             0,
             "#0d0887"
            ],
            [
             0.1111111111111111,
             "#46039f"
            ],
            [
             0.2222222222222222,
             "#7201a8"
            ],
            [
             0.3333333333333333,
             "#9c179e"
            ],
            [
             0.4444444444444444,
             "#bd3786"
            ],
            [
             0.5555555555555556,
             "#d8576b"
            ],
            [
             0.6666666666666666,
             "#ed7953"
            ],
            [
             0.7777777777777778,
             "#fb9f3a"
            ],
            [
             0.8888888888888888,
             "#fdca26"
            ],
            [
             1,
             "#f0f921"
            ]
           ]
          },
          "colorway": [
           "#636efa",
           "#EF553B",
           "#00cc96",
           "#ab63fa",
           "#FFA15A",
           "#19d3f3",
           "#FF6692",
           "#B6E880",
           "#FF97FF",
           "#FECB52"
          ],
          "font": {
           "color": "#2a3f5f"
          },
          "geo": {
           "bgcolor": "white",
           "lakecolor": "white",
           "landcolor": "#E5ECF6",
           "showlakes": true,
           "showland": true,
           "subunitcolor": "white"
          },
          "hoverlabel": {
           "align": "left"
          },
          "hovermode": "closest",
          "mapbox": {
           "style": "light"
          },
          "paper_bgcolor": "white",
          "plot_bgcolor": "#E5ECF6",
          "polar": {
           "angularaxis": {
            "gridcolor": "white",
            "linecolor": "white",
            "ticks": ""
           },
           "bgcolor": "#E5ECF6",
           "radialaxis": {
            "gridcolor": "white",
            "linecolor": "white",
            "ticks": ""
           }
          },
          "scene": {
           "xaxis": {
            "backgroundcolor": "#E5ECF6",
            "gridcolor": "white",
            "gridwidth": 2,
            "linecolor": "white",
            "showbackground": true,
            "ticks": "",
            "zerolinecolor": "white"
           },
           "yaxis": {
            "backgroundcolor": "#E5ECF6",
            "gridcolor": "white",
            "gridwidth": 2,
            "linecolor": "white",
            "showbackground": true,
            "ticks": "",
            "zerolinecolor": "white"
           },
           "zaxis": {
            "backgroundcolor": "#E5ECF6",
            "gridcolor": "white",
            "gridwidth": 2,
            "linecolor": "white",
            "showbackground": true,
            "ticks": "",
            "zerolinecolor": "white"
           }
          },
          "shapedefaults": {
           "line": {
            "color": "#2a3f5f"
           }
          },
          "ternary": {
           "aaxis": {
            "gridcolor": "white",
            "linecolor": "white",
            "ticks": ""
           },
           "baxis": {
            "gridcolor": "white",
            "linecolor": "white",
            "ticks": ""
           },
           "bgcolor": "#E5ECF6",
           "caxis": {
            "gridcolor": "white",
            "linecolor": "white",
            "ticks": ""
           }
          },
          "title": {
           "x": 0.05
          },
          "xaxis": {
           "automargin": true,
           "gridcolor": "white",
           "linecolor": "white",
           "ticks": "",
           "title": {
            "standoff": 15
           },
           "zerolinecolor": "white",
           "zerolinewidth": 2
          },
          "yaxis": {
           "automargin": true,
           "gridcolor": "white",
           "linecolor": "white",
           "ticks": "",
           "title": {
            "standoff": 15
           },
           "zerolinecolor": "white",
           "zerolinewidth": 2
          }
         }
        },
        "title": {
         "text": "Analise de clusters"
        },
        "xaxis": {
         "anchor": "y",
         "domain": [
          0,
          1
         ],
         "title": {
          "text": "peso"
         }
        },
        "yaxis": {
         "anchor": "x",
         "domain": [
          0,
          1
         ],
         "title": {
          "text": "colesterol"
         }
        }
       }
      }
     },
     "metadata": {},
     "output_type": "display_data"
    }
   ],
   "source": [
    "plotar_grafico(base_completa['peso'], base_completa['colesterol'], 'peso', 'colesterol')"
   ]
  },
  {
   "cell_type": "code",
   "execution_count": 385,
   "metadata": {},
   "outputs": [
    {
     "data": {
      "application/vnd.plotly.v1+json": {
       "config": {
        "plotlyServerURL": "https://plot.ly"
       },
       "data": [
        {
         "hovertemplate": "x=%{x}<br>y=%{y}<br>color=%{marker.color}<extra></extra>",
         "legendgroup": "",
         "marker": {
          "color": [
           2,
           2,
           2,
           1,
           0,
           2,
           3,
           0,
           0,
           2,
           0,
           2,
           3,
           1,
           0,
           2,
           0,
           3,
           1,
           3,
           2,
           0,
           1,
           2,
           0,
           2,
           0,
           0,
           3,
           0,
           1,
           3,
           0,
           2,
           0,
           2,
           1,
           3,
           0,
           3,
           1,
           0,
           1,
           0,
           1,
           1,
           2,
           2,
           3,
           0,
           3,
           2,
           3,
           3,
           0,
           1,
           3,
           2,
           3,
           2,
           1,
           3,
           3,
           0,
           1,
           1,
           1,
           1,
           3,
           0,
           2,
           1,
           0,
           2,
           1,
           1,
           2,
           0,
           1,
           2,
           1,
           3,
           1,
           1,
           2,
           3,
           0,
           2,
           2,
           2,
           1,
           1,
           3,
           2,
           2,
           3,
           1,
           0,
           2,
           3,
           2,
           0,
           1,
           0,
           1,
           2,
           0,
           2,
           1,
           3,
           1,
           0,
           2,
           3,
           0,
           0,
           2,
           0,
           2,
           1,
           0,
           2,
           0,
           3,
           1,
           3,
           2,
           0,
           3,
           2,
           0,
           2,
           0,
           0,
           3,
           3,
           2,
           0,
           2,
           0,
           2,
           1,
           0,
           0,
           1,
           0,
           0,
           0,
           1,
           1,
           3,
           0,
           3,
           2,
           0,
           3,
           0,
           1,
           3,
           2,
           3,
           2,
           0,
           3,
           3,
           0,
           1,
           1,
           1,
           1,
           3,
           0,
           2,
           1,
           0,
           2,
           1,
           2,
           0,
           1,
           2,
           1,
           3,
           3,
           1,
           2,
           3,
           0,
           2,
           2,
           2,
           1,
           1,
           3,
           2,
           2,
           0,
           2,
           1,
           0,
           0,
           1,
           2,
           0,
           0,
           1,
           2,
           0,
           2,
           1,
           1,
           1,
           0,
           2,
           3,
           0,
           2,
           0,
           2,
           3,
           1,
           0,
           2,
           0,
           3,
           1,
           3,
           2,
           0,
           2,
           0,
           2,
           0,
           0,
           3,
           0,
           3,
           3,
           0,
           2,
           0,
           2,
           1,
           0,
           0,
           3,
           1,
           0,
           1,
           0,
           1,
           1,
           2,
           1,
           0,
           0,
           3,
           2,
           3,
           3,
           0,
           3,
           2,
           3,
           2,
           0,
           3,
           3,
           2,
           3,
           0,
           1,
           1,
           1,
           3,
           0,
           2,
           1,
           0,
           2,
           1,
           2,
           0,
           1,
           2,
           1,
           3,
           3,
           1,
           2,
           3,
           0,
           2,
           2,
           2,
           1,
           1,
           3,
           2,
           2,
           3,
           0,
           2,
           1,
           0,
           0,
           2,
           3,
           2,
           0,
           1,
           0,
           1,
           2,
           0,
           2,
           1,
           1,
           3,
           1,
           0,
           2,
           3,
           0,
           0,
           2,
           0,
           2,
           1,
           0,
           0,
           3,
           1,
           3,
           2,
           0,
           3,
           2,
           0,
           2,
           0,
           0,
           0,
           1,
           3,
           2,
           0,
           2,
           0,
           2,
           0,
           0,
           3,
           1,
           0,
           0,
           0,
           1,
           1,
           1,
           3,
           0,
           3,
           2,
           3,
           0,
           1,
           3,
           2,
           3,
           0,
           3,
           3,
           2,
           3,
           0,
           1,
           1,
           1,
           1,
           3,
           0,
           2,
           1,
           0,
           2,
           1,
           2,
           0,
           2,
           1,
           3,
           1,
           1,
           2,
           3,
           2,
           2,
           2,
           1,
           1,
           3,
           2,
           2,
           3,
           0,
           1,
           0,
           0,
           1,
           3,
           2,
           0,
           1,
           0,
           1,
           2,
           0,
           2,
           1,
           1,
           3,
           1,
           1,
           3,
           0,
           0,
           2,
           0,
           2,
           3,
           1,
           0,
           2,
           0,
           3,
           1,
           3,
           0,
           3,
           2,
           0,
           2,
           0,
           0,
           3,
           0,
           3,
           3,
           2,
           2,
           0,
           2,
           1,
           0,
           3,
           1,
           0,
           0,
           1,
           0,
           1,
           1,
           2,
           3,
           0,
           3,
           2,
           3,
           3,
           0,
           1,
           3,
           2,
           2,
           3,
           3,
           2,
           3,
           0,
           3,
           1,
           1,
           1,
           3,
           0,
           2,
           1,
           0,
           2,
           1,
           1,
           2,
           0,
           1,
           2,
           1,
           3
          ],
          "coloraxis": "coloraxis",
          "symbol": "circle"
         },
         "mode": "markers",
         "name": "",
         "orientation": "v",
         "showlegend": false,
         "type": "scatter",
         "x": [
          17,
          28,
          62,
          44,
          17,
          30,
          30,
          34,
          55,
          50,
          62,
          52,
          34,
          69,
          65,
          61,
          65,
          48,
          60,
          70,
          28,
          63,
          34,
          53,
          42,
          35,
          55,
          55,
          62,
          24,
          29,
          56,
          60,
          67,
          16,
          42,
          33,
          60,
          60,
          54,
          55,
          36,
          65,
          68,
          38,
          38,
          70,
          23,
          34,
          30,
          48,
          36,
          25,
          65,
          39,
          58,
          38,
          70,
          47,
          57,
          30,
          25,
          48,
          35,
          49,
          28,
          42,
          50,
          24,
          31,
          43,
          39,
          34,
          48,
          61,
          18,
          58,
          46,
          18,
          52,
          66,
          43,
          25,
          35,
          29,
          47,
          30,
          19,
          67,
          22,
          56,
          28,
          25,
          47,
          20,
          49,
          38,
          56,
          50,
          65,
          48,
          63,
          23,
          66,
          39,
          44,
          21,
          22,
          44,
          32,
          32,
          60,
          36,
          47,
          28,
          50,
          30,
          46,
          21,
          37,
          21,
          26,
          69,
          52,
          53,
          59,
          24,
          39,
          35,
          57,
          48,
          62,
          48,
          53,
          63,
          28,
          45,
          39,
          52,
          55,
          29,
          26,
          16,
          41,
          55,
          58,
          23,
          24,
          51,
          29,
          66,
          34,
          53,
          22,
          55,
          61,
          57,
          28,
          55,
          20,
          24,
          40,
          43,
          33,
          53,
          18,
          33,
          60,
          20,
          31,
          42,
          66,
          29,
          53,
          62,
          35,
          24,
          32,
          28,
          70,
          62,
          67,
          31,
          16,
          21,
          50,
          53,
          54,
          35,
          60,
          41,
          17,
          50,
          36,
          67,
          67,
          62,
          43,
          50,
          32,
          33,
          38,
          31,
          57,
          35,
          25,
          35,
          56,
          66,
          35,
          20,
          46,
          25,
          23,
          34,
          34,
          32,
          67,
          34,
          29,
          59,
          57,
          41,
          28,
          39,
          46,
          19,
          46,
          60,
          58,
          40,
          26,
          42,
          50,
          63,
          34,
          47,
          39,
          21,
          32,
          41,
          30,
          27,
          60,
          55,
          18,
          54,
          58,
          19,
          50,
          32,
          64,
          66,
          39,
          37,
          62,
          47,
          50,
          52,
          25,
          38,
          20,
          28,
          64,
          20,
          33,
          28,
          45,
          66,
          55,
          41,
          66,
          64,
          22,
          22,
          49,
          67,
          22,
          16,
          31,
          45,
          70,
          33,
          39,
          64,
          41,
          66,
          47,
          25,
          48,
          44,
          41,
          60,
          53,
          70,
          47,
          28,
          18,
          30,
          33,
          17,
          64,
          27,
          28,
          68,
          44,
          70,
          63,
          43,
          54,
          68,
          68,
          47,
          31,
          21,
          39,
          46,
          61,
          52,
          28,
          61,
          33,
          25,
          63,
          29,
          23,
          67,
          51,
          34,
          34,
          28,
          62,
          21,
          57,
          28,
          38,
          70,
          42,
          56,
          33,
          38,
          18,
          50,
          60,
          53,
          19,
          44,
          51,
          33,
          32,
          66,
          60,
          17,
          39,
          27,
          48,
          43,
          54,
          27,
          31,
          44,
          54,
          68,
          39,
          43,
          45,
          38,
          29,
          58,
          49,
          19,
          37,
          24,
          44,
          19,
          33,
          42,
          56,
          36,
          39,
          25,
          39,
          68,
          47,
          48,
          25,
          57,
          59,
          55,
          38,
          62,
          42,
          42,
          35,
          63,
          34,
          53,
          26,
          61,
          54,
          59,
          55,
          58,
          64,
          31,
          34,
          50,
          45,
          19,
          61,
          25,
          70,
          43,
          29,
          43,
          58,
          41,
          64,
          43,
          53,
          35,
          32,
          20,
          20,
          65,
          36,
          36,
          36,
          32,
          36,
          46,
          63,
          45,
          44,
          26,
          35,
          46,
          26,
          29,
          56,
          58,
          53,
          41,
          25,
          31,
          17,
          62,
          64,
          70,
          21,
          66,
          67,
          26,
          41,
          55,
          41,
          58,
          16,
          59,
          50,
          34,
          40,
          45,
          48,
          29,
          28,
          42,
          65,
          47,
          46,
          19,
          26,
          50,
          45,
          26,
          39,
          30,
          38,
          20,
          23,
          63,
          43,
          51,
          61,
          51,
          32,
          37,
          32,
          34,
          31,
          35,
          51,
          34,
          20,
          66,
          36,
          57,
          61
         ],
         "xaxis": "x",
         "y": [
          111,
          135,
          136,
          158,
          227,
          131,
          176,
          223,
          221,
          116,
          222,
          102,
          192,
          152,
          213,
          125,
          204,
          189,
          163,
          189,
          122,
          228,
          168,
          102,
          218,
          123,
          222,
          208,
          183,
          204,
          167,
          188,
          213,
          122,
          225,
          105,
          155,
          203,
          225,
          177,
          139,
          224,
          158,
          218,
          164,
          154,
          118,
          138,
          199,
          219,
          183,
          128,
          197,
          196,
          208,
          152,
          175,
          129,
          185,
          107,
          167,
          185,
          194,
          221,
          166,
          143,
          163,
          158,
          191,
          216,
          106,
          146,
          220,
          131,
          147,
          141,
          130,
          204,
          152,
          111,
          139,
          172,
          168,
          148,
          123,
          189,
          220,
          120,
          106,
          105,
          157,
          149,
          185,
          106,
          115,
          177,
          140,
          216,
          130,
          169,
          110,
          209,
          162,
          214,
          145,
          116,
          209,
          116,
          139,
          168,
          158,
          232,
          136,
          180,
          228,
          222,
          117,
          224,
          104,
          156,
          213,
          133,
          208,
          195,
          163,
          195,
          124,
          231,
          172,
          104,
          221,
          128,
          222,
          214,
          184,
          195,
          132,
          214,
          123,
          233,
          107,
          162,
          204,
          227,
          142,
          225,
          212,
          220,
          155,
          144,
          201,
          222,
          189,
          132,
          204,
          201,
          211,
          156,
          179,
          129,
          185,
          107,
          213,
          172,
          202,
          222,
          168,
          146,
          170,
          165,
          196,
          224,
          108,
          149,
          224,
          136,
          152,
          135,
          211,
          156,
          115,
          143,
          179,
          173,
          148,
          127,
          194,
          225,
          127,
          106,
          112,
          164,
          151,
          191,
          110,
          116,
          235,
          108,
          141,
          219,
          219,
          138,
          116,
          212,
          220,
          151,
          119,
          212,
          111,
          142,
          138,
          158,
          228,
          134,
          181,
          231,
          121,
          222,
          102,
          195,
          156,
          214,
          132,
          204,
          190,
          167,
          195,
          127,
          235,
          110,
          221,
          128,
          226,
          208,
          191,
          205,
          173,
          191,
          220,
          126,
          232,
          108,
          159,
          211,
          232,
          182,
          145,
          224,
          160,
          219,
          170,
          161,
          122,
          141,
          204,
          226,
          187,
          129,
          199,
          199,
          214,
          176,
          129,
          187,
          109,
          212,
          170,
          191,
          116,
          202,
          226,
          166,
          151,
          166,
          193,
          218,
          109,
          152,
          220,
          133,
          152,
          131,
          204,
          153,
          114,
          144,
          172,
          176,
          150,
          129,
          190,
          226,
          128,
          106,
          107,
          159,
          157,
          192,
          110,
          115,
          183,
          233,
          112,
          146,
          222,
          216,
          134,
          174,
          114,
          211,
          167,
          214,
          145,
          120,
          217,
          113,
          141,
          140,
          171,
          163,
          232,
          131,
          184,
          225,
          223,
          121,
          223,
          105,
          160,
          218,
          211,
          194,
          169,
          189,
          128,
          228,
          169,
          108,
          219,
          124,
          224,
          214,
          205,
          167,
          190,
          128,
          217,
          126,
          228,
          105,
          211,
          227,
          178,
          146,
          227,
          208,
          225,
          167,
          162,
          144,
          199,
          226,
          183,
          136,
          199,
          215,
          155,
          179,
          133,
          186,
          219,
          173,
          185,
          118,
          199,
          226,
          169,
          144,
          166,
          166,
          198,
          222,
          110,
          154,
          226,
          135,
          151,
          133,
          205,
          116,
          145,
          174,
          168,
          156,
          124,
          196,
          122,
          106,
          110,
          158,
          154,
          190,
          110,
          120,
          180,
          232,
          142,
          222,
          218,
          138,
          176,
          115,
          211,
          168,
          216,
          147,
          124,
          215,
          117,
          139,
          138,
          171,
          158,
          139,
          178,
          224,
          224,
          116,
          223,
          109,
          193,
          155,
          221,
          130,
          212,
          190,
          169,
          191,
          234,
          175,
          108,
          220,
          126,
          227,
          216,
          188,
          205,
          172,
          192,
          129,
          127,
          228,
          105,
          159,
          205,
          178,
          139,
          232,
          212,
          162,
          226,
          171,
          159,
          120,
          200,
          221,
          184,
          134,
          200,
          201,
          210,
          159,
          178,
          137,
          110,
          170,
          193,
          113,
          196,
          222,
          174,
          143,
          169,
          165,
          194,
          217,
          113,
          150,
          223,
          133,
          149,
          149,
          130,
          207,
          157,
          115,
          147,
          176
         ],
         "yaxis": "y"
        }
       ],
       "layout": {
        "coloraxis": {
         "colorbar": {
          "title": {
           "text": "color"
          }
         },
         "colorscale": [
          [
           0,
           "#0d0887"
          ],
          [
           0.1111111111111111,
           "#46039f"
          ],
          [
           0.2222222222222222,
           "#7201a8"
          ],
          [
           0.3333333333333333,
           "#9c179e"
          ],
          [
           0.4444444444444444,
           "#bd3786"
          ],
          [
           0.5555555555555556,
           "#d8576b"
          ],
          [
           0.6666666666666666,
           "#ed7953"
          ],
          [
           0.7777777777777778,
           "#fb9f3a"
          ],
          [
           0.8888888888888888,
           "#fdca26"
          ],
          [
           1,
           "#f0f921"
          ]
         ]
        },
        "legend": {
         "tracegroupgap": 0
        },
        "margin": {
         "t": 60
        },
        "template": {
         "data": {
          "bar": [
           {
            "error_x": {
             "color": "#2a3f5f"
            },
            "error_y": {
             "color": "#2a3f5f"
            },
            "marker": {
             "line": {
              "color": "#E5ECF6",
              "width": 0.5
             },
             "pattern": {
              "fillmode": "overlay",
              "size": 10,
              "solidity": 0.2
             }
            },
            "type": "bar"
           }
          ],
          "barpolar": [
           {
            "marker": {
             "line": {
              "color": "#E5ECF6",
              "width": 0.5
             },
             "pattern": {
              "fillmode": "overlay",
              "size": 10,
              "solidity": 0.2
             }
            },
            "type": "barpolar"
           }
          ],
          "carpet": [
           {
            "aaxis": {
             "endlinecolor": "#2a3f5f",
             "gridcolor": "white",
             "linecolor": "white",
             "minorgridcolor": "white",
             "startlinecolor": "#2a3f5f"
            },
            "baxis": {
             "endlinecolor": "#2a3f5f",
             "gridcolor": "white",
             "linecolor": "white",
             "minorgridcolor": "white",
             "startlinecolor": "#2a3f5f"
            },
            "type": "carpet"
           }
          ],
          "choropleth": [
           {
            "colorbar": {
             "outlinewidth": 0,
             "ticks": ""
            },
            "type": "choropleth"
           }
          ],
          "contour": [
           {
            "colorbar": {
             "outlinewidth": 0,
             "ticks": ""
            },
            "colorscale": [
             [
              0,
              "#0d0887"
             ],
             [
              0.1111111111111111,
              "#46039f"
             ],
             [
              0.2222222222222222,
              "#7201a8"
             ],
             [
              0.3333333333333333,
              "#9c179e"
             ],
             [
              0.4444444444444444,
              "#bd3786"
             ],
             [
              0.5555555555555556,
              "#d8576b"
             ],
             [
              0.6666666666666666,
              "#ed7953"
             ],
             [
              0.7777777777777778,
              "#fb9f3a"
             ],
             [
              0.8888888888888888,
              "#fdca26"
             ],
             [
              1,
              "#f0f921"
             ]
            ],
            "type": "contour"
           }
          ],
          "contourcarpet": [
           {
            "colorbar": {
             "outlinewidth": 0,
             "ticks": ""
            },
            "type": "contourcarpet"
           }
          ],
          "heatmap": [
           {
            "colorbar": {
             "outlinewidth": 0,
             "ticks": ""
            },
            "colorscale": [
             [
              0,
              "#0d0887"
             ],
             [
              0.1111111111111111,
              "#46039f"
             ],
             [
              0.2222222222222222,
              "#7201a8"
             ],
             [
              0.3333333333333333,
              "#9c179e"
             ],
             [
              0.4444444444444444,
              "#bd3786"
             ],
             [
              0.5555555555555556,
              "#d8576b"
             ],
             [
              0.6666666666666666,
              "#ed7953"
             ],
             [
              0.7777777777777778,
              "#fb9f3a"
             ],
             [
              0.8888888888888888,
              "#fdca26"
             ],
             [
              1,
              "#f0f921"
             ]
            ],
            "type": "heatmap"
           }
          ],
          "heatmapgl": [
           {
            "colorbar": {
             "outlinewidth": 0,
             "ticks": ""
            },
            "colorscale": [
             [
              0,
              "#0d0887"
             ],
             [
              0.1111111111111111,
              "#46039f"
             ],
             [
              0.2222222222222222,
              "#7201a8"
             ],
             [
              0.3333333333333333,
              "#9c179e"
             ],
             [
              0.4444444444444444,
              "#bd3786"
             ],
             [
              0.5555555555555556,
              "#d8576b"
             ],
             [
              0.6666666666666666,
              "#ed7953"
             ],
             [
              0.7777777777777778,
              "#fb9f3a"
             ],
             [
              0.8888888888888888,
              "#fdca26"
             ],
             [
              1,
              "#f0f921"
             ]
            ],
            "type": "heatmapgl"
           }
          ],
          "histogram": [
           {
            "marker": {
             "pattern": {
              "fillmode": "overlay",
              "size": 10,
              "solidity": 0.2
             }
            },
            "type": "histogram"
           }
          ],
          "histogram2d": [
           {
            "colorbar": {
             "outlinewidth": 0,
             "ticks": ""
            },
            "colorscale": [
             [
              0,
              "#0d0887"
             ],
             [
              0.1111111111111111,
              "#46039f"
             ],
             [
              0.2222222222222222,
              "#7201a8"
             ],
             [
              0.3333333333333333,
              "#9c179e"
             ],
             [
              0.4444444444444444,
              "#bd3786"
             ],
             [
              0.5555555555555556,
              "#d8576b"
             ],
             [
              0.6666666666666666,
              "#ed7953"
             ],
             [
              0.7777777777777778,
              "#fb9f3a"
             ],
             [
              0.8888888888888888,
              "#fdca26"
             ],
             [
              1,
              "#f0f921"
             ]
            ],
            "type": "histogram2d"
           }
          ],
          "histogram2dcontour": [
           {
            "colorbar": {
             "outlinewidth": 0,
             "ticks": ""
            },
            "colorscale": [
             [
              0,
              "#0d0887"
             ],
             [
              0.1111111111111111,
              "#46039f"
             ],
             [
              0.2222222222222222,
              "#7201a8"
             ],
             [
              0.3333333333333333,
              "#9c179e"
             ],
             [
              0.4444444444444444,
              "#bd3786"
             ],
             [
              0.5555555555555556,
              "#d8576b"
             ],
             [
              0.6666666666666666,
              "#ed7953"
             ],
             [
              0.7777777777777778,
              "#fb9f3a"
             ],
             [
              0.8888888888888888,
              "#fdca26"
             ],
             [
              1,
              "#f0f921"
             ]
            ],
            "type": "histogram2dcontour"
           }
          ],
          "mesh3d": [
           {
            "colorbar": {
             "outlinewidth": 0,
             "ticks": ""
            },
            "type": "mesh3d"
           }
          ],
          "parcoords": [
           {
            "line": {
             "colorbar": {
              "outlinewidth": 0,
              "ticks": ""
             }
            },
            "type": "parcoords"
           }
          ],
          "pie": [
           {
            "automargin": true,
            "type": "pie"
           }
          ],
          "scatter": [
           {
            "fillpattern": {
             "fillmode": "overlay",
             "size": 10,
             "solidity": 0.2
            },
            "type": "scatter"
           }
          ],
          "scatter3d": [
           {
            "line": {
             "colorbar": {
              "outlinewidth": 0,
              "ticks": ""
             }
            },
            "marker": {
             "colorbar": {
              "outlinewidth": 0,
              "ticks": ""
             }
            },
            "type": "scatter3d"
           }
          ],
          "scattercarpet": [
           {
            "marker": {
             "colorbar": {
              "outlinewidth": 0,
              "ticks": ""
             }
            },
            "type": "scattercarpet"
           }
          ],
          "scattergeo": [
           {
            "marker": {
             "colorbar": {
              "outlinewidth": 0,
              "ticks": ""
             }
            },
            "type": "scattergeo"
           }
          ],
          "scattergl": [
           {
            "marker": {
             "colorbar": {
              "outlinewidth": 0,
              "ticks": ""
             }
            },
            "type": "scattergl"
           }
          ],
          "scattermapbox": [
           {
            "marker": {
             "colorbar": {
              "outlinewidth": 0,
              "ticks": ""
             }
            },
            "type": "scattermapbox"
           }
          ],
          "scatterpolar": [
           {
            "marker": {
             "colorbar": {
              "outlinewidth": 0,
              "ticks": ""
             }
            },
            "type": "scatterpolar"
           }
          ],
          "scatterpolargl": [
           {
            "marker": {
             "colorbar": {
              "outlinewidth": 0,
              "ticks": ""
             }
            },
            "type": "scatterpolargl"
           }
          ],
          "scatterternary": [
           {
            "marker": {
             "colorbar": {
              "outlinewidth": 0,
              "ticks": ""
             }
            },
            "type": "scatterternary"
           }
          ],
          "surface": [
           {
            "colorbar": {
             "outlinewidth": 0,
             "ticks": ""
            },
            "colorscale": [
             [
              0,
              "#0d0887"
             ],
             [
              0.1111111111111111,
              "#46039f"
             ],
             [
              0.2222222222222222,
              "#7201a8"
             ],
             [
              0.3333333333333333,
              "#9c179e"
             ],
             [
              0.4444444444444444,
              "#bd3786"
             ],
             [
              0.5555555555555556,
              "#d8576b"
             ],
             [
              0.6666666666666666,
              "#ed7953"
             ],
             [
              0.7777777777777778,
              "#fb9f3a"
             ],
             [
              0.8888888888888888,
              "#fdca26"
             ],
             [
              1,
              "#f0f921"
             ]
            ],
            "type": "surface"
           }
          ],
          "table": [
           {
            "cells": {
             "fill": {
              "color": "#EBF0F8"
             },
             "line": {
              "color": "white"
             }
            },
            "header": {
             "fill": {
              "color": "#C8D4E3"
             },
             "line": {
              "color": "white"
             }
            },
            "type": "table"
           }
          ]
         },
         "layout": {
          "annotationdefaults": {
           "arrowcolor": "#2a3f5f",
           "arrowhead": 0,
           "arrowwidth": 1
          },
          "autotypenumbers": "strict",
          "coloraxis": {
           "colorbar": {
            "outlinewidth": 0,
            "ticks": ""
           }
          },
          "colorscale": {
           "diverging": [
            [
             0,
             "#8e0152"
            ],
            [
             0.1,
             "#c51b7d"
            ],
            [
             0.2,
             "#de77ae"
            ],
            [
             0.3,
             "#f1b6da"
            ],
            [
             0.4,
             "#fde0ef"
            ],
            [
             0.5,
             "#f7f7f7"
            ],
            [
             0.6,
             "#e6f5d0"
            ],
            [
             0.7,
             "#b8e186"
            ],
            [
             0.8,
             "#7fbc41"
            ],
            [
             0.9,
             "#4d9221"
            ],
            [
             1,
             "#276419"
            ]
           ],
           "sequential": [
            [
             0,
             "#0d0887"
            ],
            [
             0.1111111111111111,
             "#46039f"
            ],
            [
             0.2222222222222222,
             "#7201a8"
            ],
            [
             0.3333333333333333,
             "#9c179e"
            ],
            [
             0.4444444444444444,
             "#bd3786"
            ],
            [
             0.5555555555555556,
             "#d8576b"
            ],
            [
             0.6666666666666666,
             "#ed7953"
            ],
            [
             0.7777777777777778,
             "#fb9f3a"
            ],
            [
             0.8888888888888888,
             "#fdca26"
            ],
            [
             1,
             "#f0f921"
            ]
           ],
           "sequentialminus": [
            [
             0,
             "#0d0887"
            ],
            [
             0.1111111111111111,
             "#46039f"
            ],
            [
             0.2222222222222222,
             "#7201a8"
            ],
            [
             0.3333333333333333,
             "#9c179e"
            ],
            [
             0.4444444444444444,
             "#bd3786"
            ],
            [
             0.5555555555555556,
             "#d8576b"
            ],
            [
             0.6666666666666666,
             "#ed7953"
            ],
            [
             0.7777777777777778,
             "#fb9f3a"
            ],
            [
             0.8888888888888888,
             "#fdca26"
            ],
            [
             1,
             "#f0f921"
            ]
           ]
          },
          "colorway": [
           "#636efa",
           "#EF553B",
           "#00cc96",
           "#ab63fa",
           "#FFA15A",
           "#19d3f3",
           "#FF6692",
           "#B6E880",
           "#FF97FF",
           "#FECB52"
          ],
          "font": {
           "color": "#2a3f5f"
          },
          "geo": {
           "bgcolor": "white",
           "lakecolor": "white",
           "landcolor": "#E5ECF6",
           "showlakes": true,
           "showland": true,
           "subunitcolor": "white"
          },
          "hoverlabel": {
           "align": "left"
          },
          "hovermode": "closest",
          "mapbox": {
           "style": "light"
          },
          "paper_bgcolor": "white",
          "plot_bgcolor": "#E5ECF6",
          "polar": {
           "angularaxis": {
            "gridcolor": "white",
            "linecolor": "white",
            "ticks": ""
           },
           "bgcolor": "#E5ECF6",
           "radialaxis": {
            "gridcolor": "white",
            "linecolor": "white",
            "ticks": ""
           }
          },
          "scene": {
           "xaxis": {
            "backgroundcolor": "#E5ECF6",
            "gridcolor": "white",
            "gridwidth": 2,
            "linecolor": "white",
            "showbackground": true,
            "ticks": "",
            "zerolinecolor": "white"
           },
           "yaxis": {
            "backgroundcolor": "#E5ECF6",
            "gridcolor": "white",
            "gridwidth": 2,
            "linecolor": "white",
            "showbackground": true,
            "ticks": "",
            "zerolinecolor": "white"
           },
           "zaxis": {
            "backgroundcolor": "#E5ECF6",
            "gridcolor": "white",
            "gridwidth": 2,
            "linecolor": "white",
            "showbackground": true,
            "ticks": "",
            "zerolinecolor": "white"
           }
          },
          "shapedefaults": {
           "line": {
            "color": "#2a3f5f"
           }
          },
          "ternary": {
           "aaxis": {
            "gridcolor": "white",
            "linecolor": "white",
            "ticks": ""
           },
           "baxis": {
            "gridcolor": "white",
            "linecolor": "white",
            "ticks": ""
           },
           "bgcolor": "#E5ECF6",
           "caxis": {
            "gridcolor": "white",
            "linecolor": "white",
            "ticks": ""
           }
          },
          "title": {
           "x": 0.05
          },
          "xaxis": {
           "automargin": true,
           "gridcolor": "white",
           "linecolor": "white",
           "ticks": "",
           "title": {
            "standoff": 15
           },
           "zerolinecolor": "white",
           "zerolinewidth": 2
          },
          "yaxis": {
           "automargin": true,
           "gridcolor": "white",
           "linecolor": "white",
           "ticks": "",
           "title": {
            "standoff": 15
           },
           "zerolinecolor": "white",
           "zerolinewidth": 2
          }
         }
        },
        "title": {
         "text": "Analise de clusters"
        },
        "xaxis": {
         "anchor": "y",
         "domain": [
          0,
          1
         ],
         "title": {
          "text": "idade"
         }
        },
        "yaxis": {
         "anchor": "x",
         "domain": [
          0,
          1
         ],
         "title": {
          "text": "colesterol"
         }
        }
       }
      }
     },
     "metadata": {},
     "output_type": "display_data"
    }
   ],
   "source": [
    "plotar_grafico(base_completa['idade'], base_completa['colesterol'], 'idade', 'colesterol')"
   ]
  },
  {
   "cell_type": "markdown",
   "metadata": {},
   "source": [
    "## segmentando os clientes com base nos clusters"
   ]
  },
  {
   "cell_type": "code",
   "execution_count": 386,
   "metadata": {},
   "outputs": [
    {
     "data": {
      "application/vnd.plotly.v1+json": {
       "config": {
        "plotlyServerURL": "https://plot.ly"
       },
       "data": [
        {
         "hovertemplate": "x=%{x}<br>y=%{y}<br>color=%{marker.color}<extra></extra>",
         "legendgroup": "",
         "marker": {
          "color": [
           2,
           2,
           2,
           1,
           0,
           2,
           3,
           0,
           0,
           2,
           0,
           2,
           3,
           1,
           0,
           2,
           0,
           3,
           1,
           3,
           2,
           0,
           1,
           2,
           0,
           2,
           0,
           0,
           3,
           0,
           1,
           3,
           0,
           2,
           0,
           2,
           1,
           3,
           0,
           3,
           1,
           0,
           1,
           0,
           1,
           1,
           2,
           2,
           3,
           0,
           3,
           2,
           3,
           3,
           0,
           1,
           3,
           2,
           3,
           2,
           1,
           3,
           3,
           0,
           1,
           1,
           1,
           1,
           3,
           0,
           2,
           1,
           0,
           2,
           1,
           1,
           2,
           0,
           1,
           2,
           1,
           3,
           1,
           1,
           2,
           3,
           0,
           2,
           2,
           2,
           1,
           1,
           3,
           2,
           2,
           3,
           1,
           0,
           2,
           3,
           2,
           0,
           1,
           0,
           1,
           2,
           0,
           2,
           1,
           3,
           1,
           0,
           2,
           3,
           0,
           0,
           2,
           0,
           2,
           1,
           0,
           2,
           0,
           3,
           1,
           3,
           2,
           0,
           3,
           2,
           0,
           2,
           0,
           0,
           3,
           3,
           2,
           0,
           2,
           0,
           2,
           1,
           0,
           0,
           1,
           0,
           0,
           0,
           1,
           1,
           3,
           0,
           3,
           2,
           0,
           3,
           0,
           1,
           3,
           2,
           3,
           2,
           0,
           3,
           3,
           0,
           1,
           1,
           1,
           1,
           3,
           0,
           2,
           1,
           0,
           2,
           1,
           2,
           0,
           1,
           2,
           1,
           3,
           3,
           1,
           2,
           3,
           0,
           2,
           2,
           2,
           1,
           1,
           3,
           2,
           2,
           0,
           2,
           1,
           0,
           0,
           1,
           2,
           0,
           0,
           1,
           2,
           0,
           2,
           1,
           1,
           1,
           0,
           2,
           3,
           0,
           2,
           0,
           2,
           3,
           1,
           0,
           2,
           0,
           3,
           1,
           3,
           2,
           0,
           2,
           0,
           2,
           0,
           0,
           3,
           0,
           3,
           3,
           0,
           2,
           0,
           2,
           1,
           0,
           0,
           3,
           1,
           0,
           1,
           0,
           1,
           1,
           2,
           1,
           0,
           0,
           3,
           2,
           3,
           3,
           0,
           3,
           2,
           3,
           2,
           0,
           3,
           3,
           2,
           3,
           0,
           1,
           1,
           1,
           3,
           0,
           2,
           1,
           0,
           2,
           1,
           2,
           0,
           1,
           2,
           1,
           3,
           3,
           1,
           2,
           3,
           0,
           2,
           2,
           2,
           1,
           1,
           3,
           2,
           2,
           3,
           0,
           2,
           1,
           0,
           0,
           2,
           3,
           2,
           0,
           1,
           0,
           1,
           2,
           0,
           2,
           1,
           1,
           3,
           1,
           0,
           2,
           3,
           0,
           0,
           2,
           0,
           2,
           1,
           0,
           0,
           3,
           1,
           3,
           2,
           0,
           3,
           2,
           0,
           2,
           0,
           0,
           0,
           1,
           3,
           2,
           0,
           2,
           0,
           2,
           0,
           0,
           3,
           1,
           0,
           0,
           0,
           1,
           1,
           1,
           3,
           0,
           3,
           2,
           3,
           0,
           1,
           3,
           2,
           3,
           0,
           3,
           3,
           2,
           3,
           0,
           1,
           1,
           1,
           1,
           3,
           0,
           2,
           1,
           0,
           2,
           1,
           2,
           0,
           2,
           1,
           3,
           1,
           1,
           2,
           3,
           2,
           2,
           2,
           1,
           1,
           3,
           2,
           2,
           3,
           0,
           1,
           0,
           0,
           1,
           3,
           2,
           0,
           1,
           0,
           1,
           2,
           0,
           2,
           1,
           1,
           3,
           1,
           1,
           3,
           0,
           0,
           2,
           0,
           2,
           3,
           1,
           0,
           2,
           0,
           3,
           1,
           3,
           0,
           3,
           2,
           0,
           2,
           0,
           0,
           3,
           0,
           3,
           3,
           2,
           2,
           0,
           2,
           1,
           0,
           3,
           1,
           0,
           0,
           1,
           0,
           1,
           1,
           2,
           3,
           0,
           3,
           2,
           3,
           3,
           0,
           1,
           3,
           2,
           2,
           3,
           3,
           2,
           3,
           0,
           3,
           1,
           1,
           1,
           3,
           0,
           2,
           1,
           0,
           2,
           1,
           1,
           2,
           0,
           1,
           2,
           1,
           3
          ],
          "coloraxis": "coloraxis",
          "symbol": "circle"
         },
         "mode": "markers",
         "name": "",
         "orientation": "v",
         "showlegend": false,
         "type": "scatter",
         "x": [
          111,
          135,
          136,
          158,
          227,
          131,
          176,
          223,
          221,
          116,
          222,
          102,
          192,
          152,
          213,
          125,
          204,
          189,
          163,
          189,
          122,
          228,
          168,
          102,
          218,
          123,
          222,
          208,
          183,
          204,
          167,
          188,
          213,
          122,
          225,
          105,
          155,
          203,
          225,
          177,
          139,
          224,
          158,
          218,
          164,
          154,
          118,
          138,
          199,
          219,
          183,
          128,
          197,
          196,
          208,
          152,
          175,
          129,
          185,
          107,
          167,
          185,
          194,
          221,
          166,
          143,
          163,
          158,
          191,
          216,
          106,
          146,
          220,
          131,
          147,
          141,
          130,
          204,
          152,
          111,
          139,
          172,
          168,
          148,
          123,
          189,
          220,
          120,
          106,
          105,
          157,
          149,
          185,
          106,
          115,
          177,
          140,
          216,
          130,
          169,
          110,
          209,
          162,
          214,
          145,
          116,
          209,
          116,
          139,
          168,
          158,
          232,
          136,
          180,
          228,
          222,
          117,
          224,
          104,
          156,
          213,
          133,
          208,
          195,
          163,
          195,
          124,
          231,
          172,
          104,
          221,
          128,
          222,
          214,
          184,
          195,
          132,
          214,
          123,
          233,
          107,
          162,
          204,
          227,
          142,
          225,
          212,
          220,
          155,
          144,
          201,
          222,
          189,
          132,
          204,
          201,
          211,
          156,
          179,
          129,
          185,
          107,
          213,
          172,
          202,
          222,
          168,
          146,
          170,
          165,
          196,
          224,
          108,
          149,
          224,
          136,
          152,
          135,
          211,
          156,
          115,
          143,
          179,
          173,
          148,
          127,
          194,
          225,
          127,
          106,
          112,
          164,
          151,
          191,
          110,
          116,
          235,
          108,
          141,
          219,
          219,
          138,
          116,
          212,
          220,
          151,
          119,
          212,
          111,
          142,
          138,
          158,
          228,
          134,
          181,
          231,
          121,
          222,
          102,
          195,
          156,
          214,
          132,
          204,
          190,
          167,
          195,
          127,
          235,
          110,
          221,
          128,
          226,
          208,
          191,
          205,
          173,
          191,
          220,
          126,
          232,
          108,
          159,
          211,
          232,
          182,
          145,
          224,
          160,
          219,
          170,
          161,
          122,
          141,
          204,
          226,
          187,
          129,
          199,
          199,
          214,
          176,
          129,
          187,
          109,
          212,
          170,
          191,
          116,
          202,
          226,
          166,
          151,
          166,
          193,
          218,
          109,
          152,
          220,
          133,
          152,
          131,
          204,
          153,
          114,
          144,
          172,
          176,
          150,
          129,
          190,
          226,
          128,
          106,
          107,
          159,
          157,
          192,
          110,
          115,
          183,
          233,
          112,
          146,
          222,
          216,
          134,
          174,
          114,
          211,
          167,
          214,
          145,
          120,
          217,
          113,
          141,
          140,
          171,
          163,
          232,
          131,
          184,
          225,
          223,
          121,
          223,
          105,
          160,
          218,
          211,
          194,
          169,
          189,
          128,
          228,
          169,
          108,
          219,
          124,
          224,
          214,
          205,
          167,
          190,
          128,
          217,
          126,
          228,
          105,
          211,
          227,
          178,
          146,
          227,
          208,
          225,
          167,
          162,
          144,
          199,
          226,
          183,
          136,
          199,
          215,
          155,
          179,
          133,
          186,
          219,
          173,
          185,
          118,
          199,
          226,
          169,
          144,
          166,
          166,
          198,
          222,
          110,
          154,
          226,
          135,
          151,
          133,
          205,
          116,
          145,
          174,
          168,
          156,
          124,
          196,
          122,
          106,
          110,
          158,
          154,
          190,
          110,
          120,
          180,
          232,
          142,
          222,
          218,
          138,
          176,
          115,
          211,
          168,
          216,
          147,
          124,
          215,
          117,
          139,
          138,
          171,
          158,
          139,
          178,
          224,
          224,
          116,
          223,
          109,
          193,
          155,
          221,
          130,
          212,
          190,
          169,
          191,
          234,
          175,
          108,
          220,
          126,
          227,
          216,
          188,
          205,
          172,
          192,
          129,
          127,
          228,
          105,
          159,
          205,
          178,
          139,
          232,
          212,
          162,
          226,
          171,
          159,
          120,
          200,
          221,
          184,
          134,
          200,
          201,
          210,
          159,
          178,
          137,
          110,
          170,
          193,
          113,
          196,
          222,
          174,
          143,
          169,
          165,
          194,
          217,
          113,
          150,
          223,
          133,
          149,
          149,
          130,
          207,
          157,
          115,
          147,
          176
         ],
         "xaxis": "x",
         "y": [
          102,
          115,
          115,
          130,
          198,
          114,
          145,
          191,
          186,
          104,
          188,
          96,
          156,
          125,
          178,
          109,
          168,
          152,
          133,
          153,
          107,
          199,
          140,
          95,
          183,
          108,
          190,
          174,
          149,
          169,
          138,
          151,
          178,
          106,
          195,
          96,
          129,
          166,
          197,
          148,
          117,
          193,
          130,
          183,
          134,
          128,
          105,
          115,
          166,
          183,
          149,
          110,
          164,
          157,
          170,
          124,
          145,
          113,
          150,
          100,
          139,
          150,
          157,
          187,
          137,
          121,
          132,
          130,
          156,
          180,
          100,
          122,
          185,
          113,
          123,
          119,
          113,
          168,
          126,
          102,
          116,
          144,
          140,
          124,
          108,
          154,
          185,
          106,
          97,
          96,
          129,
          124,
          149,
          97,
          102,
          146,
          118,
          179,
          113,
          142,
          101,
          174,
          131,
          179,
          122,
          105,
          176,
          103,
          120,
          143,
          134,
          203,
          116,
          150,
          192,
          187,
          107,
          192,
          97,
          128,
          183,
          112,
          173,
          156,
          137,
          156,
          112,
          203,
          141,
          97,
          186,
          113,
          195,
          175,
          154,
          152,
          114,
          181,
          111,
          200,
          100,
          134,
          167,
          198,
          121,
          196,
          171,
          186,
          133,
          120,
          168,
          184,
          154,
          115,
          168,
          161,
          171,
          129,
          150,
          118,
          154,
          103,
          180,
          141,
          159,
          191,
          142,
          123,
          135,
          132,
          158,
          181,
          105,
          126,
          186,
          116,
          124,
          115,
          173,
          128,
          103,
          120,
          146,
          145,
          125,
          109,
          156,
          187,
          110,
          100,
          97,
          133,
          128,
          154,
          100,
          104,
          203,
          104,
          119,
          181,
          180,
          116,
          102,
          176,
          184,
          124,
          110,
          180,
          103,
          117,
          120,
          133,
          201,
          117,
          146,
          195,
          108,
          191,
          100,
          158,
          127,
          181,
          113,
          171,
          153,
          137,
          154,
          112,
          201,
          100,
          185,
          111,
          191,
          176,
          150,
          171,
          140,
          153,
          180,
          107,
          197,
          101,
          132,
          168,
          200,
          150,
          119,
          197,
          134,
          185,
          135,
          132,
          109,
          116,
          170,
          187,
          154,
          111,
          169,
          161,
          174,
          148,
          117,
          154,
          104,
          183,
          142,
          155,
          105,
          160,
          191,
          140,
          123,
          132,
          158,
          182,
          104,
          126,
          188,
          118,
          127,
          118,
          169,
          128,
          106,
          119,
          147,
          141,
          125,
          109,
          158,
          190,
          110,
          99,
          98,
          134,
          129,
          154,
          100,
          107,
          149,
          203,
          101,
          119,
          182,
          181,
          115,
          145,
          102,
          176,
          134,
          183,
          123,
          108,
          177,
          104,
          117,
          117,
          145,
          134,
          199,
          115,
          149,
          192,
          188,
          107,
          190,
          98,
          128,
          180,
          172,
          157,
          137,
          158,
          110,
          203,
          145,
          96,
          186,
          110,
          194,
          177,
          172,
          140,
          154,
          113,
          179,
          111,
          196,
          101,
          171,
          199,
          151,
          121,
          196,
          174,
          184,
          137,
          129,
          116,
          168,
          184,
          151,
          114,
          167,
          175,
          127,
          146,
          118,
          151,
          180,
          140,
          155,
          106,
          160,
          192,
          138,
          122,
          135,
          132,
          158,
          184,
          101,
          126,
          188,
          118,
          127,
          117,
          172,
          104,
          121,
          148,
          141,
          128,
          113,
          155,
          108,
          98,
          100,
          134,
          125,
          151,
          100,
          107,
          147,
          200,
          120,
          181,
          182,
          117,
          145,
          106,
          179,
          134,
          180,
          126,
          110,
          180,
          103,
          116,
          119,
          144,
          133,
          115,
          150,
          192,
          188,
          109,
          189,
          101,
          159,
          128,
          182,
          111,
          171,
          154,
          134,
          157,
          203,
          142,
          97,
          187,
          111,
          194,
          176,
          153,
          171,
          142,
          153,
          113,
          108,
          200,
          99,
          131,
          171,
          152,
          119,
          196,
          173,
          132,
          185,
          138,
          132,
          110,
          167,
          188,
          151,
          112,
          166,
          158,
          172,
          127,
          150,
          115,
          103,
          141,
          152,
          105,
          162,
          190,
          141,
          122,
          136,
          131,
          157,
          181,
          103,
          127,
          189,
          114,
          125,
          123,
          116,
          172,
          129,
          107,
          117,
          148
         ],
         "yaxis": "y"
        }
       ],
       "layout": {
        "coloraxis": {
         "colorbar": {
          "title": {
           "text": "color"
          }
         },
         "colorscale": [
          [
           0,
           "#0d0887"
          ],
          [
           0.1111111111111111,
           "#46039f"
          ],
          [
           0.2222222222222222,
           "#7201a8"
          ],
          [
           0.3333333333333333,
           "#9c179e"
          ],
          [
           0.4444444444444444,
           "#bd3786"
          ],
          [
           0.5555555555555556,
           "#d8576b"
          ],
          [
           0.6666666666666666,
           "#ed7953"
          ],
          [
           0.7777777777777778,
           "#fb9f3a"
          ],
          [
           0.8888888888888888,
           "#fdca26"
          ],
          [
           1,
           "#f0f921"
          ]
         ]
        },
        "legend": {
         "tracegroupgap": 0
        },
        "margin": {
         "t": 60
        },
        "template": {
         "data": {
          "bar": [
           {
            "error_x": {
             "color": "#2a3f5f"
            },
            "error_y": {
             "color": "#2a3f5f"
            },
            "marker": {
             "line": {
              "color": "#E5ECF6",
              "width": 0.5
             },
             "pattern": {
              "fillmode": "overlay",
              "size": 10,
              "solidity": 0.2
             }
            },
            "type": "bar"
           }
          ],
          "barpolar": [
           {
            "marker": {
             "line": {
              "color": "#E5ECF6",
              "width": 0.5
             },
             "pattern": {
              "fillmode": "overlay",
              "size": 10,
              "solidity": 0.2
             }
            },
            "type": "barpolar"
           }
          ],
          "carpet": [
           {
            "aaxis": {
             "endlinecolor": "#2a3f5f",
             "gridcolor": "white",
             "linecolor": "white",
             "minorgridcolor": "white",
             "startlinecolor": "#2a3f5f"
            },
            "baxis": {
             "endlinecolor": "#2a3f5f",
             "gridcolor": "white",
             "linecolor": "white",
             "minorgridcolor": "white",
             "startlinecolor": "#2a3f5f"
            },
            "type": "carpet"
           }
          ],
          "choropleth": [
           {
            "colorbar": {
             "outlinewidth": 0,
             "ticks": ""
            },
            "type": "choropleth"
           }
          ],
          "contour": [
           {
            "colorbar": {
             "outlinewidth": 0,
             "ticks": ""
            },
            "colorscale": [
             [
              0,
              "#0d0887"
             ],
             [
              0.1111111111111111,
              "#46039f"
             ],
             [
              0.2222222222222222,
              "#7201a8"
             ],
             [
              0.3333333333333333,
              "#9c179e"
             ],
             [
              0.4444444444444444,
              "#bd3786"
             ],
             [
              0.5555555555555556,
              "#d8576b"
             ],
             [
              0.6666666666666666,
              "#ed7953"
             ],
             [
              0.7777777777777778,
              "#fb9f3a"
             ],
             [
              0.8888888888888888,
              "#fdca26"
             ],
             [
              1,
              "#f0f921"
             ]
            ],
            "type": "contour"
           }
          ],
          "contourcarpet": [
           {
            "colorbar": {
             "outlinewidth": 0,
             "ticks": ""
            },
            "type": "contourcarpet"
           }
          ],
          "heatmap": [
           {
            "colorbar": {
             "outlinewidth": 0,
             "ticks": ""
            },
            "colorscale": [
             [
              0,
              "#0d0887"
             ],
             [
              0.1111111111111111,
              "#46039f"
             ],
             [
              0.2222222222222222,
              "#7201a8"
             ],
             [
              0.3333333333333333,
              "#9c179e"
             ],
             [
              0.4444444444444444,
              "#bd3786"
             ],
             [
              0.5555555555555556,
              "#d8576b"
             ],
             [
              0.6666666666666666,
              "#ed7953"
             ],
             [
              0.7777777777777778,
              "#fb9f3a"
             ],
             [
              0.8888888888888888,
              "#fdca26"
             ],
             [
              1,
              "#f0f921"
             ]
            ],
            "type": "heatmap"
           }
          ],
          "heatmapgl": [
           {
            "colorbar": {
             "outlinewidth": 0,
             "ticks": ""
            },
            "colorscale": [
             [
              0,
              "#0d0887"
             ],
             [
              0.1111111111111111,
              "#46039f"
             ],
             [
              0.2222222222222222,
              "#7201a8"
             ],
             [
              0.3333333333333333,
              "#9c179e"
             ],
             [
              0.4444444444444444,
              "#bd3786"
             ],
             [
              0.5555555555555556,
              "#d8576b"
             ],
             [
              0.6666666666666666,
              "#ed7953"
             ],
             [
              0.7777777777777778,
              "#fb9f3a"
             ],
             [
              0.8888888888888888,
              "#fdca26"
             ],
             [
              1,
              "#f0f921"
             ]
            ],
            "type": "heatmapgl"
           }
          ],
          "histogram": [
           {
            "marker": {
             "pattern": {
              "fillmode": "overlay",
              "size": 10,
              "solidity": 0.2
             }
            },
            "type": "histogram"
           }
          ],
          "histogram2d": [
           {
            "colorbar": {
             "outlinewidth": 0,
             "ticks": ""
            },
            "colorscale": [
             [
              0,
              "#0d0887"
             ],
             [
              0.1111111111111111,
              "#46039f"
             ],
             [
              0.2222222222222222,
              "#7201a8"
             ],
             [
              0.3333333333333333,
              "#9c179e"
             ],
             [
              0.4444444444444444,
              "#bd3786"
             ],
             [
              0.5555555555555556,
              "#d8576b"
             ],
             [
              0.6666666666666666,
              "#ed7953"
             ],
             [
              0.7777777777777778,
              "#fb9f3a"
             ],
             [
              0.8888888888888888,
              "#fdca26"
             ],
             [
              1,
              "#f0f921"
             ]
            ],
            "type": "histogram2d"
           }
          ],
          "histogram2dcontour": [
           {
            "colorbar": {
             "outlinewidth": 0,
             "ticks": ""
            },
            "colorscale": [
             [
              0,
              "#0d0887"
             ],
             [
              0.1111111111111111,
              "#46039f"
             ],
             [
              0.2222222222222222,
              "#7201a8"
             ],
             [
              0.3333333333333333,
              "#9c179e"
             ],
             [
              0.4444444444444444,
              "#bd3786"
             ],
             [
              0.5555555555555556,
              "#d8576b"
             ],
             [
              0.6666666666666666,
              "#ed7953"
             ],
             [
              0.7777777777777778,
              "#fb9f3a"
             ],
             [
              0.8888888888888888,
              "#fdca26"
             ],
             [
              1,
              "#f0f921"
             ]
            ],
            "type": "histogram2dcontour"
           }
          ],
          "mesh3d": [
           {
            "colorbar": {
             "outlinewidth": 0,
             "ticks": ""
            },
            "type": "mesh3d"
           }
          ],
          "parcoords": [
           {
            "line": {
             "colorbar": {
              "outlinewidth": 0,
              "ticks": ""
             }
            },
            "type": "parcoords"
           }
          ],
          "pie": [
           {
            "automargin": true,
            "type": "pie"
           }
          ],
          "scatter": [
           {
            "fillpattern": {
             "fillmode": "overlay",
             "size": 10,
             "solidity": 0.2
            },
            "type": "scatter"
           }
          ],
          "scatter3d": [
           {
            "line": {
             "colorbar": {
              "outlinewidth": 0,
              "ticks": ""
             }
            },
            "marker": {
             "colorbar": {
              "outlinewidth": 0,
              "ticks": ""
             }
            },
            "type": "scatter3d"
           }
          ],
          "scattercarpet": [
           {
            "marker": {
             "colorbar": {
              "outlinewidth": 0,
              "ticks": ""
             }
            },
            "type": "scattercarpet"
           }
          ],
          "scattergeo": [
           {
            "marker": {
             "colorbar": {
              "outlinewidth": 0,
              "ticks": ""
             }
            },
            "type": "scattergeo"
           }
          ],
          "scattergl": [
           {
            "marker": {
             "colorbar": {
              "outlinewidth": 0,
              "ticks": ""
             }
            },
            "type": "scattergl"
           }
          ],
          "scattermapbox": [
           {
            "marker": {
             "colorbar": {
              "outlinewidth": 0,
              "ticks": ""
             }
            },
            "type": "scattermapbox"
           }
          ],
          "scatterpolar": [
           {
            "marker": {
             "colorbar": {
              "outlinewidth": 0,
              "ticks": ""
             }
            },
            "type": "scatterpolar"
           }
          ],
          "scatterpolargl": [
           {
            "marker": {
             "colorbar": {
              "outlinewidth": 0,
              "ticks": ""
             }
            },
            "type": "scatterpolargl"
           }
          ],
          "scatterternary": [
           {
            "marker": {
             "colorbar": {
              "outlinewidth": 0,
              "ticks": ""
             }
            },
            "type": "scatterternary"
           }
          ],
          "surface": [
           {
            "colorbar": {
             "outlinewidth": 0,
             "ticks": ""
            },
            "colorscale": [
             [
              0,
              "#0d0887"
             ],
             [
              0.1111111111111111,
              "#46039f"
             ],
             [
              0.2222222222222222,
              "#7201a8"
             ],
             [
              0.3333333333333333,
              "#9c179e"
             ],
             [
              0.4444444444444444,
              "#bd3786"
             ],
             [
              0.5555555555555556,
              "#d8576b"
             ],
             [
              0.6666666666666666,
              "#ed7953"
             ],
             [
              0.7777777777777778,
              "#fb9f3a"
             ],
             [
              0.8888888888888888,
              "#fdca26"
             ],
             [
              1,
              "#f0f921"
             ]
            ],
            "type": "surface"
           }
          ],
          "table": [
           {
            "cells": {
             "fill": {
              "color": "#EBF0F8"
             },
             "line": {
              "color": "white"
             }
            },
            "header": {
             "fill": {
              "color": "#C8D4E3"
             },
             "line": {
              "color": "white"
             }
            },
            "type": "table"
           }
          ]
         },
         "layout": {
          "annotationdefaults": {
           "arrowcolor": "#2a3f5f",
           "arrowhead": 0,
           "arrowwidth": 1
          },
          "autotypenumbers": "strict",
          "coloraxis": {
           "colorbar": {
            "outlinewidth": 0,
            "ticks": ""
           }
          },
          "colorscale": {
           "diverging": [
            [
             0,
             "#8e0152"
            ],
            [
             0.1,
             "#c51b7d"
            ],
            [
             0.2,
             "#de77ae"
            ],
            [
             0.3,
             "#f1b6da"
            ],
            [
             0.4,
             "#fde0ef"
            ],
            [
             0.5,
             "#f7f7f7"
            ],
            [
             0.6,
             "#e6f5d0"
            ],
            [
             0.7,
             "#b8e186"
            ],
            [
             0.8,
             "#7fbc41"
            ],
            [
             0.9,
             "#4d9221"
            ],
            [
             1,
             "#276419"
            ]
           ],
           "sequential": [
            [
             0,
             "#0d0887"
            ],
            [
             0.1111111111111111,
             "#46039f"
            ],
            [
             0.2222222222222222,
             "#7201a8"
            ],
            [
             0.3333333333333333,
             "#9c179e"
            ],
            [
             0.4444444444444444,
             "#bd3786"
            ],
            [
             0.5555555555555556,
             "#d8576b"
            ],
            [
             0.6666666666666666,
             "#ed7953"
            ],
            [
             0.7777777777777778,
             "#fb9f3a"
            ],
            [
             0.8888888888888888,
             "#fdca26"
            ],
            [
             1,
             "#f0f921"
            ]
           ],
           "sequentialminus": [
            [
             0,
             "#0d0887"
            ],
            [
             0.1111111111111111,
             "#46039f"
            ],
            [
             0.2222222222222222,
             "#7201a8"
            ],
            [
             0.3333333333333333,
             "#9c179e"
            ],
            [
             0.4444444444444444,
             "#bd3786"
            ],
            [
             0.5555555555555556,
             "#d8576b"
            ],
            [
             0.6666666666666666,
             "#ed7953"
            ],
            [
             0.7777777777777778,
             "#fb9f3a"
            ],
            [
             0.8888888888888888,
             "#fdca26"
            ],
            [
             1,
             "#f0f921"
            ]
           ]
          },
          "colorway": [
           "#636efa",
           "#EF553B",
           "#00cc96",
           "#ab63fa",
           "#FFA15A",
           "#19d3f3",
           "#FF6692",
           "#B6E880",
           "#FF97FF",
           "#FECB52"
          ],
          "font": {
           "color": "#2a3f5f"
          },
          "geo": {
           "bgcolor": "white",
           "lakecolor": "white",
           "landcolor": "#E5ECF6",
           "showlakes": true,
           "showland": true,
           "subunitcolor": "white"
          },
          "hoverlabel": {
           "align": "left"
          },
          "hovermode": "closest",
          "mapbox": {
           "style": "light"
          },
          "paper_bgcolor": "white",
          "plot_bgcolor": "#E5ECF6",
          "polar": {
           "angularaxis": {
            "gridcolor": "white",
            "linecolor": "white",
            "ticks": ""
           },
           "bgcolor": "#E5ECF6",
           "radialaxis": {
            "gridcolor": "white",
            "linecolor": "white",
            "ticks": ""
           }
          },
          "scene": {
           "xaxis": {
            "backgroundcolor": "#E5ECF6",
            "gridcolor": "white",
            "gridwidth": 2,
            "linecolor": "white",
            "showbackground": true,
            "ticks": "",
            "zerolinecolor": "white"
           },
           "yaxis": {
            "backgroundcolor": "#E5ECF6",
            "gridcolor": "white",
            "gridwidth": 2,
            "linecolor": "white",
            "showbackground": true,
            "ticks": "",
            "zerolinecolor": "white"
           },
           "zaxis": {
            "backgroundcolor": "#E5ECF6",
            "gridcolor": "white",
            "gridwidth": 2,
            "linecolor": "white",
            "showbackground": true,
            "ticks": "",
            "zerolinecolor": "white"
           }
          },
          "shapedefaults": {
           "line": {
            "color": "#2a3f5f"
           }
          },
          "ternary": {
           "aaxis": {
            "gridcolor": "white",
            "linecolor": "white",
            "ticks": ""
           },
           "baxis": {
            "gridcolor": "white",
            "linecolor": "white",
            "ticks": ""
           },
           "bgcolor": "#E5ECF6",
           "caxis": {
            "gridcolor": "white",
            "linecolor": "white",
            "ticks": ""
           }
          },
          "title": {
           "x": 0.05
          },
          "xaxis": {
           "automargin": true,
           "gridcolor": "white",
           "linecolor": "white",
           "ticks": "",
           "title": {
            "standoff": 15
           },
           "zerolinecolor": "white",
           "zerolinewidth": 2
          },
          "yaxis": {
           "automargin": true,
           "gridcolor": "white",
           "linecolor": "white",
           "ticks": "",
           "title": {
            "standoff": 15
           },
           "zerolinecolor": "white",
           "zerolinewidth": 2
          }
         }
        },
        "title": {
         "text": "Analise de clusters"
        },
        "xaxis": {
         "anchor": "y",
         "domain": [
          0,
          1
         ],
         "title": {
          "text": "colesterol"
         }
        },
        "yaxis": {
         "anchor": "x",
         "domain": [
          0,
          1
         ],
         "title": {
          "text": "peso"
         }
        }
       }
      }
     },
     "metadata": {},
     "output_type": "display_data"
    }
   ],
   "source": [
    "# Alto risco: peso e colesterol altos\n",
    "# baixo risco: baixo peso e colesterol baixo\n",
    "# Risco moderado: peso e colesterol medianos\n",
    "\n",
    "x = 'colesterol'\n",
    "y = 'peso'\n",
    "\n",
    "plotar_grafico(base_completa[x], base_completa[y], x, y)"
   ]
  },
  {
   "cell_type": "code",
   "execution_count": 387,
   "metadata": {},
   "outputs": [],
   "source": [
    "cluster_clientes = base_completa"
   ]
  },
  {
   "cell_type": "code",
   "execution_count": 395,
   "metadata": {},
   "outputs": [],
   "source": [
    "#segmentando clientes com base nos clusters\n",
    "cluster_clientes.loc[cluster_clientes['cluster']==2, 'nome_cluster'] = 'Baixo Risco'\n",
    "cluster_clientes.loc[cluster_clientes['cluster']==1, 'nome_cluster'] = 'Risco Moderado Baixo'\n",
    "cluster_clientes.loc[cluster_clientes['cluster']==3, 'nome_cluster'] = 'Risco Moderado Alto'\n",
    "cluster_clientes.loc[cluster_clientes['cluster']==0, 'nome_cluster'] = 'Alto Risco'\n"
   ]
  },
  {
   "cell_type": "code",
   "execution_count": 396,
   "metadata": {},
   "outputs": [
    {
     "data": {
      "text/html": [
       "<div>\n",
       "<style scoped>\n",
       "    .dataframe tbody tr th:only-of-type {\n",
       "        vertical-align: middle;\n",
       "    }\n",
       "\n",
       "    .dataframe tbody tr th {\n",
       "        vertical-align: top;\n",
       "    }\n",
       "\n",
       "    .dataframe thead th {\n",
       "        text-align: right;\n",
       "    }\n",
       "</style>\n",
       "<table border=\"1\" class=\"dataframe\">\n",
       "  <thead>\n",
       "    <tr style=\"text-align: right;\">\n",
       "      <th></th>\n",
       "      <th>cod_cliente</th>\n",
       "      <th>genero</th>\n",
       "      <th>idade</th>\n",
       "      <th>peso</th>\n",
       "      <th>colesterol</th>\n",
       "      <th>id_estado</th>\n",
       "      <th>estado</th>\n",
       "      <th>sigla_estado</th>\n",
       "      <th>pais</th>\n",
       "      <th>cluster</th>\n",
       "      <th>nome_cluster</th>\n",
       "    </tr>\n",
       "  </thead>\n",
       "  <tbody>\n",
       "    <tr>\n",
       "      <th>0</th>\n",
       "      <td>1</td>\n",
       "      <td>Masculino</td>\n",
       "      <td>17</td>\n",
       "      <td>102.0</td>\n",
       "      <td>111</td>\n",
       "      <td>23</td>\n",
       "      <td>Roraima</td>\n",
       "      <td>RR</td>\n",
       "      <td>Brasil</td>\n",
       "      <td>2</td>\n",
       "      <td>Baixo Risco</td>\n",
       "    </tr>\n",
       "    <tr>\n",
       "      <th>1</th>\n",
       "      <td>2</td>\n",
       "      <td>Masculino</td>\n",
       "      <td>28</td>\n",
       "      <td>115.0</td>\n",
       "      <td>135</td>\n",
       "      <td>7</td>\n",
       "      <td>Distrito Federal</td>\n",
       "      <td>DF</td>\n",
       "      <td>Brasil</td>\n",
       "      <td>2</td>\n",
       "      <td>Baixo Risco</td>\n",
       "    </tr>\n",
       "    <tr>\n",
       "      <th>2</th>\n",
       "      <td>3</td>\n",
       "      <td>Masculino</td>\n",
       "      <td>62</td>\n",
       "      <td>115.0</td>\n",
       "      <td>136</td>\n",
       "      <td>4</td>\n",
       "      <td>Amazonas</td>\n",
       "      <td>AM</td>\n",
       "      <td>Brasil</td>\n",
       "      <td>2</td>\n",
       "      <td>Baixo Risco</td>\n",
       "    </tr>\n",
       "    <tr>\n",
       "      <th>3</th>\n",
       "      <td>5</td>\n",
       "      <td>Masculino</td>\n",
       "      <td>44</td>\n",
       "      <td>130.0</td>\n",
       "      <td>158</td>\n",
       "      <td>26</td>\n",
       "      <td>Sergipe</td>\n",
       "      <td>SE</td>\n",
       "      <td>Brasil</td>\n",
       "      <td>1</td>\n",
       "      <td>Risco Moderado Baixo</td>\n",
       "    </tr>\n",
       "    <tr>\n",
       "      <th>4</th>\n",
       "      <td>6</td>\n",
       "      <td>Masculino</td>\n",
       "      <td>17</td>\n",
       "      <td>198.0</td>\n",
       "      <td>227</td>\n",
       "      <td>8</td>\n",
       "      <td>Espírito Santo</td>\n",
       "      <td>ES</td>\n",
       "      <td>Brasil</td>\n",
       "      <td>0</td>\n",
       "      <td>Alto Risco</td>\n",
       "    </tr>\n",
       "    <tr>\n",
       "      <th>...</th>\n",
       "      <td>...</td>\n",
       "      <td>...</td>\n",
       "      <td>...</td>\n",
       "      <td>...</td>\n",
       "      <td>...</td>\n",
       "      <td>...</td>\n",
       "      <td>...</td>\n",
       "      <td>...</td>\n",
       "      <td>...</td>\n",
       "      <td>...</td>\n",
       "      <td>...</td>\n",
       "    </tr>\n",
       "    <tr>\n",
       "      <th>493</th>\n",
       "      <td>543</td>\n",
       "      <td>Masculino</td>\n",
       "      <td>20</td>\n",
       "      <td>172.0</td>\n",
       "      <td>207</td>\n",
       "      <td>22</td>\n",
       "      <td>Rondônia</td>\n",
       "      <td>RO</td>\n",
       "      <td>Brasil</td>\n",
       "      <td>0</td>\n",
       "      <td>Alto Risco</td>\n",
       "    </tr>\n",
       "    <tr>\n",
       "      <th>494</th>\n",
       "      <td>544</td>\n",
       "      <td>Masculino</td>\n",
       "      <td>66</td>\n",
       "      <td>129.0</td>\n",
       "      <td>157</td>\n",
       "      <td>1</td>\n",
       "      <td>Acre</td>\n",
       "      <td>AC</td>\n",
       "      <td>Brasil</td>\n",
       "      <td>1</td>\n",
       "      <td>Risco Moderado Baixo</td>\n",
       "    </tr>\n",
       "    <tr>\n",
       "      <th>495</th>\n",
       "      <td>545</td>\n",
       "      <td>Masculino</td>\n",
       "      <td>36</td>\n",
       "      <td>107.0</td>\n",
       "      <td>115</td>\n",
       "      <td>6</td>\n",
       "      <td>Ceará</td>\n",
       "      <td>CE</td>\n",
       "      <td>Brasil</td>\n",
       "      <td>2</td>\n",
       "      <td>Baixo Risco</td>\n",
       "    </tr>\n",
       "    <tr>\n",
       "      <th>496</th>\n",
       "      <td>546</td>\n",
       "      <td>Masculino</td>\n",
       "      <td>57</td>\n",
       "      <td>117.0</td>\n",
       "      <td>147</td>\n",
       "      <td>20</td>\n",
       "      <td>Rio Grande do Norte</td>\n",
       "      <td>RN</td>\n",
       "      <td>Brasil</td>\n",
       "      <td>1</td>\n",
       "      <td>Risco Moderado Baixo</td>\n",
       "    </tr>\n",
       "    <tr>\n",
       "      <th>497</th>\n",
       "      <td>547</td>\n",
       "      <td>Masculino</td>\n",
       "      <td>61</td>\n",
       "      <td>148.0</td>\n",
       "      <td>176</td>\n",
       "      <td>8</td>\n",
       "      <td>Espírito Santo</td>\n",
       "      <td>ES</td>\n",
       "      <td>Brasil</td>\n",
       "      <td>3</td>\n",
       "      <td>Risco Moderado Alto</td>\n",
       "    </tr>\n",
       "  </tbody>\n",
       "</table>\n",
       "<p>498 rows × 11 columns</p>\n",
       "</div>"
      ],
      "text/plain": [
       "     cod_cliente     genero  idade   peso  colesterol  id_estado  \\\n",
       "0              1  Masculino     17  102.0         111         23   \n",
       "1              2  Masculino     28  115.0         135          7   \n",
       "2              3  Masculino     62  115.0         136          4   \n",
       "3              5  Masculino     44  130.0         158         26   \n",
       "4              6  Masculino     17  198.0         227          8   \n",
       "..           ...        ...    ...    ...         ...        ...   \n",
       "493          543  Masculino     20  172.0         207         22   \n",
       "494          544  Masculino     66  129.0         157          1   \n",
       "495          545  Masculino     36  107.0         115          6   \n",
       "496          546  Masculino     57  117.0         147         20   \n",
       "497          547  Masculino     61  148.0         176          8   \n",
       "\n",
       "                  estado sigla_estado    pais  cluster          nome_cluster  \n",
       "0                Roraima           RR  Brasil        2           Baixo Risco  \n",
       "1       Distrito Federal           DF  Brasil        2           Baixo Risco  \n",
       "2               Amazonas           AM  Brasil        2           Baixo Risco  \n",
       "3                Sergipe           SE  Brasil        1  Risco Moderado Baixo  \n",
       "4         Espírito Santo           ES  Brasil        0            Alto Risco  \n",
       "..                   ...          ...     ...      ...                   ...  \n",
       "493             Rondônia           RO  Brasil        0            Alto Risco  \n",
       "494                 Acre           AC  Brasil        1  Risco Moderado Baixo  \n",
       "495                Ceará           CE  Brasil        2           Baixo Risco  \n",
       "496  Rio Grande do Norte           RN  Brasil        1  Risco Moderado Baixo  \n",
       "497       Espírito Santo           ES  Brasil        3   Risco Moderado Alto  \n",
       "\n",
       "[498 rows x 11 columns]"
      ]
     },
     "execution_count": 396,
     "metadata": {},
     "output_type": "execute_result"
    }
   ],
   "source": [
    "cluster_clientes"
   ]
  },
  {
   "cell_type": "markdown",
   "metadata": {},
   "source": [
    "## Analise dos clusters criados"
   ]
  },
  {
   "cell_type": "code",
   "execution_count": 400,
   "metadata": {},
   "outputs": [
    {
     "data": {
      "text/html": [
       "<div>\n",
       "<style scoped>\n",
       "    .dataframe tbody tr th:only-of-type {\n",
       "        vertical-align: middle;\n",
       "    }\n",
       "\n",
       "    .dataframe tbody tr th {\n",
       "        vertical-align: top;\n",
       "    }\n",
       "\n",
       "    .dataframe thead th {\n",
       "        text-align: right;\n",
       "    }\n",
       "</style>\n",
       "<table border=\"1\" class=\"dataframe\">\n",
       "  <thead>\n",
       "    <tr style=\"text-align: right;\">\n",
       "      <th></th>\n",
       "      <th>count</th>\n",
       "      <th>mean</th>\n",
       "      <th>std</th>\n",
       "      <th>min</th>\n",
       "      <th>25%</th>\n",
       "      <th>50%</th>\n",
       "      <th>75%</th>\n",
       "      <th>max</th>\n",
       "    </tr>\n",
       "    <tr>\n",
       "      <th>nome_cluster</th>\n",
       "      <th></th>\n",
       "      <th></th>\n",
       "      <th></th>\n",
       "      <th></th>\n",
       "      <th></th>\n",
       "      <th></th>\n",
       "      <th></th>\n",
       "      <th></th>\n",
       "    </tr>\n",
       "  </thead>\n",
       "  <tbody>\n",
       "    <tr>\n",
       "      <th>Alto Risco</th>\n",
       "      <td>142.0</td>\n",
       "      <td>184.323944</td>\n",
       "      <td>9.764278</td>\n",
       "      <td>167.0</td>\n",
       "      <td>176.25</td>\n",
       "      <td>184.0</td>\n",
       "      <td>191.0</td>\n",
       "      <td>203.0</td>\n",
       "    </tr>\n",
       "    <tr>\n",
       "      <th>Baixo Risco</th>\n",
       "      <td>129.0</td>\n",
       "      <td>106.906977</td>\n",
       "      <td>6.313975</td>\n",
       "      <td>95.0</td>\n",
       "      <td>102.00</td>\n",
       "      <td>107.0</td>\n",
       "      <td>112.0</td>\n",
       "      <td>118.0</td>\n",
       "    </tr>\n",
       "    <tr>\n",
       "      <th>Risco Moderado Alto</th>\n",
       "      <td>106.0</td>\n",
       "      <td>152.320755</td>\n",
       "      <td>7.023155</td>\n",
       "      <td>140.0</td>\n",
       "      <td>147.25</td>\n",
       "      <td>152.0</td>\n",
       "      <td>157.0</td>\n",
       "      <td>169.0</td>\n",
       "    </tr>\n",
       "    <tr>\n",
       "      <th>Risco Moderado Baixo</th>\n",
       "      <td>121.0</td>\n",
       "      <td>127.570248</td>\n",
       "      <td>6.971163</td>\n",
       "      <td>115.0</td>\n",
       "      <td>122.00</td>\n",
       "      <td>128.0</td>\n",
       "      <td>133.0</td>\n",
       "      <td>142.0</td>\n",
       "    </tr>\n",
       "  </tbody>\n",
       "</table>\n",
       "</div>"
      ],
      "text/plain": [
       "                      count        mean       std    min     25%    50%  \\\n",
       "nome_cluster                                                              \n",
       "Alto Risco            142.0  184.323944  9.764278  167.0  176.25  184.0   \n",
       "Baixo Risco           129.0  106.906977  6.313975   95.0  102.00  107.0   \n",
       "Risco Moderado Alto   106.0  152.320755  7.023155  140.0  147.25  152.0   \n",
       "Risco Moderado Baixo  121.0  127.570248  6.971163  115.0  122.00  128.0   \n",
       "\n",
       "                        75%    max  \n",
       "nome_cluster                        \n",
       "Alto Risco            191.0  203.0  \n",
       "Baixo Risco           112.0  118.0  \n",
       "Risco Moderado Alto   157.0  169.0  \n",
       "Risco Moderado Baixo  133.0  142.0  "
      ]
     },
     "execution_count": 400,
     "metadata": {},
     "output_type": "execute_result"
    }
   ],
   "source": [
    "# verifica os valores de idade por cluster\n",
    "cluster_clientes.groupby('nome_cluster')['peso'].describe()"
   ]
  },
  {
   "cell_type": "code",
   "execution_count": 402,
   "metadata": {},
   "outputs": [
    {
     "data": {
      "text/html": [
       "<div>\n",
       "<style scoped>\n",
       "    .dataframe tbody tr th:only-of-type {\n",
       "        vertical-align: middle;\n",
       "    }\n",
       "\n",
       "    .dataframe tbody tr th {\n",
       "        vertical-align: top;\n",
       "    }\n",
       "\n",
       "    .dataframe thead th {\n",
       "        text-align: right;\n",
       "    }\n",
       "</style>\n",
       "<table border=\"1\" class=\"dataframe\">\n",
       "  <thead>\n",
       "    <tr style=\"text-align: right;\">\n",
       "      <th></th>\n",
       "      <th>count</th>\n",
       "      <th>mean</th>\n",
       "      <th>std</th>\n",
       "      <th>min</th>\n",
       "      <th>25%</th>\n",
       "      <th>50%</th>\n",
       "      <th>75%</th>\n",
       "      <th>max</th>\n",
       "    </tr>\n",
       "    <tr>\n",
       "      <th>nome_cluster</th>\n",
       "      <th></th>\n",
       "      <th></th>\n",
       "      <th></th>\n",
       "      <th></th>\n",
       "      <th></th>\n",
       "      <th></th>\n",
       "      <th></th>\n",
       "      <th></th>\n",
       "    </tr>\n",
       "  </thead>\n",
       "  <tbody>\n",
       "    <tr>\n",
       "      <th>Alto Risco</th>\n",
       "      <td>142.0</td>\n",
       "      <td>218.985915</td>\n",
       "      <td>8.086400</td>\n",
       "      <td>204.0</td>\n",
       "      <td>213.00</td>\n",
       "      <td>220.0</td>\n",
       "      <td>225.0</td>\n",
       "      <td>235.0</td>\n",
       "    </tr>\n",
       "    <tr>\n",
       "      <th>Baixo Risco</th>\n",
       "      <td>129.0</td>\n",
       "      <td>119.573643</td>\n",
       "      <td>10.292424</td>\n",
       "      <td>102.0</td>\n",
       "      <td>110.00</td>\n",
       "      <td>120.0</td>\n",
       "      <td>129.0</td>\n",
       "      <td>138.0</td>\n",
       "    </tr>\n",
       "    <tr>\n",
       "      <th>Risco Moderado Alto</th>\n",
       "      <td>106.0</td>\n",
       "      <td>186.037736</td>\n",
       "      <td>9.760879</td>\n",
       "      <td>168.0</td>\n",
       "      <td>177.25</td>\n",
       "      <td>187.5</td>\n",
       "      <td>194.0</td>\n",
       "      <td>203.0</td>\n",
       "    </tr>\n",
       "    <tr>\n",
       "      <th>Risco Moderado Baixo</th>\n",
       "      <td>121.0</td>\n",
       "      <td>154.206612</td>\n",
       "      <td>9.776602</td>\n",
       "      <td>138.0</td>\n",
       "      <td>146.00</td>\n",
       "      <td>155.0</td>\n",
       "      <td>163.0</td>\n",
       "      <td>171.0</td>\n",
       "    </tr>\n",
       "  </tbody>\n",
       "</table>\n",
       "</div>"
      ],
      "text/plain": [
       "                      count        mean        std    min     25%    50%  \\\n",
       "nome_cluster                                                               \n",
       "Alto Risco            142.0  218.985915   8.086400  204.0  213.00  220.0   \n",
       "Baixo Risco           129.0  119.573643  10.292424  102.0  110.00  120.0   \n",
       "Risco Moderado Alto   106.0  186.037736   9.760879  168.0  177.25  187.5   \n",
       "Risco Moderado Baixo  121.0  154.206612   9.776602  138.0  146.00  155.0   \n",
       "\n",
       "                        75%    max  \n",
       "nome_cluster                        \n",
       "Alto Risco            225.0  235.0  \n",
       "Baixo Risco           129.0  138.0  \n",
       "Risco Moderado Alto   194.0  203.0  \n",
       "Risco Moderado Baixo  163.0  171.0  "
      ]
     },
     "execution_count": 402,
     "metadata": {},
     "output_type": "execute_result"
    }
   ],
   "source": [
    "# verifica os valores de estados por cluster\n",
    "cluster_clientes.groupby('nome_cluster')['colesterol'].describe()\n"
   ]
  },
  {
   "cell_type": "code",
   "execution_count": 408,
   "metadata": {},
   "outputs": [
    {
     "data": {
      "text/html": [
       "<div>\n",
       "<style scoped>\n",
       "    .dataframe tbody tr th:only-of-type {\n",
       "        vertical-align: middle;\n",
       "    }\n",
       "\n",
       "    .dataframe tbody tr th {\n",
       "        vertical-align: top;\n",
       "    }\n",
       "\n",
       "    .dataframe thead th {\n",
       "        text-align: right;\n",
       "    }\n",
       "</style>\n",
       "<table border=\"1\" class=\"dataframe\">\n",
       "  <thead>\n",
       "    <tr style=\"text-align: right;\">\n",
       "      <th></th>\n",
       "      <th>cod_cliente</th>\n",
       "      <th>genero</th>\n",
       "      <th>idade</th>\n",
       "      <th>peso</th>\n",
       "      <th>colesterol</th>\n",
       "      <th>id_estado</th>\n",
       "      <th>estado</th>\n",
       "      <th>sigla_estado</th>\n",
       "      <th>pais</th>\n",
       "      <th>cluster</th>\n",
       "      <th>nome_cluster</th>\n",
       "    </tr>\n",
       "  </thead>\n",
       "  <tbody>\n",
       "    <tr>\n",
       "      <th>63</th>\n",
       "      <td>69</td>\n",
       "      <td>Feminino</td>\n",
       "      <td>35</td>\n",
       "      <td>187.0</td>\n",
       "      <td>221</td>\n",
       "      <td>21</td>\n",
       "      <td>Rio Grande do Sul</td>\n",
       "      <td>RS</td>\n",
       "      <td>Brasil</td>\n",
       "      <td>0</td>\n",
       "      <td>Alto Risco</td>\n",
       "    </tr>\n",
       "    <tr>\n",
       "      <th>97</th>\n",
       "      <td>106</td>\n",
       "      <td>Masculino</td>\n",
       "      <td>56</td>\n",
       "      <td>179.0</td>\n",
       "      <td>216</td>\n",
       "      <td>21</td>\n",
       "      <td>Rio Grande do Sul</td>\n",
       "      <td>RS</td>\n",
       "      <td>Brasil</td>\n",
       "      <td>0</td>\n",
       "      <td>Alto Risco</td>\n",
       "    </tr>\n",
       "    <tr>\n",
       "      <th>235</th>\n",
       "      <td>261</td>\n",
       "      <td>Masculino</td>\n",
       "      <td>34</td>\n",
       "      <td>171.0</td>\n",
       "      <td>205</td>\n",
       "      <td>21</td>\n",
       "      <td>Rio Grande do Sul</td>\n",
       "      <td>RS</td>\n",
       "      <td>Brasil</td>\n",
       "      <td>0</td>\n",
       "      <td>Alto Risco</td>\n",
       "    </tr>\n",
       "    <tr>\n",
       "      <th>282</th>\n",
       "      <td>313</td>\n",
       "      <td>Masculino</td>\n",
       "      <td>33</td>\n",
       "      <td>169.0</td>\n",
       "      <td>204</td>\n",
       "      <td>21</td>\n",
       "      <td>Rio Grande do Sul</td>\n",
       "      <td>RS</td>\n",
       "      <td>Brasil</td>\n",
       "      <td>0</td>\n",
       "      <td>Alto Risco</td>\n",
       "    </tr>\n",
       "    <tr>\n",
       "      <th>304</th>\n",
       "      <td>335</td>\n",
       "      <td>Masculino</td>\n",
       "      <td>68</td>\n",
       "      <td>182.0</td>\n",
       "      <td>222</td>\n",
       "      <td>21</td>\n",
       "      <td>Rio Grande do Sul</td>\n",
       "      <td>RS</td>\n",
       "      <td>Brasil</td>\n",
       "      <td>0</td>\n",
       "      <td>Alto Risco</td>\n",
       "    </tr>\n",
       "    <tr>\n",
       "      <th>340</th>\n",
       "      <td>373</td>\n",
       "      <td>Feminino</td>\n",
       "      <td>38</td>\n",
       "      <td>194.0</td>\n",
       "      <td>224</td>\n",
       "      <td>21</td>\n",
       "      <td>Rio Grande do Sul</td>\n",
       "      <td>RS</td>\n",
       "      <td>Brasil</td>\n",
       "      <td>0</td>\n",
       "      <td>Alto Risco</td>\n",
       "    </tr>\n",
       "    <tr>\n",
       "      <th>341</th>\n",
       "      <td>374</td>\n",
       "      <td>Masculino</td>\n",
       "      <td>18</td>\n",
       "      <td>177.0</td>\n",
       "      <td>214</td>\n",
       "      <td>21</td>\n",
       "      <td>Rio Grande do Sul</td>\n",
       "      <td>RS</td>\n",
       "      <td>Brasil</td>\n",
       "      <td>0</td>\n",
       "      <td>Alto Risco</td>\n",
       "    </tr>\n",
       "    <tr>\n",
       "      <th>342</th>\n",
       "      <td>376</td>\n",
       "      <td>Masculino</td>\n",
       "      <td>50</td>\n",
       "      <td>172.0</td>\n",
       "      <td>205</td>\n",
       "      <td>21</td>\n",
       "      <td>Rio Grande do Sul</td>\n",
       "      <td>RS</td>\n",
       "      <td>Brasil</td>\n",
       "      <td>0</td>\n",
       "      <td>Alto Risco</td>\n",
       "    </tr>\n",
       "    <tr>\n",
       "      <th>365</th>\n",
       "      <td>403</td>\n",
       "      <td>Feminino</td>\n",
       "      <td>45</td>\n",
       "      <td>175.0</td>\n",
       "      <td>215</td>\n",
       "      <td>21</td>\n",
       "      <td>Rio Grande do Sul</td>\n",
       "      <td>RS</td>\n",
       "      <td>Brasil</td>\n",
       "      <td>0</td>\n",
       "      <td>Alto Risco</td>\n",
       "    </tr>\n",
       "    <tr>\n",
       "      <th>370</th>\n",
       "      <td>409</td>\n",
       "      <td>Masculino</td>\n",
       "      <td>19</td>\n",
       "      <td>180.0</td>\n",
       "      <td>219</td>\n",
       "      <td>21</td>\n",
       "      <td>Rio Grande do Sul</td>\n",
       "      <td>RS</td>\n",
       "      <td>Brasil</td>\n",
       "      <td>0</td>\n",
       "      <td>Alto Risco</td>\n",
       "    </tr>\n",
       "  </tbody>\n",
       "</table>\n",
       "</div>"
      ],
      "text/plain": [
       "     cod_cliente     genero  idade   peso  colesterol  id_estado  \\\n",
       "63            69   Feminino     35  187.0         221         21   \n",
       "97           106  Masculino     56  179.0         216         21   \n",
       "235          261  Masculino     34  171.0         205         21   \n",
       "282          313  Masculino     33  169.0         204         21   \n",
       "304          335  Masculino     68  182.0         222         21   \n",
       "340          373   Feminino     38  194.0         224         21   \n",
       "341          374  Masculino     18  177.0         214         21   \n",
       "342          376  Masculino     50  172.0         205         21   \n",
       "365          403   Feminino     45  175.0         215         21   \n",
       "370          409  Masculino     19  180.0         219         21   \n",
       "\n",
       "                estado sigla_estado    pais  cluster nome_cluster  \n",
       "63   Rio Grande do Sul           RS  Brasil        0   Alto Risco  \n",
       "97   Rio Grande do Sul           RS  Brasil        0   Alto Risco  \n",
       "235  Rio Grande do Sul           RS  Brasil        0   Alto Risco  \n",
       "282  Rio Grande do Sul           RS  Brasil        0   Alto Risco  \n",
       "304  Rio Grande do Sul           RS  Brasil        0   Alto Risco  \n",
       "340  Rio Grande do Sul           RS  Brasil        0   Alto Risco  \n",
       "341  Rio Grande do Sul           RS  Brasil        0   Alto Risco  \n",
       "342  Rio Grande do Sul           RS  Brasil        0   Alto Risco  \n",
       "365  Rio Grande do Sul           RS  Brasil        0   Alto Risco  \n",
       "370  Rio Grande do Sul           RS  Brasil        0   Alto Risco  "
      ]
     },
     "execution_count": 408,
     "metadata": {},
     "output_type": "execute_result"
    }
   ],
   "source": [
    "cluster_clientes.query('nome_cluster == \"Alto Risco\" & estado == \"Rio Grande do Sul\"')"
   ]
  },
  {
   "cell_type": "code",
   "execution_count": 403,
   "metadata": {},
   "outputs": [
    {
     "data": {
      "text/html": [
       "<div>\n",
       "<style scoped>\n",
       "    .dataframe tbody tr th:only-of-type {\n",
       "        vertical-align: middle;\n",
       "    }\n",
       "\n",
       "    .dataframe tbody tr th {\n",
       "        vertical-align: top;\n",
       "    }\n",
       "\n",
       "    .dataframe thead th {\n",
       "        text-align: right;\n",
       "    }\n",
       "</style>\n",
       "<table border=\"1\" class=\"dataframe\">\n",
       "  <thead>\n",
       "    <tr style=\"text-align: right;\">\n",
       "      <th></th>\n",
       "      <th></th>\n",
       "      <th>count</th>\n",
       "      <th>mean</th>\n",
       "      <th>std</th>\n",
       "      <th>min</th>\n",
       "      <th>25%</th>\n",
       "      <th>50%</th>\n",
       "      <th>75%</th>\n",
       "      <th>max</th>\n",
       "    </tr>\n",
       "    <tr>\n",
       "      <th>nome_cluster</th>\n",
       "      <th>genero</th>\n",
       "      <th></th>\n",
       "      <th></th>\n",
       "      <th></th>\n",
       "      <th></th>\n",
       "      <th></th>\n",
       "      <th></th>\n",
       "      <th></th>\n",
       "      <th></th>\n",
       "    </tr>\n",
       "  </thead>\n",
       "  <tbody>\n",
       "    <tr>\n",
       "      <th rowspan=\"2\" valign=\"top\">Alto Risco</th>\n",
       "      <th>Feminino</th>\n",
       "      <td>60.0</td>\n",
       "      <td>220.650000</td>\n",
       "      <td>6.456701</td>\n",
       "      <td>204.0</td>\n",
       "      <td>216.75</td>\n",
       "      <td>221.0</td>\n",
       "      <td>225.0</td>\n",
       "      <td>235.0</td>\n",
       "    </tr>\n",
       "    <tr>\n",
       "      <th>Masculino</th>\n",
       "      <td>82.0</td>\n",
       "      <td>217.768293</td>\n",
       "      <td>8.939162</td>\n",
       "      <td>204.0</td>\n",
       "      <td>211.00</td>\n",
       "      <td>219.0</td>\n",
       "      <td>225.0</td>\n",
       "      <td>235.0</td>\n",
       "    </tr>\n",
       "    <tr>\n",
       "      <th rowspan=\"2\" valign=\"top\">Baixo Risco</th>\n",
       "      <th>Feminino</th>\n",
       "      <td>58.0</td>\n",
       "      <td>122.448276</td>\n",
       "      <td>10.372319</td>\n",
       "      <td>102.0</td>\n",
       "      <td>113.00</td>\n",
       "      <td>124.5</td>\n",
       "      <td>130.0</td>\n",
       "      <td>138.0</td>\n",
       "    </tr>\n",
       "    <tr>\n",
       "      <th>Masculino</th>\n",
       "      <td>71.0</td>\n",
       "      <td>117.225352</td>\n",
       "      <td>9.677953</td>\n",
       "      <td>102.0</td>\n",
       "      <td>109.00</td>\n",
       "      <td>115.0</td>\n",
       "      <td>126.0</td>\n",
       "      <td>136.0</td>\n",
       "    </tr>\n",
       "    <tr>\n",
       "      <th rowspan=\"2\" valign=\"top\">Risco Moderado Alto</th>\n",
       "      <th>Feminino</th>\n",
       "      <td>59.0</td>\n",
       "      <td>186.152542</td>\n",
       "      <td>10.182496</td>\n",
       "      <td>168.0</td>\n",
       "      <td>176.00</td>\n",
       "      <td>189.0</td>\n",
       "      <td>194.5</td>\n",
       "      <td>201.0</td>\n",
       "    </tr>\n",
       "    <tr>\n",
       "      <th>Masculino</th>\n",
       "      <td>47.0</td>\n",
       "      <td>185.893617</td>\n",
       "      <td>9.311596</td>\n",
       "      <td>172.0</td>\n",
       "      <td>178.00</td>\n",
       "      <td>184.0</td>\n",
       "      <td>192.5</td>\n",
       "      <td>203.0</td>\n",
       "    </tr>\n",
       "    <tr>\n",
       "      <th rowspan=\"2\" valign=\"top\">Risco Moderado Baixo</th>\n",
       "      <th>Feminino</th>\n",
       "      <td>63.0</td>\n",
       "      <td>156.571429</td>\n",
       "      <td>9.596226</td>\n",
       "      <td>138.0</td>\n",
       "      <td>149.00</td>\n",
       "      <td>156.0</td>\n",
       "      <td>166.0</td>\n",
       "      <td>171.0</td>\n",
       "    </tr>\n",
       "    <tr>\n",
       "      <th>Masculino</th>\n",
       "      <td>58.0</td>\n",
       "      <td>151.637931</td>\n",
       "      <td>9.389614</td>\n",
       "      <td>138.0</td>\n",
       "      <td>143.25</td>\n",
       "      <td>151.5</td>\n",
       "      <td>158.0</td>\n",
       "      <td>168.0</td>\n",
       "    </tr>\n",
       "  </tbody>\n",
       "</table>\n",
       "</div>"
      ],
      "text/plain": [
       "                                count        mean        std    min     25%  \\\n",
       "nome_cluster         genero                                                   \n",
       "Alto Risco           Feminino    60.0  220.650000   6.456701  204.0  216.75   \n",
       "                     Masculino   82.0  217.768293   8.939162  204.0  211.00   \n",
       "Baixo Risco          Feminino    58.0  122.448276  10.372319  102.0  113.00   \n",
       "                     Masculino   71.0  117.225352   9.677953  102.0  109.00   \n",
       "Risco Moderado Alto  Feminino    59.0  186.152542  10.182496  168.0  176.00   \n",
       "                     Masculino   47.0  185.893617   9.311596  172.0  178.00   \n",
       "Risco Moderado Baixo Feminino    63.0  156.571429   9.596226  138.0  149.00   \n",
       "                     Masculino   58.0  151.637931   9.389614  138.0  143.25   \n",
       "\n",
       "                                  50%    75%    max  \n",
       "nome_cluster         genero                          \n",
       "Alto Risco           Feminino   221.0  225.0  235.0  \n",
       "                     Masculino  219.0  225.0  235.0  \n",
       "Baixo Risco          Feminino   124.5  130.0  138.0  \n",
       "                     Masculino  115.0  126.0  136.0  \n",
       "Risco Moderado Alto  Feminino   189.0  194.5  201.0  \n",
       "                     Masculino  184.0  192.5  203.0  \n",
       "Risco Moderado Baixo Feminino   156.0  166.0  171.0  \n",
       "                     Masculino  151.5  158.0  168.0  "
      ]
     },
     "execution_count": 403,
     "metadata": {},
     "output_type": "execute_result"
    }
   ],
   "source": [
    "cluster_clientes.groupby(['nome_cluster', 'genero'])['colesterol'].describe()\n"
   ]
  },
  {
   "cell_type": "markdown",
   "metadata": {},
   "source": [
    "## exportando dados"
   ]
  },
  {
   "cell_type": "code",
   "execution_count": 404,
   "metadata": {},
   "outputs": [
    {
     "data": {
      "text/html": [
       "<div>\n",
       "<style scoped>\n",
       "    .dataframe tbody tr th:only-of-type {\n",
       "        vertical-align: middle;\n",
       "    }\n",
       "\n",
       "    .dataframe tbody tr th {\n",
       "        vertical-align: top;\n",
       "    }\n",
       "\n",
       "    .dataframe thead th {\n",
       "        text-align: right;\n",
       "    }\n",
       "</style>\n",
       "<table border=\"1\" class=\"dataframe\">\n",
       "  <thead>\n",
       "    <tr style=\"text-align: right;\">\n",
       "      <th></th>\n",
       "      <th>cod_cliente</th>\n",
       "      <th>genero</th>\n",
       "      <th>idade</th>\n",
       "      <th>peso</th>\n",
       "      <th>colesterol</th>\n",
       "      <th>id_estado</th>\n",
       "      <th>estado</th>\n",
       "      <th>sigla_estado</th>\n",
       "      <th>pais</th>\n",
       "      <th>cluster</th>\n",
       "      <th>nome_cluster</th>\n",
       "    </tr>\n",
       "  </thead>\n",
       "  <tbody>\n",
       "    <tr>\n",
       "      <th>0</th>\n",
       "      <td>1</td>\n",
       "      <td>Masculino</td>\n",
       "      <td>17</td>\n",
       "      <td>102.0</td>\n",
       "      <td>111</td>\n",
       "      <td>23</td>\n",
       "      <td>Roraima</td>\n",
       "      <td>RR</td>\n",
       "      <td>Brasil</td>\n",
       "      <td>2</td>\n",
       "      <td>Baixo Risco</td>\n",
       "    </tr>\n",
       "    <tr>\n",
       "      <th>1</th>\n",
       "      <td>2</td>\n",
       "      <td>Masculino</td>\n",
       "      <td>28</td>\n",
       "      <td>115.0</td>\n",
       "      <td>135</td>\n",
       "      <td>7</td>\n",
       "      <td>Distrito Federal</td>\n",
       "      <td>DF</td>\n",
       "      <td>Brasil</td>\n",
       "      <td>2</td>\n",
       "      <td>Baixo Risco</td>\n",
       "    </tr>\n",
       "    <tr>\n",
       "      <th>2</th>\n",
       "      <td>3</td>\n",
       "      <td>Masculino</td>\n",
       "      <td>62</td>\n",
       "      <td>115.0</td>\n",
       "      <td>136</td>\n",
       "      <td>4</td>\n",
       "      <td>Amazonas</td>\n",
       "      <td>AM</td>\n",
       "      <td>Brasil</td>\n",
       "      <td>2</td>\n",
       "      <td>Baixo Risco</td>\n",
       "    </tr>\n",
       "    <tr>\n",
       "      <th>3</th>\n",
       "      <td>5</td>\n",
       "      <td>Masculino</td>\n",
       "      <td>44</td>\n",
       "      <td>130.0</td>\n",
       "      <td>158</td>\n",
       "      <td>26</td>\n",
       "      <td>Sergipe</td>\n",
       "      <td>SE</td>\n",
       "      <td>Brasil</td>\n",
       "      <td>1</td>\n",
       "      <td>Risco Moderado Baixo</td>\n",
       "    </tr>\n",
       "    <tr>\n",
       "      <th>4</th>\n",
       "      <td>6</td>\n",
       "      <td>Masculino</td>\n",
       "      <td>17</td>\n",
       "      <td>198.0</td>\n",
       "      <td>227</td>\n",
       "      <td>8</td>\n",
       "      <td>Espírito Santo</td>\n",
       "      <td>ES</td>\n",
       "      <td>Brasil</td>\n",
       "      <td>0</td>\n",
       "      <td>Alto Risco</td>\n",
       "    </tr>\n",
       "  </tbody>\n",
       "</table>\n",
       "</div>"
      ],
      "text/plain": [
       "   cod_cliente     genero  idade   peso  colesterol  id_estado  \\\n",
       "0            1  Masculino     17  102.0         111         23   \n",
       "1            2  Masculino     28  115.0         135          7   \n",
       "2            3  Masculino     62  115.0         136          4   \n",
       "3            5  Masculino     44  130.0         158         26   \n",
       "4            6  Masculino     17  198.0         227          8   \n",
       "\n",
       "             estado sigla_estado    pais  cluster          nome_cluster  \n",
       "0           Roraima           RR  Brasil        2           Baixo Risco  \n",
       "1  Distrito Federal           DF  Brasil        2           Baixo Risco  \n",
       "2          Amazonas           AM  Brasil        2           Baixo Risco  \n",
       "3           Sergipe           SE  Brasil        1  Risco Moderado Baixo  \n",
       "4    Espírito Santo           ES  Brasil        0            Alto Risco  "
      ]
     },
     "execution_count": 404,
     "metadata": {},
     "output_type": "execute_result"
    }
   ],
   "source": [
    "cluster_clientes.head()"
   ]
  },
  {
   "cell_type": "code",
   "execution_count": 405,
   "metadata": {},
   "outputs": [],
   "source": [
    "cluster_clientes.to_csv('classificacao_clientes.csv', sep=';', encoding='latin1')"
   ]
  },
  {
   "cell_type": "code",
   "execution_count": null,
   "metadata": {},
   "outputs": [],
   "source": []
  },
  {
   "cell_type": "code",
   "execution_count": null,
   "metadata": {},
   "outputs": [],
   "source": []
  },
  {
   "cell_type": "code",
   "execution_count": null,
   "metadata": {},
   "outputs": [],
   "source": []
  }
 ],
 "metadata": {
  "interpreter": {
   "hash": "719f0f2d0c2702864ab18f7a72f21755e9791673ee5d9a3af6eb0965a44fd2a2"
  },
  "kernelspec": {
   "display_name": "Python 3.10.4 64-bit",
   "language": "python",
   "name": "python3"
  },
  "language_info": {
   "codemirror_mode": {
    "name": "ipython",
    "version": 3
   },
   "file_extension": ".py",
   "mimetype": "text/x-python",
   "name": "python",
   "nbconvert_exporter": "python",
   "pygments_lexer": "ipython3",
   "version": "3.10.4"
  },
  "orig_nbformat": 4
 },
 "nbformat": 4,
 "nbformat_minor": 2
}
